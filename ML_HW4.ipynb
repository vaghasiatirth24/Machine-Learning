{
  "nbformat": 4,
  "nbformat_minor": 0,
  "metadata": {
    "colab": {
      "name": "ML_HW4.ipynb",
      "provenance": [],
      "collapsed_sections": [],
      "include_colab_link": true
    },
    "kernelspec": {
      "name": "python3",
      "display_name": "Python 3"
    }
  },
  "cells": [
    {
      "cell_type": "markdown",
      "metadata": {
        "id": "view-in-github",
        "colab_type": "text"
      },
      "source": [
        "<a href=\"https://colab.research.google.com/github/vaghasiatirth24/Machine-Learning/blob/main/ML_HW4.ipynb\" target=\"_parent\"><img src=\"https://colab.research.google.com/assets/colab-badge.svg\" alt=\"Open In Colab\"/></a>"
      ]
    },
    {
      "cell_type": "code",
      "metadata": {
        "id": "4TRSXgrbqsa5"
      },
      "source": [
        "import pandas as pd\r\n",
        "import matplotlib.pyplot as plt\r\n",
        "import seaborn as sns;\r\n",
        "from scipy.spatial import distance\r\n",
        "from sklearn.preprocessing import StandardScaler\r\n",
        "import time\r\n",
        "import math\r\n",
        "\r\n",
        "sns.set()\r\n",
        "import numpy as np\r\n",
        "from collections import defaultdict\r\n",
        "\r\n",
        "from numpy import dot\r\n",
        "from numpy.linalg import norm"
      ],
      "execution_count": 81,
      "outputs": []
    },
    {
      "cell_type": "code",
      "metadata": {
        "id": "E9XYQ_xlms68"
      },
      "source": [
        "def lineToTuple(line):\n",
        "    cleanLine = line.strip()\n",
        "    cleanLine = cleanLine.replace('\"', '')\n",
        "    lineList = cleanLine.split(\",\")\n",
        "    stringsToNumbers(lineList)\n",
        "    lineTuple = tuple(lineList)\n",
        "    return lineTuple"
      ],
      "execution_count": 82,
      "outputs": []
    },
    {
      "cell_type": "code",
      "metadata": {
        "id": "LhKEulTQmt09"
      },
      "source": [
        "def stringsToNumbers(myList):\n",
        "    for i in range(len(myList)):\n",
        "        if (isValidNumberString(myList[i])):\n",
        "            myList[i] = float(myList[i])\n"
      ],
      "execution_count": 83,
      "outputs": []
    },
    {
      "cell_type": "code",
      "metadata": {
        "id": "jQn_02a5mvlP"
      },
      "source": [
        "def isValidNumberString(s):\n",
        "  if len(s) == 0:\n",
        "    return False\n",
        "  if  len(s) > 1 and s[0] == \"-\":\n",
        "      s = s[1:]\n",
        "  for c in s:\n",
        "    if c not in \"0123456789.\":\n",
        "      return False\n",
        "  return True"
      ],
      "execution_count": 84,
      "outputs": []
    },
    {
      "cell_type": "code",
      "metadata": {
        "id": "dE0DdQBupBjp"
      },
      "source": [
        "data = [\r\n",
        "    [3, 5],\r\n",
        "    [3, 4],\r\n",
        "    [2, 8],\r\n",
        "    [2, 3],\r\n",
        "    [6, 2],\r\n",
        "    [6, 4],\r\n",
        "    [7, 3],\r\n",
        "    [7, 4],\r\n",
        "    [8, 5],\r\n",
        "    [7, 6]\r\n",
        "]"
      ],
      "execution_count": 85,
      "outputs": []
    },
    {
      "cell_type": "code",
      "metadata": {
        "id": "wyIeiADP6trN"
      },
      "source": [
        "def loadCSV(fileName):\r\n",
        "    fileHandler = open(fileName, \"rt\")\r\n",
        "    lines = fileHandler.readlines()\r\n",
        "    fileHandler.close()\r\n",
        "    del lines[0]\r\n",
        "    dataset = []\r\n",
        "    for line in lines:\r\n",
        "        instance = lineToTuple(line)\r\n",
        "        dataset.append(instance)\r\n",
        "    return dataset"
      ],
      "execution_count": 86,
      "outputs": []
    },
    {
      "cell_type": "code",
      "metadata": {
        "id": "IIuFIU_DlDdx"
      },
      "source": [
        "def euclidean_distance(point1, point2):\r\n",
        "    distance = 0\r\n",
        "    for a,b in zip(point1, point2):\r\n",
        "        distance += pow((a-b), 2)\r\n",
        "    return math.sqrt(distance)"
      ],
      "execution_count": 87,
      "outputs": []
    },
    {
      "cell_type": "code",
      "metadata": {
        "id": "7QDoEsrylCrU"
      },
      "source": [
        "def manhattan_distance(point1, point2):\r\n",
        "    distance = 0\r\n",
        "    for a,b in zip(point1, point2):\r\n",
        "        distance += abs(a-b)\r\n",
        "    return distance"
      ],
      "execution_count": 88,
      "outputs": []
    },
    {
      "cell_type": "code",
      "metadata": {
        "id": "KVlTe5NA_zGW"
      },
      "source": [
        "def cosine_similarity(point1, point2):\r\n",
        "  A = np.array(point1)\r\n",
        "  B = np.array(point2)\r\n",
        "  dist = 1 - np.dot(A,B)/(np.linalg.norm(A)*np.linalg.norm(B))\r\n",
        "  return dist"
      ],
      "execution_count": 89,
      "outputs": []
    },
    {
      "cell_type": "code",
      "metadata": {
        "id": "UjfbSlLEBgky"
      },
      "source": [
        "def jaccard(A, B):\r\n",
        "    return 1 - (np.sum(np.minimum(A,B), axis = 0)/np.sum(np.maximum(A, B), axis = 0)) "
      ],
      "execution_count": 90,
      "outputs": []
    },
    {
      "cell_type": "code",
      "metadata": {
        "id": "Yw8FfXMjrq4I"
      },
      "source": [
        "def calculate_centroid(cluster):\r\n",
        "  n = len(cluster[0])\r\n",
        "  if isinstance(cluster[0][-1], str):\r\n",
        "    centroid = [0]*(n-1)\r\n",
        "\r\n",
        "    for i in range(n-1):\r\n",
        "      for point in cluster:\r\n",
        "        centroid[i] += point[i]\r\n",
        "      centroid[i] = centroid[i]/len(cluster)\r\n",
        "  else:\r\n",
        "    centroid = [0]*n\r\n",
        "\r\n",
        "    for i in range(n):\r\n",
        "      for point in cluster:\r\n",
        "        centroid[i] += point[i]\r\n",
        "      centroid[i] = centroid[i]/len(cluster)\r\n",
        "\r\n",
        "  \r\n",
        "  return centroid"
      ],
      "execution_count": 91,
      "outputs": []
    },
    {
      "cell_type": "code",
      "metadata": {
        "id": "8HJKAWshzkxh"
      },
      "source": [
        "def draw_nd_scatter(clusters, centroid_centers):\r\n",
        "  for key in clusters:\r\n",
        "    x = []\r\n",
        "    y = []\r\n",
        "    cluster = clusters[key]\r\n",
        "    for c in cluster:\r\n",
        "      x.append(c[0])\r\n",
        "      y.append(c[1])\r\n",
        "    plt.scatter(x, y, marker='o')\r\n",
        "\r\n",
        "  for point in centroid_centers:\r\n",
        "    plt.scatter(point[0], point[1], marker='+')\r\n",
        "  \r\n",
        "  plt.show()"
      ],
      "execution_count": 92,
      "outputs": []
    },
    {
      "cell_type": "code",
      "metadata": {
        "id": "tMtRv0cMRW8e"
      },
      "source": [
        "def label_cluster(cluster):\r\n",
        "  cl = defaultdict(int)\r\n",
        "  for point in cluster:\r\n",
        "    cl[point[-1]] += 1\r\n",
        "  return cl"
      ],
      "execution_count": 93,
      "outputs": []
    },
    {
      "cell_type": "code",
      "metadata": {
        "id": "HzRFjO0bltnu"
      },
      "source": [
        "class KMeans:\r\n",
        "  def __init__(self, n_clusters=3, max_iters=300, init_centroids=None, d_func=euclidean_distance, show_sse=False, show_first_centroid=False, centroid_stop=True):\r\n",
        "    self.n_clusters = n_clusters\r\n",
        "    self.max_iters = max_iters\r\n",
        "    self.init_centroids = init_centroids\r\n",
        "    self.d_func = d_func\r\n",
        "    self.sse_list = []\r\n",
        "    self.show_first_centroid = show_first_centroid\r\n",
        "    self.show_sse = show_sse\r\n",
        "    self.centroid_stop = centroid_stop\r\n",
        "\r\n",
        "  def fit(self, data):\r\n",
        "    start = time.time()\r\n",
        "    if self.init_centroids is None:\r\n",
        "      random_choice = np.random.choice(range(len(data)), self.n_clusters, replace=False)\r\n",
        "      centroids = []\r\n",
        "\r\n",
        "      for choice in random_choice:\r\n",
        "        if isinstance(data[choice][-1], str):\r\n",
        "          centroids.append(data[choice][:-1])\r\n",
        "        else:\r\n",
        "          centroids.append(data[choice])\r\n",
        "      \r\n",
        "      self.init_centroids = centroids\r\n",
        "    \r\n",
        "    for loop in range(self.max_iters): \r\n",
        "      clusters = defaultdict(list)\r\n",
        "      sse = 0\r\n",
        "\r\n",
        "\r\n",
        "      for point in data:\r\n",
        "        temp_centroid = -1\r\n",
        "        min_dist = 99999999\r\n",
        "        for i, centroid in enumerate(self.init_centroids):\r\n",
        "          if isinstance(point[-1], str):\r\n",
        "            d = self.d_func(point[:-1], centroid)\r\n",
        "          else:\r\n",
        "            d = self.d_func(point, centroid)\r\n",
        "          if d < min_dist:\r\n",
        "            temp_centroid = i\r\n",
        "            min_dist = d\r\n",
        "        \r\n",
        "        clusters[temp_centroid].append(point)\r\n",
        "\r\n",
        "      prev_centroids = self.init_centroids.copy()\r\n",
        "      for key in clusters.keys():\r\n",
        "        cluster = clusters[key]\r\n",
        "        self.init_centroids[key] = calculate_centroid(cluster)\r\n",
        "\r\n",
        "      if loop == 1 and self.show_first_centroid == True:\r\n",
        "        print(\"Centroids after first iteration: \", self.init_centroids)\r\n",
        "\r\n",
        "      if self.centroid_stop == True and self.init_centroids == prev_centroids:\r\n",
        "        break\r\n",
        "\r\n",
        "      for key in clusters.keys():\r\n",
        "        cluster = clusters[key]\r\n",
        "        ce = self.init_centroids[key]\r\n",
        "\r\n",
        "        for p in cluster:\r\n",
        "          sse += euclidean_distance(ce, p)\r\n",
        "\r\n",
        "      if self.show_sse == True and loop > 1 and self.sse_list[-1] <= sse:\r\n",
        "        self.sse_list.pop()\r\n",
        "        break\r\n",
        "\r\n",
        "      self.sse_list.append(sse)\r\n",
        "\r\n",
        "    print(\"Time taken:\", time.time() - start)\r\n",
        "    print(\"Number of iterations:\", loop)\r\n",
        "    return [self.init_centroids, clusters]\r\n"
      ],
      "execution_count": 94,
      "outputs": []
    },
    {
      "cell_type": "markdown",
      "metadata": {
        "id": "-TakniSsxcOe"
      },
      "source": [
        "Task 1: Question 1"
      ]
    },
    {
      "cell_type": "code",
      "metadata": {
        "colab": {
          "base_uri": "https://localhost:8080/",
          "height": 354
        },
        "id": "55z_GwnQnTx6",
        "outputId": "472e1e0f-32bf-4b38-c189-7eb3dc65334e"
      },
      "source": [
        "kmeans = KMeans(n_clusters=2, init_centroids=[[4, 6],[5, 4]], d_func=manhattan_distance, show_first_centroid=True)\r\n",
        "[centroid_centers, clusters] = kmeans.fit(data)\r\n",
        "\r\n",
        "for key in clusters:\r\n",
        "  print(\"Final Cluster\", key+1, \":\", clusters[key])\r\n",
        "\r\n",
        "draw_nd_scatter(clusters, centroid_centers)"
      ],
      "execution_count": 95,
      "outputs": [
        {
          "output_type": "stream",
          "text": [
            "Centroids after first iteration:  [[4.0, 6.333333333333333], [5.571428571428571, 3.5714285714285716]]\n",
            "Time taken: 0.0006241798400878906\n",
            "Number of iterations: 1\n",
            "Final Cluster 1 : [[3, 5], [2, 8], [7, 6]]\n",
            "Final Cluster 2 : [[3, 4], [2, 3], [6, 2], [6, 4], [7, 3], [7, 4], [8, 5]]\n"
          ],
          "name": "stdout"
        },
        {
          "output_type": "display_data",
          "data": {
            "image/png": "[encoded data removed]",
            "text/plain": [
              "<Figure size 432x288 with 1 Axes>"
            ]
          },
          "metadata": {
            "tags": []
          }
        }
      ]
    },
    {
      "cell_type": "markdown",
      "metadata": {
        "id": "-48aVMcPxduf"
      },
      "source": [
        "Task 1: Question 2"
      ]
    },
    {
      "cell_type": "code",
      "metadata": {
        "colab": {
          "base_uri": "https://localhost:8080/",
          "height": 372
        },
        "id": "eRBt5WtXswOo",
        "outputId": "cb75a906-00e2-44ac-e3ce-c98085b2f841"
      },
      "source": [
        "kmeans = KMeans(n_clusters=2, init_centroids=[[4, 6],[5, 4]], d_func=euclidean_distance,show_first_centroid=True)\r\n",
        "[centroid_centers, clusters] = kmeans.fit(data)\r\n",
        "\r\n",
        "for key in clusters:\r\n",
        "  print(\"Final Cluster\", key+1, \":\", clusters[key])\r\n",
        "\r\n",
        "draw_nd_scatter(clusters, centroid_centers)\r\n",
        "print(kmeans.sse_list)"
      ],
      "execution_count": 96,
      "outputs": [
        {
          "output_type": "stream",
          "text": [
            "Centroids after first iteration:  [[2.5, 5.0], [6.833333333333333, 4.0]]\n",
            "Time taken: 0.0009088516235351562\n",
            "Number of iterations: 2\n",
            "Final Cluster 1 : [[3, 5], [3, 4], [2, 8], [2, 3]]\n",
            "Final Cluster 2 : [[6, 2], [6, 4], [7, 3], [7, 4], [8, 5], [7, 6]]\n"
          ],
          "name": "stdout"
        },
        {
          "output_type": "display_data",
          "data": {
            "image/png": "[encoded data removed]",
            "text/plain": [
              "<Figure size 432x288 with 1 Axes>"
            ]
          },
          "metadata": {
            "tags": []
          }
        },
        {
          "output_type": "stream",
          "text": [
            "[19.699965039247633, 14.444951661105069]\n"
          ],
          "name": "stdout"
        }
      ]
    },
    {
      "cell_type": "markdown",
      "metadata": {
        "id": "9FZs8kdWxfGn"
      },
      "source": [
        " Task 1: Question 3"
      ]
    },
    {
      "cell_type": "code",
      "metadata": {
        "colab": {
          "base_uri": "https://localhost:8080/",
          "height": 354
        },
        "id": "dR78lq_Ct_IE",
        "outputId": "96902103-4cb4-4df5-d939-9fce243bdcb3"
      },
      "source": [
        "kmeans = KMeans(n_clusters=2, init_centroids=[[3, 3], [8, 3]], d_func=manhattan_distance, show_first_centroid=True)\r\n",
        "[centroid_centers, clusters] = kmeans.fit(data)\r\n",
        "\r\n",
        "for key in clusters:\r\n",
        "  print(\"Final Cluster\", key+1, \":\", clusters[key])\r\n",
        "\r\n",
        "draw_nd_scatter(clusters, centroid_centers)"
      ],
      "execution_count": 97,
      "outputs": [
        {
          "output_type": "stream",
          "text": [
            "Centroids after first iteration:  [[2.5, 5.0], [6.833333333333333, 4.0]]\n",
            "Time taken: 0.00027632713317871094\n",
            "Number of iterations: 1\n",
            "Final Cluster 1 : [[3, 5], [3, 4], [2, 8], [2, 3]]\n",
            "Final Cluster 2 : [[6, 2], [6, 4], [7, 3], [7, 4], [8, 5], [7, 6]]\n"
          ],
          "name": "stdout"
        },
        {
          "output_type": "display_data",
          "data": {
            "image/png": "[encoded data removed]",
            "text/plain": [
              "<Figure size 432x288 with 1 Axes>"
            ]
          },
          "metadata": {
            "tags": []
          }
        }
      ]
    },
    {
      "cell_type": "markdown",
      "metadata": {
        "id": "Bb7Djyrgxgi3"
      },
      "source": [
        "Task 1: Question 4"
      ]
    },
    {
      "cell_type": "code",
      "metadata": {
        "colab": {
          "base_uri": "https://localhost:8080/",
          "height": 354
        },
        "id": "OqZnduuxuxN5",
        "outputId": "81150ac8-0d5f-45bc-b7d3-cf88a249904d"
      },
      "source": [
        "kmeans = KMeans(n_clusters=2, init_centroids=[[3, 2], [4, 8]], d_func=manhattan_distance, show_first_centroid=True)\r\n",
        "[centroid_centers, clusters] = kmeans.fit(data)\r\n",
        "\r\n",
        "for key in clusters:\r\n",
        "  print(\"Final Cluster\", key+1, \":\", clusters[key])\r\n",
        "\r\n",
        "draw_nd_scatter(clusters, centroid_centers)"
      ],
      "execution_count": 98,
      "outputs": [
        {
          "output_type": "stream",
          "text": [
            "Centroids after first iteration:  [[4.857142857142857, 3.5714285714285716], [5.666666666666667, 6.333333333333333]]\n",
            "Time taken: 0.0004036426544189453\n",
            "Number of iterations: 1\n",
            "Final Cluster 1 : [[3, 5], [3, 4], [2, 3], [6, 2], [6, 4], [7, 3], [7, 4]]\n",
            "Final Cluster 2 : [[2, 8], [8, 5], [7, 6]]\n"
          ],
          "name": "stdout"
        },
        {
          "output_type": "display_data",
          "data": {
            "image/png": "[encoded data removed]",
            "text/plain": [
              "<Figure size 432x288 with 1 Axes>"
            ]
          },
          "metadata": {
            "tags": []
          }
        }
      ]
    },
    {
      "cell_type": "markdown",
      "metadata": {
        "id": "0u8mXL8YAjZe"
      },
      "source": [
        "Task 2:"
      ]
    },
    {
      "cell_type": "code",
      "metadata": {
        "colab": {
          "base_uri": "https://localhost:8080/"
        },
        "id": "EkcSlSK2rikI",
        "outputId": "a0e295ff-634d-4fcf-8eca-7bf835bcaa11"
      },
      "source": [
        "!wget https://archive.ics.uci.edu/ml/machine-learning-databases/iris/iris.data"
      ],
      "execution_count": 99,
      "outputs": [
        {
          "output_type": "stream",
          "text": [
            "--2021-03-15 03:49:27--  https://archive.ics.uci.edu/ml/machine-learning-databases/iris/iris.data\n",
            "Resolving archive.ics.uci.edu (archive.ics.uci.edu)... 128.195.10.252\n",
            "Connecting to archive.ics.uci.edu (archive.ics.uci.edu)|128.195.10.252|:443... connected.\n",
            "HTTP request sent, awaiting response... 200 OK\n",
            "Length: 4551 (4.4K) [application/x-httpd-php]\n",
            "Saving to: ‘iris.data.1’\n",
            "\n",
            "\riris.data.1           0%[                    ]       0  --.-KB/s               \riris.data.1         100%[===================>]   4.44K  --.-KB/s    in 0s      \n",
            "\n",
            "2021-03-15 03:49:27 (163 MB/s) - ‘iris.data.1’ saved [4551/4551]\n",
            "\n"
          ],
          "name": "stdout"
        }
      ]
    },
    {
      "cell_type": "code",
      "metadata": {
        "id": "kxM5IkCV4VQ8"
      },
      "source": [
        "raw_iris_data = loadCSV('iris.data')"
      ],
      "execution_count": 100,
      "outputs": []
    },
    {
      "cell_type": "code",
      "metadata": {
        "colab": {
          "base_uri": "https://localhost:8080/"
        },
        "id": "k337056L7BpS",
        "outputId": "0722c5ce-7ba8-40b8-b105-f0fa0b787a09"
      },
      "source": [
        "iris_data = []\r\n",
        "del raw_iris_data[-1]\r\n",
        "\r\n",
        "for row in raw_iris_data:\r\n",
        "  iris_data.append([\r\n",
        "    row[0],\r\n",
        "    row[1],\r\n",
        "    row[2],\r\n",
        "    row[3],\r\n",
        "    row[4]\r\n",
        "  ])\r\n",
        "\r\n",
        "print(iris_data)"
      ],
      "execution_count": 101,
      "outputs": [
        {
          "output_type": "stream",
          "text": [
            "[[4.9, 3.0, 1.4, 0.2, 'Iris-setosa'], [4.7, 3.2, 1.3, 0.2, 'Iris-setosa'], [4.6, 3.1, 1.5, 0.2, 'Iris-setosa'], [5.0, 3.6, 1.4, 0.2, 'Iris-setosa'], [5.4, 3.9, 1.7, 0.4, 'Iris-setosa'], [4.6, 3.4, 1.4, 0.3, 'Iris-setosa'], [5.0, 3.4, 1.5, 0.2, 'Iris-setosa'], [4.4, 2.9, 1.4, 0.2, 'Iris-setosa'], [4.9, 3.1, 1.5, 0.1, 'Iris-setosa'], [5.4, 3.7, 1.5, 0.2, 'Iris-setosa'], [4.8, 3.4, 1.6, 0.2, 'Iris-setosa'], [4.8, 3.0, 1.4, 0.1, 'Iris-setosa'], [4.3, 3.0, 1.1, 0.1, 'Iris-setosa'], [5.8, 4.0, 1.2, 0.2, 'Iris-setosa'], [5.7, 4.4, 1.5, 0.4, 'Iris-setosa'], [5.4, 3.9, 1.3, 0.4, 'Iris-setosa'], [5.1, 3.5, 1.4, 0.3, 'Iris-setosa'], [5.7, 3.8, 1.7, 0.3, 'Iris-setosa'], [5.1, 3.8, 1.5, 0.3, 'Iris-setosa'], [5.4, 3.4, 1.7, 0.2, 'Iris-setosa'], [5.1, 3.7, 1.5, 0.4, 'Iris-setosa'], [4.6, 3.6, 1.0, 0.2, 'Iris-setosa'], [5.1, 3.3, 1.7, 0.5, 'Iris-setosa'], [4.8, 3.4, 1.9, 0.2, 'Iris-setosa'], [5.0, 3.0, 1.6, 0.2, 'Iris-setosa'], [5.0, 3.4, 1.6, 0.4, 'Iris-setosa'], [5.2, 3.5, 1.5, 0.2, 'Iris-setosa'], [5.2, 3.4, 1.4, 0.2, 'Iris-setosa'], [4.7, 3.2, 1.6, 0.2, 'Iris-setosa'], [4.8, 3.1, 1.6, 0.2, 'Iris-setosa'], [5.4, 3.4, 1.5, 0.4, 'Iris-setosa'], [5.2, 4.1, 1.5, 0.1, 'Iris-setosa'], [5.5, 4.2, 1.4, 0.2, 'Iris-setosa'], [4.9, 3.1, 1.5, 0.1, 'Iris-setosa'], [5.0, 3.2, 1.2, 0.2, 'Iris-setosa'], [5.5, 3.5, 1.3, 0.2, 'Iris-setosa'], [4.9, 3.1, 1.5, 0.1, 'Iris-setosa'], [4.4, 3.0, 1.3, 0.2, 'Iris-setosa'], [5.1, 3.4, 1.5, 0.2, 'Iris-setosa'], [5.0, 3.5, 1.3, 0.3, 'Iris-setosa'], [4.5, 2.3, 1.3, 0.3, 'Iris-setosa'], [4.4, 3.2, 1.3, 0.2, 'Iris-setosa'], [5.0, 3.5, 1.6, 0.6, 'Iris-setosa'], [5.1, 3.8, 1.9, 0.4, 'Iris-setosa'], [4.8, 3.0, 1.4, 0.3, 'Iris-setosa'], [5.1, 3.8, 1.6, 0.2, 'Iris-setosa'], [4.6, 3.2, 1.4, 0.2, 'Iris-setosa'], [5.3, 3.7, 1.5, 0.2, 'Iris-setosa'], [5.0, 3.3, 1.4, 0.2, 'Iris-setosa'], [7.0, 3.2, 4.7, 1.4, 'Iris-versicolor'], [6.4, 3.2, 4.5, 1.5, 'Iris-versicolor'], [6.9, 3.1, 4.9, 1.5, 'Iris-versicolor'], [5.5, 2.3, 4.0, 1.3, 'Iris-versicolor'], [6.5, 2.8, 4.6, 1.5, 'Iris-versicolor'], [5.7, 2.8, 4.5, 1.3, 'Iris-versicolor'], [6.3, 3.3, 4.7, 1.6, 'Iris-versicolor'], [4.9, 2.4, 3.3, 1.0, 'Iris-versicolor'], [6.6, 2.9, 4.6, 1.3, 'Iris-versicolor'], [5.2, 2.7, 3.9, 1.4, 'Iris-versicolor'], [5.0, 2.0, 3.5, 1.0, 'Iris-versicolor'], [5.9, 3.0, 4.2, 1.5, 'Iris-versicolor'], [6.0, 2.2, 4.0, 1.0, 'Iris-versicolor'], [6.1, 2.9, 4.7, 1.4, 'Iris-versicolor'], [5.6, 2.9, 3.6, 1.3, 'Iris-versicolor'], [6.7, 3.1, 4.4, 1.4, 'Iris-versicolor'], [5.6, 3.0, 4.5, 1.5, 'Iris-versicolor'], [5.8, 2.7, 4.1, 1.0, 'Iris-versicolor'], [6.2, 2.2, 4.5, 1.5, 'Iris-versicolor'], [5.6, 2.5, 3.9, 1.1, 'Iris-versicolor'], [5.9, 3.2, 4.8, 1.8, 'Iris-versicolor'], [6.1, 2.8, 4.0, 1.3, 'Iris-versicolor'], [6.3, 2.5, 4.9, 1.5, 'Iris-versicolor'], [6.1, 2.8, 4.7, 1.2, 'Iris-versicolor'], [6.4, 2.9, 4.3, 1.3, 'Iris-versicolor'], [6.6, 3.0, 4.4, 1.4, 'Iris-versicolor'], [6.8, 2.8, 4.8, 1.4, 'Iris-versicolor'], [6.7, 3.0, 5.0, 1.7, 'Iris-versicolor'], [6.0, 2.9, 4.5, 1.5, 'Iris-versicolor'], [5.7, 2.6, 3.5, 1.0, 'Iris-versicolor'], [5.5, 2.4, 3.8, 1.1, 'Iris-versicolor'], [5.5, 2.4, 3.7, 1.0, 'Iris-versicolor'], [5.8, 2.7, 3.9, 1.2, 'Iris-versicolor'], [6.0, 2.7, 5.1, 1.6, 'Iris-versicolor'], [5.4, 3.0, 4.5, 1.5, 'Iris-versicolor'], [6.0, 3.4, 4.5, 1.6, 'Iris-versicolor'], [6.7, 3.1, 4.7, 1.5, 'Iris-versicolor'], [6.3, 2.3, 4.4, 1.3, 'Iris-versicolor'], [5.6, 3.0, 4.1, 1.3, 'Iris-versicolor'], [5.5, 2.5, 4.0, 1.3, 'Iris-versicolor'], [5.5, 2.6, 4.4, 1.2, 'Iris-versicolor'], [6.1, 3.0, 4.6, 1.4, 'Iris-versicolor'], [5.8, 2.6, 4.0, 1.2, 'Iris-versicolor'], [5.0, 2.3, 3.3, 1.0, 'Iris-versicolor'], [5.6, 2.7, 4.2, 1.3, 'Iris-versicolor'], [5.7, 3.0, 4.2, 1.2, 'Iris-versicolor'], [5.7, 2.9, 4.2, 1.3, 'Iris-versicolor'], [6.2, 2.9, 4.3, 1.3, 'Iris-versicolor'], [5.1, 2.5, 3.0, 1.1, 'Iris-versicolor'], [5.7, 2.8, 4.1, 1.3, 'Iris-versicolor'], [6.3, 3.3, 6.0, 2.5, 'Iris-virginica'], [5.8, 2.7, 5.1, 1.9, 'Iris-virginica'], [7.1, 3.0, 5.9, 2.1, 'Iris-virginica'], [6.3, 2.9, 5.6, 1.8, 'Iris-virginica'], [6.5, 3.0, 5.8, 2.2, 'Iris-virginica'], [7.6, 3.0, 6.6, 2.1, 'Iris-virginica'], [4.9, 2.5, 4.5, 1.7, 'Iris-virginica'], [7.3, 2.9, 6.3, 1.8, 'Iris-virginica'], [6.7, 2.5, 5.8, 1.8, 'Iris-virginica'], [7.2, 3.6, 6.1, 2.5, 'Iris-virginica'], [6.5, 3.2, 5.1, 2.0, 'Iris-virginica'], [6.4, 2.7, 5.3, 1.9, 'Iris-virginica'], [6.8, 3.0, 5.5, 2.1, 'Iris-virginica'], [5.7, 2.5, 5.0, 2.0, 'Iris-virginica'], [5.8, 2.8, 5.1, 2.4, 'Iris-virginica'], [6.4, 3.2, 5.3, 2.3, 'Iris-virginica'], [6.5, 3.0, 5.5, 1.8, 'Iris-virginica'], [7.7, 3.8, 6.7, 2.2, 'Iris-virginica'], [7.7, 2.6, 6.9, 2.3, 'Iris-virginica'], [6.0, 2.2, 5.0, 1.5, 'Iris-virginica'], [6.9, 3.2, 5.7, 2.3, 'Iris-virginica'], [5.6, 2.8, 4.9, 2.0, 'Iris-virginica'], [7.7, 2.8, 6.7, 2.0, 'Iris-virginica'], [6.3, 2.7, 4.9, 1.8, 'Iris-virginica'], [6.7, 3.3, 5.7, 2.1, 'Iris-virginica'], [7.2, 3.2, 6.0, 1.8, 'Iris-virginica'], [6.2, 2.8, 4.8, 1.8, 'Iris-virginica'], [6.1, 3.0, 4.9, 1.8, 'Iris-virginica'], [6.4, 2.8, 5.6, 2.1, 'Iris-virginica'], [7.2, 3.0, 5.8, 1.6, 'Iris-virginica'], [7.4, 2.8, 6.1, 1.9, 'Iris-virginica'], [7.9, 3.8, 6.4, 2.0, 'Iris-virginica'], [6.4, 2.8, 5.6, 2.2, 'Iris-virginica'], [6.3, 2.8, 5.1, 1.5, 'Iris-virginica'], [6.1, 2.6, 5.6, 1.4, 'Iris-virginica'], [7.7, 3.0, 6.1, 2.3, 'Iris-virginica'], [6.3, 3.4, 5.6, 2.4, 'Iris-virginica'], [6.4, 3.1, 5.5, 1.8, 'Iris-virginica'], [6.0, 3.0, 4.8, 1.8, 'Iris-virginica'], [6.9, 3.1, 5.4, 2.1, 'Iris-virginica'], [6.7, 3.1, 5.6, 2.4, 'Iris-virginica'], [6.9, 3.1, 5.1, 2.3, 'Iris-virginica'], [5.8, 2.7, 5.1, 1.9, 'Iris-virginica'], [6.8, 3.2, 5.9, 2.3, 'Iris-virginica'], [6.7, 3.3, 5.7, 2.5, 'Iris-virginica'], [6.7, 3.0, 5.2, 2.3, 'Iris-virginica'], [6.3, 2.5, 5.0, 1.9, 'Iris-virginica'], [6.5, 3.0, 5.2, 2.0, 'Iris-virginica'], [6.2, 3.4, 5.4, 2.3, 'Iris-virginica'], [5.9, 3.0, 5.1, 1.8, 'Iris-virginica']]\n"
          ],
          "name": "stdout"
        }
      ]
    },
    {
      "cell_type": "code",
      "metadata": {
        "id": "I7hIxCqN6DpQ"
      },
      "source": [
        "original_labels = dict(label_cluster(iris_data))"
      ],
      "execution_count": 102,
      "outputs": []
    },
    {
      "cell_type": "markdown",
      "metadata": {
        "id": "XQRgI9oVtps_"
      },
      "source": [
        "Questions 1,2,3:"
      ]
    },
    {
      "cell_type": "code",
      "metadata": {
        "colab": {
          "base_uri": "https://localhost:8080/",
          "height": 374
        },
        "id": "X8qGPKFN7wUn",
        "outputId": "0633e722-f24a-4038-fec4-834349ab53c3"
      },
      "source": [
        "kmeans = KMeans()\r\n",
        "[centroid_centers, clusters] = kmeans.fit(iris_data)\r\n",
        "\r\n",
        "labels = {'Iris-setosa': 0, 'Iris-versicolor': 0, 'Iris-virginica': 0}\r\n",
        "\r\n",
        "for key in clusters:\r\n",
        "  d = dict(label_cluster(clusters[key]))\r\n",
        "  mx = 0\r\n",
        "  s = 0\r\n",
        "  label = \"\"\r\n",
        "  for k in d:\r\n",
        "    s += d[k]\r\n",
        "    if d[k] > mx:\r\n",
        "      mx = d[k]\r\n",
        "      label = k\r\n",
        "  labels[label] = mx\r\n",
        "\r\n",
        "draw_nd_scatter(clusters, centroid_centers)\r\n",
        "\r\n",
        "print(\"SSE =\",kmeans.sse_list)\r\n",
        "print(\"Original Labels: \", original_labels)\r\n",
        "print(\"Predicted Labels: \", labels)\r\n",
        "\r\n",
        "total = 0\r\n",
        "mismatch = 0\r\n",
        "\r\n",
        "for l in original_labels:\r\n",
        "  total += original_labels[l]\r\n",
        "  mismatch += abs(original_labels[l] - labels[l])\r\n",
        "\r\n",
        "accuracy = (total - mismatch) / total\r\n",
        "\r\n",
        "print(\"Accuracy =\",accuracy)"
      ],
      "execution_count": 103,
      "outputs": [
        {
          "output_type": "stream",
          "text": [
            "Time taken: 0.006669521331787109\n",
            "Number of iterations: 6\n"
          ],
          "name": "stdout"
        },
        {
          "output_type": "display_data",
          "data": {
            "image/png": "[encoded data removed]",
            "text/plain": [
              "<Figure size 432x288 with 1 Axes>"
            ]
          },
          "metadata": {
            "tags": []
          }
        },
        {
          "output_type": "stream",
          "text": [
            "SSE = [122.87432218300357, 122.17452984211882, 122.30149842310874, 123.4907566339156, 123.6646998684171, 123.65467412012842]\n",
            "Original Labels:  {'Iris-setosa': 49, 'Iris-versicolor': 50, 'Iris-virginica': 50}\n",
            "Predicted Labels:  {'Iris-setosa': 29, 'Iris-versicolor': 0, 'Iris-virginica': 50}\n",
            "Accuracy = 0.5302013422818792\n"
          ],
          "name": "stdout"
        }
      ]
    },
    {
      "cell_type": "code",
      "metadata": {
        "colab": {
          "base_uri": "https://localhost:8080/",
          "height": 374
        },
        "id": "qCdhW-IC_WWA",
        "outputId": "d81ef89a-b15d-496b-b19f-c850269ac0d3"
      },
      "source": [
        "kmeans = KMeans(d_func=cosine_similarity)\r\n",
        "[centroid_centers, clusters] = kmeans.fit(iris_data)\r\n",
        "\r\n",
        "labels = {'Iris-setosa': 0, 'Iris-versicolor': 0, 'Iris-virginica': 0}\r\n",
        "\r\n",
        "for key in clusters:\r\n",
        "  d = dict(label_cluster(clusters[key]))\r\n",
        "  mx = 0\r\n",
        "  s = 0\r\n",
        "  label = \"\"\r\n",
        "  for k in d:\r\n",
        "    s += d[k]\r\n",
        "    if d[k] > mx:\r\n",
        "      mx = d[k]\r\n",
        "      label = k\r\n",
        "  labels[label] = mx\r\n",
        "\r\n",
        "draw_nd_scatter(clusters, centroid_centers)\r\n",
        "\r\n",
        "print(\"SSE =\",kmeans.sse_list)\r\n",
        "print(\"Original Labels: \", original_labels)\r\n",
        "print(\"Predicted Labels: \", labels)\r\n",
        "\r\n",
        "total = 0\r\n",
        "mismatch = 0\r\n",
        "\r\n",
        "for l in original_labels:\r\n",
        "  total += original_labels[l]\r\n",
        "  mismatch += abs(original_labels[l] - labels[l])\r\n",
        "\r\n",
        "accuracy = (total - mismatch) / total\r\n",
        "\r\n",
        "print(\"Accuracy =\",accuracy)"
      ],
      "execution_count": 104,
      "outputs": [
        {
          "output_type": "stream",
          "text": [
            "Time taken: 0.05747866630554199\n",
            "Number of iterations: 6\n"
          ],
          "name": "stdout"
        },
        {
          "output_type": "display_data",
          "data": {
            "image/png": "[encoded data removed]",
            "text/plain": [
              "<Figure size 432x288 with 1 Axes>"
            ]
          },
          "metadata": {
            "tags": []
          }
        },
        {
          "output_type": "stream",
          "text": [
            "SSE = [212.1707165934719, 126.07557691628614, 118.78565139633173, 110.34236433248935, 103.86954291453813, 101.42234214063515]\n",
            "Original Labels:  {'Iris-setosa': 49, 'Iris-versicolor': 50, 'Iris-virginica': 50}\n",
            "Predicted Labels:  {'Iris-setosa': 49, 'Iris-versicolor': 46, 'Iris-virginica': 50}\n",
            "Accuracy = 0.9731543624161074\n"
          ],
          "name": "stdout"
        }
      ]
    },
    {
      "cell_type": "code",
      "metadata": {
        "colab": {
          "base_uri": "https://localhost:8080/",
          "height": 374
        },
        "id": "gUrLGg2qAnNV",
        "outputId": "24712893-c0a5-4a24-d735-bee34c1a34af"
      },
      "source": [
        "kmeans = KMeans(d_func=jaccard)\r\n",
        "[centroid_centers, clusters] = kmeans.fit(iris_data)\r\n",
        "\r\n",
        "labels = {'Iris-setosa': 0, 'Iris-versicolor': 0, 'Iris-virginica': 0}\r\n",
        "\r\n",
        "for key in clusters:\r\n",
        "  d = dict(label_cluster(clusters[key]))\r\n",
        "  mx = 0\r\n",
        "  s = 0\r\n",
        "  label = \"\"\r\n",
        "  for k in d:\r\n",
        "    s += d[k]\r\n",
        "    if d[k] > mx:\r\n",
        "      mx = d[k]\r\n",
        "      label = k\r\n",
        "  labels[label] = mx\r\n",
        "\r\n",
        "draw_nd_scatter(clusters, centroid_centers)\r\n",
        "\r\n",
        "print(\"SSE =\",kmeans.sse_list)\r\n",
        "print(\"Original Labels: \", original_labels)\r\n",
        "print(\"Predicted Labels: \", labels)\r\n",
        "\r\n",
        "total = 0\r\n",
        "mismatch = 0\r\n",
        "\r\n",
        "for l in original_labels:\r\n",
        "  total += original_labels[l]\r\n",
        "  mismatch += abs(original_labels[l] - labels[l])\r\n",
        "\r\n",
        "accuracy = (total - mismatch) / total\r\n",
        "\r\n",
        "print(\"Accuracy =\",accuracy)"
      ],
      "execution_count": 105,
      "outputs": [
        {
          "output_type": "stream",
          "text": [
            "Time taken: 0.08054852485656738\n",
            "Number of iterations: 6\n"
          ],
          "name": "stdout"
        },
        {
          "output_type": "display_data",
          "data": {
            "image/png": "[encoded data removed]",
            "text/plain": [
              "<Figure size 432x288 with 1 Axes>"
            ]
          },
          "metadata": {
            "tags": []
          }
        },
        {
          "output_type": "stream",
          "text": [
            "SSE = [125.23438633452663, 122.2274158574224, 121.77664491200503, 121.38904779254548, 121.27836278221008, 121.259693322016]\n",
            "Original Labels:  {'Iris-setosa': 49, 'Iris-versicolor': 50, 'Iris-virginica': 50}\n",
            "Predicted Labels:  {'Iris-setosa': 26, 'Iris-versicolor': 50, 'Iris-virginica': 0}\n",
            "Accuracy = 0.5100671140939598\n"
          ],
          "name": "stdout"
        }
      ]
    },
    {
      "cell_type": "markdown",
      "metadata": {
        "id": "PvLt73F3sudR"
      },
      "source": [
        "Question 4:"
      ]
    },
    {
      "cell_type": "markdown",
      "metadata": {
        "id": "rut6yiEGswDw"
      },
      "source": [
        "1st Stopping Criteria: No Change in Centroids"
      ]
    },
    {
      "cell_type": "markdown",
      "metadata": {
        "id": "TbUJLhQds0Pg"
      },
      "source": [
        ""
      ]
    },
    {
      "cell_type": "code",
      "metadata": {
        "colab": {
          "base_uri": "https://localhost:8080/"
        },
        "id": "UYk4kl2irF01",
        "outputId": "b4bd484e-d14a-47f1-ca23-896101d4dbfe"
      },
      "source": [
        "kmeans = KMeans(centroid_stop=True)\r\n",
        "[centroid_centers, clusters] = kmeans.fit(iris_data)\r\n",
        "print(kmeans.sse_list)"
      ],
      "execution_count": 106,
      "outputs": [
        {
          "output_type": "stream",
          "text": [
            "Time taken: 0.01366734504699707\n",
            "Number of iterations: 12\n",
            "[127.88307166178396, 119.36087529307375, 105.31114686601735, 99.69301049665143, 98.3773878546629, 98.09248458845802, 97.78012517424725, 97.53463660880878, 97.36328582285084, 97.22367033834894, 97.08179358885708, 97.19577229449335]\n"
          ],
          "name": "stdout"
        }
      ]
    },
    {
      "cell_type": "markdown",
      "metadata": {
        "id": "zhrgMeFcs2Nw"
      },
      "source": [
        ""
      ]
    },
    {
      "cell_type": "code",
      "metadata": {
        "colab": {
          "base_uri": "https://localhost:8080/"
        },
        "id": "KDhyEBMTsKc0",
        "outputId": "de9a5a14-c0b5-4000-c69c-81cbecd25dda"
      },
      "source": [
        "kmeans = KMeans(centroid_stop=True, d_func=cosine_similarity)\r\n",
        "[centroid_centers, clusters] = kmeans.fit(iris_data)\r\n",
        "print(kmeans.sse_list)"
      ],
      "execution_count": 107,
      "outputs": [
        {
          "output_type": "stream",
          "text": [
            "Time taken: 0.04004859924316406\n",
            "Number of iterations: 3\n",
            "[103.91647163596843, 102.91126049046362, 101.42234214063515]\n"
          ],
          "name": "stdout"
        }
      ]
    },
    {
      "cell_type": "markdown",
      "metadata": {
        "id": "tq1CPYJzs5gq"
      },
      "source": [
        ""
      ]
    },
    {
      "cell_type": "code",
      "metadata": {
        "colab": {
          "base_uri": "https://localhost:8080/"
        },
        "id": "qbwPPAHYsNRb",
        "outputId": "58da1d3e-f61d-405d-8dc8-e93d39c9a830"
      },
      "source": [
        "kmeans = KMeans(centroid_stop=True, d_func=jaccard)\r\n",
        "[centroid_centers, clusters] = kmeans.fit(iris_data)\r\n",
        "print(kmeans.sse_list)"
      ],
      "execution_count": 108,
      "outputs": [
        {
          "output_type": "stream",
          "text": [
            "Time taken: 0.07950139045715332\n",
            "Number of iterations: 6\n",
            "[219.30800900099425, 156.91446747529687, 111.41089683994798, 100.66709178143309, 97.69080308192541, 97.33688011669413]\n"
          ],
          "name": "stdout"
        }
      ]
    },
    {
      "cell_type": "markdown",
      "metadata": {
        "id": "SC2WAuAxs8CX"
      },
      "source": [
        "# Stopping Criteria: Increase in SSE"
      ]
    },
    {
      "cell_type": "markdown",
      "metadata": {
        "id": "I3GZsND2s_HH"
      },
      "source": [
        ""
      ]
    },
    {
      "cell_type": "code",
      "metadata": {
        "colab": {
          "base_uri": "https://localhost:8080/"
        },
        "id": "8yzGnQSEsREx",
        "outputId": "9d252bfd-0169-4daf-d54b-7096a11c914e"
      },
      "source": [
        "kmeans = KMeans(show_sse=True)\r\n",
        "[centroid_centers, clusters] = kmeans.fit(iris_data)\r\n",
        "print(kmeans.sse_list)"
      ],
      "execution_count": 109,
      "outputs": [
        {
          "output_type": "stream",
          "text": [
            "Time taken: 0.007791280746459961\n",
            "Number of iterations: 3\n",
            "[183.27127360506435, 98.94235555752758, 97.17547683463661]\n"
          ],
          "name": "stdout"
        }
      ]
    },
    {
      "cell_type": "markdown",
      "metadata": {
        "id": "8_HA_CQetAfh"
      },
      "source": [
        ""
      ]
    },
    {
      "cell_type": "code",
      "metadata": {
        "colab": {
          "base_uri": "https://localhost:8080/"
        },
        "id": "owXDweTHsXmC",
        "outputId": "a93aed88-1938-481a-dd33-3bc5a2fda881"
      },
      "source": [
        "kmeans = KMeans(show_sse=True, d_func=cosine_similarity)\r\n",
        "[centroid_centers, clusters] = kmeans.fit(iris_data)\r\n",
        "print(kmeans.sse_list)"
      ],
      "execution_count": 110,
      "outputs": [
        {
          "output_type": "stream",
          "text": [
            "Time taken: 0.036322832107543945\n",
            "Number of iterations: 3\n",
            "[106.92814925700964, 103.96806551748617, 102.26916147701174]\n"
          ],
          "name": "stdout"
        }
      ]
    },
    {
      "cell_type": "markdown",
      "metadata": {
        "id": "sNWne4a6tBtw"
      },
      "source": [
        ""
      ]
    },
    {
      "cell_type": "code",
      "metadata": {
        "colab": {
          "base_uri": "https://localhost:8080/"
        },
        "id": "5hfeZnHNsZrU",
        "outputId": "e544b264-bfa2-4ee6-c48f-203a37e2b802"
      },
      "source": [
        "kmeans = KMeans(show_sse=True, d_func=jaccard)\r\n",
        "[centroid_centers, clusters] = kmeans.fit(iris_data)\r\n",
        "print(kmeans.sse_list)"
      ],
      "execution_count": 111,
      "outputs": [
        {
          "output_type": "stream",
          "text": [
            "Time taken: 0.07121634483337402\n",
            "Number of iterations: 4\n",
            "[98.60479437575573, 97.55398106276955, 97.51126911050592]\n"
          ],
          "name": "stdout"
        }
      ]
    },
    {
      "cell_type": "markdown",
      "metadata": {
        "id": "cbmc9fYAtMmQ"
      },
      "source": [
        "## Stopping_Criteria: Max Iterations\r\n",
        "\r\n"
      ]
    },
    {
      "cell_type": "markdown",
      "metadata": {
        "id": "ZZ8hQsYNtV3w"
      },
      "source": [
        "Euclidean:"
      ]
    },
    {
      "cell_type": "code",
      "metadata": {
        "colab": {
          "base_uri": "https://localhost:8080/"
        },
        "id": "XXCulS2VtRrP",
        "outputId": "ed932519-3371-4a2b-ecbf-bd097c4b134b"
      },
      "source": [
        "kmeans = KMeans(max_iters=101, show_sse=False, centroid_stop=False)\r\n",
        "[centroid_centers, clusters] = kmeans.fit(iris_data)\r\n",
        "print(kmeans.sse_list)"
      ],
      "execution_count": 112,
      "outputs": [
        {
          "output_type": "stream",
          "text": [
            "Time taken: 0.10483694076538086\n",
            "Number of iterations: 100\n",
            "[98.26144636840735, 97.41771519933287, 97.17547683463661, 97.17547683463661, 97.17547683463661, 97.17547683463661, 97.17547683463661, 97.17547683463661, 97.17547683463661, 97.17547683463661, 97.17547683463661, 97.17547683463661, 97.17547683463661, 97.17547683463661, 97.17547683463661, 97.17547683463661, 97.17547683463661, 97.17547683463661, 97.17547683463661, 97.17547683463661, 97.17547683463661, 97.17547683463661, 97.17547683463661, 97.17547683463661, 97.17547683463661, 97.17547683463661, 97.17547683463661, 97.17547683463661, 97.17547683463661, 97.17547683463661, 97.17547683463661, 97.17547683463661, 97.17547683463661, 97.17547683463661, 97.17547683463661, 97.17547683463661, 97.17547683463661, 97.17547683463661, 97.17547683463661, 97.17547683463661, 97.17547683463661, 97.17547683463661, 97.17547683463661, 97.17547683463661, 97.17547683463661, 97.17547683463661, 97.17547683463661, 97.17547683463661, 97.17547683463661, 97.17547683463661, 97.17547683463661, 97.17547683463661, 97.17547683463661, 97.17547683463661, 97.17547683463661, 97.17547683463661, 97.17547683463661, 97.17547683463661, 97.17547683463661, 97.17547683463661, 97.17547683463661, 97.17547683463661, 97.17547683463661, 97.17547683463661, 97.17547683463661, 97.17547683463661, 97.17547683463661, 97.17547683463661, 97.17547683463661, 97.17547683463661, 97.17547683463661, 97.17547683463661, 97.17547683463661, 97.17547683463661, 97.17547683463661, 97.17547683463661, 97.17547683463661, 97.17547683463661, 97.17547683463661, 97.17547683463661, 97.17547683463661, 97.17547683463661, 97.17547683463661, 97.17547683463661, 97.17547683463661, 97.17547683463661, 97.17547683463661, 97.17547683463661, 97.17547683463661, 97.17547683463661, 97.17547683463661, 97.17547683463661, 97.17547683463661, 97.17547683463661, 97.17547683463661, 97.17547683463661, 97.17547683463661, 97.17547683463661, 97.17547683463661, 97.17547683463661, 97.17547683463661]\n"
          ],
          "name": "stdout"
        }
      ]
    },
    {
      "cell_type": "markdown",
      "metadata": {
        "id": "J2n_sguqtXHm"
      },
      "source": [
        "Cosine Similarity:"
      ]
    },
    {
      "cell_type": "code",
      "metadata": {
        "colab": {
          "base_uri": "https://localhost:8080/"
        },
        "id": "VeXQRZvntYdX",
        "outputId": "ec504dfd-a471-4276-c2cf-55b6f94cd6d7"
      },
      "source": [
        "kmeans = KMeans(max_iters=101, show_sse=False, centroid_stop=False, d_func=cosine_similarity)\r\n",
        "[centroid_centers, clusters] = kmeans.fit(iris_data)\r\n",
        "print(kmeans.sse_list)"
      ],
      "execution_count": 113,
      "outputs": [
        {
          "output_type": "stream",
          "text": [
            "Time taken: 0.7430603504180908\n",
            "Number of iterations: 100\n",
            "[125.76072143354912, 125.29129900877265, 125.44399650900382, 125.53666750869704, 125.60060946653442, 125.4230798740872, 125.4230798740872, 125.4230798740872, 125.4230798740872, 125.4230798740872, 125.4230798740872, 125.4230798740872, 125.4230798740872, 125.4230798740872, 125.4230798740872, 125.4230798740872, 125.4230798740872, 125.4230798740872, 125.4230798740872, 125.4230798740872, 125.4230798740872, 125.4230798740872, 125.4230798740872, 125.4230798740872, 125.4230798740872, 125.4230798740872, 125.4230798740872, 125.4230798740872, 125.4230798740872, 125.4230798740872, 125.4230798740872, 125.4230798740872, 125.4230798740872, 125.4230798740872, 125.4230798740872, 125.4230798740872, 125.4230798740872, 125.4230798740872, 125.4230798740872, 125.4230798740872, 125.4230798740872, 125.4230798740872, 125.4230798740872, 125.4230798740872, 125.4230798740872, 125.4230798740872, 125.4230798740872, 125.4230798740872, 125.4230798740872, 125.4230798740872, 125.4230798740872, 125.4230798740872, 125.4230798740872, 125.4230798740872, 125.4230798740872, 125.4230798740872, 125.4230798740872, 125.4230798740872, 125.4230798740872, 125.4230798740872, 125.4230798740872, 125.4230798740872, 125.4230798740872, 125.4230798740872, 125.4230798740872, 125.4230798740872, 125.4230798740872, 125.4230798740872, 125.4230798740872, 125.4230798740872, 125.4230798740872, 125.4230798740872, 125.4230798740872, 125.4230798740872, 125.4230798740872, 125.4230798740872, 125.4230798740872, 125.4230798740872, 125.4230798740872, 125.4230798740872, 125.4230798740872, 125.4230798740872, 125.4230798740872, 125.4230798740872, 125.4230798740872, 125.4230798740872, 125.4230798740872, 125.4230798740872, 125.4230798740872, 125.4230798740872, 125.4230798740872, 125.4230798740872, 125.4230798740872, 125.4230798740872, 125.4230798740872, 125.4230798740872, 125.4230798740872, 125.4230798740872, 125.4230798740872, 125.4230798740872, 125.4230798740872]\n"
          ],
          "name": "stdout"
        }
      ]
    },
    {
      "cell_type": "markdown",
      "metadata": {
        "id": "mxVO6MahtbCv"
      },
      "source": [
        "Jaccard's Similarity:"
      ]
    },
    {
      "cell_type": "code",
      "metadata": {
        "colab": {
          "base_uri": "https://localhost:8080/"
        },
        "id": "i6cZ4laJtdkQ",
        "outputId": "1beb8bc9-b532-4c81-e182-bbe4a567b1e3"
      },
      "source": [
        "kmeans = KMeans(max_iters=101, show_sse=False, centroid_stop=False, d_func=jaccard)\r\n",
        "[centroid_centers, clusters] = kmeans.fit(iris_data)\r\n",
        "print(kmeans.sse_list)"
      ],
      "execution_count": 114,
      "outputs": [
        {
          "output_type": "stream",
          "text": [
            "Time taken: 1.0228936672210693\n",
            "Number of iterations: 100\n",
            "[104.82319252919766, 98.23378013387722, 98.19939498657202, 98.19939498657202, 98.19939498657202, 98.19939498657202, 98.19939498657202, 98.19939498657202, 98.19939498657202, 98.19939498657202, 98.19939498657202, 98.19939498657202, 98.19939498657202, 98.19939498657202, 98.19939498657202, 98.19939498657202, 98.19939498657202, 98.19939498657202, 98.19939498657202, 98.19939498657202, 98.19939498657202, 98.19939498657202, 98.19939498657202, 98.19939498657202, 98.19939498657202, 98.19939498657202, 98.19939498657202, 98.19939498657202, 98.19939498657202, 98.19939498657202, 98.19939498657202, 98.19939498657202, 98.19939498657202, 98.19939498657202, 98.19939498657202, 98.19939498657202, 98.19939498657202, 98.19939498657202, 98.19939498657202, 98.19939498657202, 98.19939498657202, 98.19939498657202, 98.19939498657202, 98.19939498657202, 98.19939498657202, 98.19939498657202, 98.19939498657202, 98.19939498657202, 98.19939498657202, 98.19939498657202, 98.19939498657202, 98.19939498657202, 98.19939498657202, 98.19939498657202, 98.19939498657202, 98.19939498657202, 98.19939498657202, 98.19939498657202, 98.19939498657202, 98.19939498657202, 98.19939498657202, 98.19939498657202, 98.19939498657202, 98.19939498657202, 98.19939498657202, 98.19939498657202, 98.19939498657202, 98.19939498657202, 98.19939498657202, 98.19939498657202, 98.19939498657202, 98.19939498657202, 98.19939498657202, 98.19939498657202, 98.19939498657202, 98.19939498657202, 98.19939498657202, 98.19939498657202, 98.19939498657202, 98.19939498657202, 98.19939498657202, 98.19939498657202, 98.19939498657202, 98.19939498657202, 98.19939498657202, 98.19939498657202, 98.19939498657202, 98.19939498657202, 98.19939498657202, 98.19939498657202, 98.19939498657202, 98.19939498657202, 98.19939498657202, 98.19939498657202, 98.19939498657202, 98.19939498657202, 98.19939498657202, 98.19939498657202, 98.19939498657202, 98.19939498657202, 98.19939498657202]\n"
          ],
          "name": "stdout"
        }
      ]
    },
    {
      "cell_type": "markdown",
      "metadata": {
        "id": "S4ii95L0sg06"
      },
      "source": [
        "Task 3:"
      ]
    },
    {
      "cell_type": "code",
      "metadata": {
        "colab": {
          "base_uri": "https://localhost:8080/"
        },
        "id": "YAqzP56XBp7P",
        "outputId": "9d35916f-6c12-42c8-94a5-e58979602b8e"
      },
      "source": [
        "red = [(4.7, 3.2), (4.9, 3.1), (5.0, 3.0), (4.6, 2.9)]\r\n",
        "blue = [(5.9, 3.2), (6.7, 3.1), (6.0, 3.0), (6.2, 2.8)]\r\n",
        "\r\n",
        "dists = []\r\n",
        "d = 0\r\n",
        "for r in red:\r\n",
        "    for b in blue:\r\n",
        "        dists.append([euclidean_distance(r, b), [r, b]])\r\n",
        "        d += dists[-1][0]\r\n",
        "\r\n",
        "dists.sort()\r\n",
        "\r\n",
        "print(\"Q1: Distance is closest points is {:.4f} between points {} and {}\".format(dists[0][0], dists[0][1][0], dists[0][1][1]))\r\n",
        "print(\"Q2: Distance to farthest points is {:.4f} between points {} and {}\".format(dists[-1][0], dists[-1][1][0], dists[-1][1][1]))\r\n",
        "print(\"Q3: Average of all distances is {:.4f}\".format(d/len(dists)))"
      ],
      "execution_count": 115,
      "outputs": [
        {
          "output_type": "stream",
          "text": [
            "Q1: Distance is closest points is 0.9220 between points (5.0, 3.0) and (5.9, 3.2)\n",
            "Q2: Distance to farthest points is 2.1095 between points (4.6, 2.9) and (6.7, 3.1)\n",
            "Q3: Average of all distances is 1.4129\n"
          ],
          "name": "stdout"
        }
      ]
    },
    {
      "cell_type": "markdown",
      "metadata": {
        "id": "dWqB-M1dsN-A"
      },
      "source": [
        "If even intra-cluster points' distances are considered, then"
      ]
    }
  ]
}