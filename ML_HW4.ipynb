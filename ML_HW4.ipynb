{
  "nbformat": 4,
  "nbformat_minor": 0,
  "metadata": {
    "colab": {
      "name": "ML_HW4.ipynb",
      "provenance": [],
      "collapsed_sections": [],
      "include_colab_link": true
    },
    "kernelspec": {
      "name": "python3",
      "display_name": "Python 3"
    }
  },
  "cells": [
    {
      "cell_type": "markdown",
      "metadata": {
        "id": "view-in-github",
        "colab_type": "text"
      },
      "source": [
        "<a href=\"https://colab.research.google.com/github/vaghasiatirth24/Machine-Learning/blob/main/ML_HW4.ipynb\" target=\"_parent\"><img src=\"https://colab.research.google.com/assets/colab-badge.svg\" alt=\"Open In Colab\"/></a>"
      ]
    },
    {
      "cell_type": "code",
      "metadata": {
        "id": "4TRSXgrbqsa5"
      },
      "source": [
        "import pandas as pd\r\n",
        "import matplotlib.pyplot as plt\r\n",
        "import seaborn as sns;\r\n",
        "from scipy.spatial import distance\r\n",
        "from sklearn.preprocessing import StandardScaler\r\n",
        "import time\r\n",
        "import math\r\n",
        "\r\n",
        "sns.set()\r\n",
        "import numpy as np\r\n",
        "from collections import defaultdict\r\n",
        "\r\n",
        "from numpy import dot\r\n",
        "from numpy.linalg import norm"
      ],
      "execution_count": 525,
      "outputs": []
    },
    {
      "cell_type": "code",
      "metadata": {
        "id": "E9XYQ_xlms68"
      },
      "source": [
        "def lineToTuple(line):\n",
        "    cleanLine = line.strip()\n",
        "    cleanLine = cleanLine.replace('\"', '')\n",
        "    lineList = cleanLine.split(\",\")\n",
        "    stringsToNumbers(lineList)\n",
        "    lineTuple = tuple(lineList)\n",
        "    return lineTuple"
      ],
      "execution_count": 526,
      "outputs": []
    },
    {
      "cell_type": "code",
      "metadata": {
        "id": "LhKEulTQmt09"
      },
      "source": [
        "def stringsToNumbers(myList):\n",
        "    for i in range(len(myList)):\n",
        "        if (isValidNumberString(myList[i])):\n",
        "            myList[i] = float(myList[i])\n"
      ],
      "execution_count": 527,
      "outputs": []
    },
    {
      "cell_type": "code",
      "metadata": {
        "id": "jQn_02a5mvlP"
      },
      "source": [
        "def isValidNumberString(s):\n",
        "  if len(s) == 0:\n",
        "    return False\n",
        "  if  len(s) > 1 and s[0] == \"-\":\n",
        "      s = s[1:]\n",
        "  for c in s:\n",
        "    if c not in \"0123456789.\":\n",
        "      return False\n",
        "  return True"
      ],
      "execution_count": 528,
      "outputs": []
    },
    {
      "cell_type": "code",
      "metadata": {
        "id": "dE0DdQBupBjp"
      },
      "source": [
        "data = [\r\n",
        "    [3, 5],\r\n",
        "    [3, 4],\r\n",
        "    [2, 8],\r\n",
        "    [2, 3],\r\n",
        "    [6, 2],\r\n",
        "    [6, 4],\r\n",
        "    [7, 3],\r\n",
        "    [7, 4],\r\n",
        "    [8, 5],\r\n",
        "    [7, 6]\r\n",
        "]"
      ],
      "execution_count": 529,
      "outputs": []
    },
    {
      "cell_type": "code",
      "metadata": {
        "id": "wyIeiADP6trN"
      },
      "source": [
        "def loadCSV(fileName):\r\n",
        "    fileHandler = open(fileName, \"rt\")\r\n",
        "    lines = fileHandler.readlines()\r\n",
        "    fileHandler.close()\r\n",
        "    del lines[0]\r\n",
        "    dataset = []\r\n",
        "    for line in lines:\r\n",
        "        instance = lineToTuple(line)\r\n",
        "        dataset.append(instance)\r\n",
        "    return dataset"
      ],
      "execution_count": 530,
      "outputs": []
    },
    {
      "cell_type": "code",
      "metadata": {
        "id": "IIuFIU_DlDdx"
      },
      "source": [
        "def euclidean_distance(a, b):\r\n",
        "    distance = 0\r\n",
        "    for a,b in zip(a,b):\r\n",
        "        distance += pow((a-b), 2)\r\n",
        "    return math.sqrt(distance)"
      ],
      "execution_count": 531,
      "outputs": []
    },
    {
      "cell_type": "code",
      "metadata": {
        "id": "7QDoEsrylCrU"
      },
      "source": [
        "def manhattan_distance(a,b):\r\n",
        "    distance = 0\r\n",
        "    for a,b in zip(a,b):\r\n",
        "        distance += abs(a-b)\r\n",
        "    return distance"
      ],
      "execution_count": 532,
      "outputs": []
    },
    {
      "cell_type": "code",
      "metadata": {
        "id": "KVlTe5NA_zGW"
      },
      "source": [
        "def cosine(a,b):\r\n",
        "  A = np.array(a)\r\n",
        "  B = np.array(b)\r\n",
        "  dist = 1 - np.dot(A,B)/(np.linalg.norm(A)*np.linalg.norm(B))\r\n",
        "  return dist"
      ],
      "execution_count": 533,
      "outputs": []
    },
    {
      "cell_type": "code",
      "metadata": {
        "id": "UjfbSlLEBgky"
      },
      "source": [
        "def jaccard(A, B):\r\n",
        "    return 1 - (np.sum(np.minimum(A,B), axis = 0)/np.sum(np.maximum(A, B), axis = 0)) "
      ],
      "execution_count": 534,
      "outputs": []
    },
    {
      "cell_type": "code",
      "metadata": {
        "id": "Yw8FfXMjrq4I"
      },
      "source": [
        "def calculate_centroid(cluster):\r\n",
        "  n = len(cluster[0])\r\n",
        "  if isinstance(cluster[0][-1], str):\r\n",
        "    centroid = [0]*(n-1)\r\n",
        "\r\n",
        "    for i in range(n-1):\r\n",
        "      for point in cluster:\r\n",
        "        centroid[i] += point[i]\r\n",
        "      centroid[i] = centroid[i]/len(cluster)\r\n",
        "  else:\r\n",
        "    centroid = [0]*n\r\n",
        "\r\n",
        "    for i in range(n):\r\n",
        "      for point in cluster:\r\n",
        "        centroid[i] += point[i]\r\n",
        "      centroid[i] = centroid[i]/len(cluster)\r\n",
        "\r\n",
        "  \r\n",
        "  return centroid"
      ],
      "execution_count": 535,
      "outputs": []
    },
    {
      "cell_type": "code",
      "metadata": {
        "id": "8HJKAWshzkxh"
      },
      "source": [
        "import itertools\r\n",
        "def scatter(clusters, centroid_centers):\r\n",
        "  colors = itertools.cycle([\"r\", \"y\",\"m\"])\r\n",
        "  for key in clusters:\r\n",
        "    x = []\r\n",
        "    y = []\r\n",
        "    cluster = clusters[key]\r\n",
        "    for c in cluster:\r\n",
        "      x.append(c[0])\r\n",
        "      y.append(c[1])\r\n",
        "    plt.scatter(x, y, marker='o',color=next(colors))\r\n",
        "\r\n",
        "  for point in centroid_centers:\r\n",
        "    plt.scatter(point[0], point[1], marker='+',color='black')\r\n",
        "  \r\n",
        "  plt.show()"
      ],
      "execution_count": 536,
      "outputs": []
    },
    {
      "cell_type": "code",
      "metadata": {
        "id": "tMtRv0cMRW8e"
      },
      "source": [
        "def label_cluster(cluster):\r\n",
        "  cl = defaultdict(int)\r\n",
        "  for point in cluster:\r\n",
        "    cl[point[-1]] += 1\r\n",
        "  return cl"
      ],
      "execution_count": 537,
      "outputs": []
    },
    {
      "cell_type": "code",
      "metadata": {
        "id": "HzRFjO0bltnu"
      },
      "source": [
        "class KMeans:\r\n",
        "  def __init__(self, n_clusters=3, max_iters=300, init_centroids=None, d_func=euclidean_distance, show_sse=False, show_first_centroid=False, centroid_stop=True):\r\n",
        "    self.n_clusters = n_clusters\r\n",
        "    self.max_iters = max_iters\r\n",
        "    self.init_centroids = init_centroids\r\n",
        "    self.d_func = d_func\r\n",
        "    self.sse_list = []\r\n",
        "    self.show_first_centroid = show_first_centroid\r\n",
        "    self.show_sse = show_sse\r\n",
        "    self.centroid_stop = centroid_stop\r\n",
        "\r\n",
        "  def fit(self, data):\r\n",
        "    start = time.time()\r\n",
        "    if self.init_centroids is None:\r\n",
        "      random_choice = np.random.choice(range(len(data)), self.n_clusters, replace=False)\r\n",
        "      centroids = []\r\n",
        "\r\n",
        "      for choice in random_choice:\r\n",
        "        if isinstance(data[choice][-1], str):\r\n",
        "          centroids.append(data[choice][:-1])\r\n",
        "        else:\r\n",
        "          centroids.append(data[choice])\r\n",
        "      \r\n",
        "      self.init_centroids = centroids\r\n",
        "    \r\n",
        "    for loop in range(self.max_iters): \r\n",
        "      clusters = defaultdict(list)\r\n",
        "      sse = 0\r\n",
        "\r\n",
        "\r\n",
        "      for point in data:\r\n",
        "        temp_centroid = -1\r\n",
        "        min_dist = 99999999\r\n",
        "        for i, centroid in enumerate(self.init_centroids):\r\n",
        "          if isinstance(point[-1], str):\r\n",
        "            d = self.d_func(point[:-1], centroid)\r\n",
        "          else:\r\n",
        "            d = self.d_func(point, centroid)\r\n",
        "          if d < min_dist:\r\n",
        "            temp_centroid = i\r\n",
        "            min_dist = d\r\n",
        "        \r\n",
        "        clusters[temp_centroid].append(point)\r\n",
        "\r\n",
        "      prev_centroids = self.init_centroids.copy()\r\n",
        "      for key in clusters.keys():\r\n",
        "        cluster = clusters[key]\r\n",
        "        self.init_centroids[key] = calculate_centroid(cluster)\r\n",
        "\r\n",
        "      if loop == 1 and self.show_first_centroid == True:\r\n",
        "        print(\"Centroids after first iteration: \", self.init_centroids)\r\n",
        "\r\n",
        "      if self.centroid_stop == True and self.init_centroids == prev_centroids:\r\n",
        "        break\r\n",
        "\r\n",
        "      for key in clusters.keys():\r\n",
        "        cluster = clusters[key]\r\n",
        "        ce = self.init_centroids[key]\r\n",
        "\r\n",
        "        for p in cluster:\r\n",
        "          sse += euclidean_distance(ce, p)\r\n",
        "\r\n",
        "      if self.show_sse == True and loop > 1 and self.sse_list[-1] <= sse:\r\n",
        "        self.sse_list.pop()\r\n",
        "        break\r\n",
        "\r\n",
        "      self.sse_list.append(sse)\r\n",
        "\r\n",
        "    print(\"Time taken:\", time.time() - start)\r\n",
        "    print(\"Number of iterations:\", loop)\r\n",
        "    return [self.init_centroids, clusters]\r\n"
      ],
      "execution_count": 538,
      "outputs": []
    },
    {
      "cell_type": "markdown",
      "metadata": {
        "id": "-TakniSsxcOe"
      },
      "source": [
        "Task 1: Question 1"
      ]
    },
    {
      "cell_type": "code",
      "metadata": {
        "colab": {
          "base_uri": "https://localhost:8080/",
          "height": 354
        },
        "id": "55z_GwnQnTx6",
        "outputId": "eb9cc251-309e-40d2-c767-c10d170c4fa0"
      },
      "source": [
        "kmeans = KMeans(n_clusters=2, init_centroids=[[4, 6],[5, 4]], d_func=manhattan_distance, show_first_centroid=True)\r\n",
        "[centroid_centers, clusters] = kmeans.fit(data)\r\n",
        "\r\n",
        "for key in clusters:\r\n",
        "  print(\"Final Cluster\", key+1, \":\", clusters[key])\r\n",
        "\r\n",
        "scatter(clusters, centroid_centers)"
      ],
      "execution_count": 539,
      "outputs": [
        {
          "output_type": "stream",
          "text": [
            "Centroids after first iteration:  [[4.0, 6.333333333333333], [5.571428571428571, 3.5714285714285716]]\n",
            "Time taken: 0.0002529621124267578\n",
            "Number of iterations: 1\n",
            "Final Cluster 1 : [[3, 5], [2, 8], [7, 6]]\n",
            "Final Cluster 2 : [[3, 4], [2, 3], [6, 2], [6, 4], [7, 3], [7, 4], [8, 5]]\n"
          ],
          "name": "stdout"
        },
        {
          "output_type": "display_data",
          "data": {
            "image/png": "[encoded data removed]",
            "text/plain": [
              "<Figure size 432x288 with 1 Axes>"
            ]
          },
          "metadata": {
            "tags": []
          }
        }
      ]
    },
    {
      "cell_type": "markdown",
      "metadata": {
        "id": "-48aVMcPxduf"
      },
      "source": [
        "Task 1: Question 2"
      ]
    },
    {
      "cell_type": "code",
      "metadata": {
        "colab": {
          "base_uri": "https://localhost:8080/",
          "height": 372
        },
        "id": "eRBt5WtXswOo",
        "outputId": "9959a974-58f1-43d2-aed6-51816495c1e9"
      },
      "source": [
        "kmeans = KMeans(n_clusters=2, init_centroids=[[4, 6],[5, 4]], d_func=euclidean_distance,show_first_centroid=True)\r\n",
        "[centroid_centers, clusters] = kmeans.fit(data)\r\n",
        "\r\n",
        "for key in clusters:\r\n",
        "  print(\"Final Cluster\", key+1, \":\", clusters[key])\r\n",
        "\r\n",
        "scatter(clusters, centroid_centers)\r\n",
        "print(kmeans.sse_list)"
      ],
      "execution_count": 540,
      "outputs": [
        {
          "output_type": "stream",
          "text": [
            "Centroids after first iteration:  [[2.5, 5.0], [6.833333333333333, 4.0]]\n",
            "Time taken: 0.00038051605224609375\n",
            "Number of iterations: 2\n",
            "Final Cluster 1 : [[3, 5], [3, 4], [2, 8], [2, 3]]\n",
            "Final Cluster 2 : [[6, 2], [6, 4], [7, 3], [7, 4], [8, 5], [7, 6]]\n"
          ],
          "name": "stdout"
        },
        {
          "output_type": "display_data",
          "data": {
            "image/png": "[encoded data removed]",
            "text/plain": [
              "<Figure size 432x288 with 1 Axes>"
            ]
          },
          "metadata": {
            "tags": []
          }
        },
        {
          "output_type": "stream",
          "text": [
            "[19.699965039247633, 14.444951661105069]\n"
          ],
          "name": "stdout"
        }
      ]
    },
    {
      "cell_type": "markdown",
      "metadata": {
        "id": "9FZs8kdWxfGn"
      },
      "source": [
        " Task 1: Question 3"
      ]
    },
    {
      "cell_type": "code",
      "metadata": {
        "colab": {
          "base_uri": "https://localhost:8080/",
          "height": 354
        },
        "id": "dR78lq_Ct_IE",
        "outputId": "97a70f4c-a5ef-4ac5-feca-d8ef861ed292"
      },
      "source": [
        "kmeans = KMeans(n_clusters=2, init_centroids=[[3, 3], [8, 3]], d_func=manhattan_distance, show_first_centroid=True)\r\n",
        "[centroid_centers, clusters] = kmeans.fit(data)\r\n",
        "\r\n",
        "for key in clusters:\r\n",
        "  print(\"Final Cluster\", key+1, \":\", clusters[key])\r\n",
        "\r\n",
        "scatter(clusters, centroid_centers)"
      ],
      "execution_count": 541,
      "outputs": [
        {
          "output_type": "stream",
          "text": [
            "Centroids after first iteration:  [[2.5, 5.0], [6.833333333333333, 4.0]]\n",
            "Time taken: 0.0014140605926513672\n",
            "Number of iterations: 1\n",
            "Final Cluster 1 : [[3, 5], [3, 4], [2, 8], [2, 3]]\n",
            "Final Cluster 2 : [[6, 2], [6, 4], [7, 3], [7, 4], [8, 5], [7, 6]]\n"
          ],
          "name": "stdout"
        },
        {
          "output_type": "display_data",
          "data": {
            "image/png": "[encoded data removed]",
            "text/plain": [
              "<Figure size 432x288 with 1 Axes>"
            ]
          },
          "metadata": {
            "tags": []
          }
        }
      ]
    },
    {
      "cell_type": "markdown",
      "metadata": {
        "id": "Bb7Djyrgxgi3"
      },
      "source": [
        "Task 1: Question 4"
      ]
    },
    {
      "cell_type": "code",
      "metadata": {
        "colab": {
          "base_uri": "https://localhost:8080/",
          "height": 354
        },
        "id": "OqZnduuxuxN5",
        "outputId": "0e0e9f29-567b-4674-8301-310758fa9da2"
      },
      "source": [
        "kmeans = KMeans(n_clusters=2, init_centroids=[[3, 2], [4, 8]], d_func=manhattan_distance, show_first_centroid=True)\r\n",
        "[centroid_centers, clusters] = kmeans.fit(data)\r\n",
        "\r\n",
        "for key in clusters:\r\n",
        "  print(\"Final Cluster\", key+1, \":\", clusters[key])\r\n",
        "\r\n",
        "scatter(clusters, centroid_centers)"
      ],
      "execution_count": 542,
      "outputs": [
        {
          "output_type": "stream",
          "text": [
            "Centroids after first iteration:  [[4.857142857142857, 3.5714285714285716], [5.666666666666667, 6.333333333333333]]\n",
            "Time taken: 0.00026416778564453125\n",
            "Number of iterations: 1\n",
            "Final Cluster 1 : [[3, 5], [3, 4], [2, 3], [6, 2], [6, 4], [7, 3], [7, 4]]\n",
            "Final Cluster 2 : [[2, 8], [8, 5], [7, 6]]\n"
          ],
          "name": "stdout"
        },
        {
          "output_type": "display_data",
          "data": {
            "image/png": "[encoded data removed]",
            "text/plain": [
              "<Figure size 432x288 with 1 Axes>"
            ]
          },
          "metadata": {
            "tags": []
          }
        }
      ]
    },
    {
      "cell_type": "markdown",
      "metadata": {
        "id": "0u8mXL8YAjZe"
      },
      "source": [
        "Task 2:"
      ]
    },
    {
      "cell_type": "code",
      "metadata": {
        "colab": {
          "base_uri": "https://localhost:8080/"
        },
        "id": "EkcSlSK2rikI",
        "outputId": "07806c1b-18d8-405a-b04a-787dc93b1f35"
      },
      "source": [
        "!wget https://archive.ics.uci.edu/ml/machine-learning-databases/iris/iris.data"
      ],
      "execution_count": 543,
      "outputs": [
        {
          "output_type": "stream",
          "text": [
            "--2021-03-15 04:27:48--  https://archive.ics.uci.edu/ml/machine-learning-databases/iris/iris.data\n",
            "Resolving archive.ics.uci.edu (archive.ics.uci.edu)... 128.195.10.252\n",
            "Connecting to archive.ics.uci.edu (archive.ics.uci.edu)|128.195.10.252|:443... connected.\n",
            "HTTP request sent, awaiting response... 200 OK\n",
            "Length: 4551 (4.4K) [application/x-httpd-php]\n",
            "Saving to: ‘iris.data.13’\n",
            "\n",
            "\riris.data.13          0%[                    ]       0  --.-KB/s               \riris.data.13        100%[===================>]   4.44K  --.-KB/s    in 0s      \n",
            "\n",
            "2021-03-15 04:27:48 (145 MB/s) - ‘iris.data.13’ saved [4551/4551]\n",
            "\n"
          ],
          "name": "stdout"
        }
      ]
    },
    {
      "cell_type": "code",
      "metadata": {
        "id": "kxM5IkCV4VQ8"
      },
      "source": [
        "id = loadCSV('iris.data')"
      ],
      "execution_count": 544,
      "outputs": []
    },
    {
      "cell_type": "code",
      "metadata": {
        "colab": {
          "base_uri": "https://localhost:8080/"
        },
        "id": "k337056L7BpS",
        "outputId": "3836b031-b8b2-4a36-eeb6-08edab6dc99a"
      },
      "source": [
        "iris_data = []\r\n",
        "del id[-1]\r\n",
        "\r\n",
        "for row in raw_iris_data:\r\n",
        "  iris_data.append([\r\n",
        "    row[0],\r\n",
        "    row[1],\r\n",
        "    row[2],\r\n",
        "    row[3],\r\n",
        "    row[4]\r\n",
        "  ])\r\n",
        "\r\n",
        "print(iris_data)"
      ],
      "execution_count": 545,
      "outputs": [
        {
          "output_type": "stream",
          "text": [
            "[[4.9, 3.0, 1.4, 0.2, 'Iris-setosa'], [4.7, 3.2, 1.3, 0.2, 'Iris-setosa'], [4.6, 3.1, 1.5, 0.2, 'Iris-setosa'], [5.0, 3.6, 1.4, 0.2, 'Iris-setosa'], [5.4, 3.9, 1.7, 0.4, 'Iris-setosa'], [4.6, 3.4, 1.4, 0.3, 'Iris-setosa'], [5.0, 3.4, 1.5, 0.2, 'Iris-setosa'], [4.4, 2.9, 1.4, 0.2, 'Iris-setosa'], [4.9, 3.1, 1.5, 0.1, 'Iris-setosa'], [5.4, 3.7, 1.5, 0.2, 'Iris-setosa'], [4.8, 3.4, 1.6, 0.2, 'Iris-setosa'], [4.8, 3.0, 1.4, 0.1, 'Iris-setosa'], [4.3, 3.0, 1.1, 0.1, 'Iris-setosa'], [5.8, 4.0, 1.2, 0.2, 'Iris-setosa'], [5.7, 4.4, 1.5, 0.4, 'Iris-setosa'], [5.4, 3.9, 1.3, 0.4, 'Iris-setosa'], [5.1, 3.5, 1.4, 0.3, 'Iris-setosa'], [5.7, 3.8, 1.7, 0.3, 'Iris-setosa'], [5.1, 3.8, 1.5, 0.3, 'Iris-setosa'], [5.4, 3.4, 1.7, 0.2, 'Iris-setosa'], [5.1, 3.7, 1.5, 0.4, 'Iris-setosa'], [4.6, 3.6, 1.0, 0.2, 'Iris-setosa'], [5.1, 3.3, 1.7, 0.5, 'Iris-setosa'], [4.8, 3.4, 1.9, 0.2, 'Iris-setosa'], [5.0, 3.0, 1.6, 0.2, 'Iris-setosa'], [5.0, 3.4, 1.6, 0.4, 'Iris-setosa'], [5.2, 3.5, 1.5, 0.2, 'Iris-setosa'], [5.2, 3.4, 1.4, 0.2, 'Iris-setosa'], [4.7, 3.2, 1.6, 0.2, 'Iris-setosa'], [4.8, 3.1, 1.6, 0.2, 'Iris-setosa'], [5.4, 3.4, 1.5, 0.4, 'Iris-setosa'], [5.2, 4.1, 1.5, 0.1, 'Iris-setosa'], [5.5, 4.2, 1.4, 0.2, 'Iris-setosa'], [4.9, 3.1, 1.5, 0.1, 'Iris-setosa'], [5.0, 3.2, 1.2, 0.2, 'Iris-setosa'], [5.5, 3.5, 1.3, 0.2, 'Iris-setosa'], [4.9, 3.1, 1.5, 0.1, 'Iris-setosa'], [4.4, 3.0, 1.3, 0.2, 'Iris-setosa'], [5.1, 3.4, 1.5, 0.2, 'Iris-setosa'], [5.0, 3.5, 1.3, 0.3, 'Iris-setosa'], [4.5, 2.3, 1.3, 0.3, 'Iris-setosa'], [4.4, 3.2, 1.3, 0.2, 'Iris-setosa'], [5.0, 3.5, 1.6, 0.6, 'Iris-setosa'], [5.1, 3.8, 1.9, 0.4, 'Iris-setosa'], [4.8, 3.0, 1.4, 0.3, 'Iris-setosa'], [5.1, 3.8, 1.6, 0.2, 'Iris-setosa'], [4.6, 3.2, 1.4, 0.2, 'Iris-setosa'], [5.3, 3.7, 1.5, 0.2, 'Iris-setosa'], [5.0, 3.3, 1.4, 0.2, 'Iris-setosa'], [7.0, 3.2, 4.7, 1.4, 'Iris-versicolor'], [6.4, 3.2, 4.5, 1.5, 'Iris-versicolor'], [6.9, 3.1, 4.9, 1.5, 'Iris-versicolor'], [5.5, 2.3, 4.0, 1.3, 'Iris-versicolor'], [6.5, 2.8, 4.6, 1.5, 'Iris-versicolor'], [5.7, 2.8, 4.5, 1.3, 'Iris-versicolor'], [6.3, 3.3, 4.7, 1.6, 'Iris-versicolor'], [4.9, 2.4, 3.3, 1.0, 'Iris-versicolor'], [6.6, 2.9, 4.6, 1.3, 'Iris-versicolor'], [5.2, 2.7, 3.9, 1.4, 'Iris-versicolor'], [5.0, 2.0, 3.5, 1.0, 'Iris-versicolor'], [5.9, 3.0, 4.2, 1.5, 'Iris-versicolor'], [6.0, 2.2, 4.0, 1.0, 'Iris-versicolor'], [6.1, 2.9, 4.7, 1.4, 'Iris-versicolor'], [5.6, 2.9, 3.6, 1.3, 'Iris-versicolor'], [6.7, 3.1, 4.4, 1.4, 'Iris-versicolor'], [5.6, 3.0, 4.5, 1.5, 'Iris-versicolor'], [5.8, 2.7, 4.1, 1.0, 'Iris-versicolor'], [6.2, 2.2, 4.5, 1.5, 'Iris-versicolor'], [5.6, 2.5, 3.9, 1.1, 'Iris-versicolor'], [5.9, 3.2, 4.8, 1.8, 'Iris-versicolor'], [6.1, 2.8, 4.0, 1.3, 'Iris-versicolor'], [6.3, 2.5, 4.9, 1.5, 'Iris-versicolor'], [6.1, 2.8, 4.7, 1.2, 'Iris-versicolor'], [6.4, 2.9, 4.3, 1.3, 'Iris-versicolor'], [6.6, 3.0, 4.4, 1.4, 'Iris-versicolor'], [6.8, 2.8, 4.8, 1.4, 'Iris-versicolor'], [6.7, 3.0, 5.0, 1.7, 'Iris-versicolor'], [6.0, 2.9, 4.5, 1.5, 'Iris-versicolor'], [5.7, 2.6, 3.5, 1.0, 'Iris-versicolor'], [5.5, 2.4, 3.8, 1.1, 'Iris-versicolor'], [5.5, 2.4, 3.7, 1.0, 'Iris-versicolor'], [5.8, 2.7, 3.9, 1.2, 'Iris-versicolor'], [6.0, 2.7, 5.1, 1.6, 'Iris-versicolor'], [5.4, 3.0, 4.5, 1.5, 'Iris-versicolor'], [6.0, 3.4, 4.5, 1.6, 'Iris-versicolor'], [6.7, 3.1, 4.7, 1.5, 'Iris-versicolor'], [6.3, 2.3, 4.4, 1.3, 'Iris-versicolor'], [5.6, 3.0, 4.1, 1.3, 'Iris-versicolor'], [5.5, 2.5, 4.0, 1.3, 'Iris-versicolor'], [5.5, 2.6, 4.4, 1.2, 'Iris-versicolor'], [6.1, 3.0, 4.6, 1.4, 'Iris-versicolor'], [5.8, 2.6, 4.0, 1.2, 'Iris-versicolor'], [5.0, 2.3, 3.3, 1.0, 'Iris-versicolor'], [5.6, 2.7, 4.2, 1.3, 'Iris-versicolor'], [5.7, 3.0, 4.2, 1.2, 'Iris-versicolor'], [5.7, 2.9, 4.2, 1.3, 'Iris-versicolor'], [6.2, 2.9, 4.3, 1.3, 'Iris-versicolor'], [5.1, 2.5, 3.0, 1.1, 'Iris-versicolor'], [5.7, 2.8, 4.1, 1.3, 'Iris-versicolor'], [6.3, 3.3, 6.0, 2.5, 'Iris-virginica'], [5.8, 2.7, 5.1, 1.9, 'Iris-virginica'], [7.1, 3.0, 5.9, 2.1, 'Iris-virginica'], [6.3, 2.9, 5.6, 1.8, 'Iris-virginica'], [6.5, 3.0, 5.8, 2.2, 'Iris-virginica'], [7.6, 3.0, 6.6, 2.1, 'Iris-virginica'], [4.9, 2.5, 4.5, 1.7, 'Iris-virginica'], [7.3, 2.9, 6.3, 1.8, 'Iris-virginica'], [6.7, 2.5, 5.8, 1.8, 'Iris-virginica'], [7.2, 3.6, 6.1, 2.5, 'Iris-virginica'], [6.5, 3.2, 5.1, 2.0, 'Iris-virginica'], [6.4, 2.7, 5.3, 1.9, 'Iris-virginica'], [6.8, 3.0, 5.5, 2.1, 'Iris-virginica'], [5.7, 2.5, 5.0, 2.0, 'Iris-virginica'], [5.8, 2.8, 5.1, 2.4, 'Iris-virginica'], [6.4, 3.2, 5.3, 2.3, 'Iris-virginica'], [6.5, 3.0, 5.5, 1.8, 'Iris-virginica'], [7.7, 3.8, 6.7, 2.2, 'Iris-virginica'], [7.7, 2.6, 6.9, 2.3, 'Iris-virginica'], [6.0, 2.2, 5.0, 1.5, 'Iris-virginica'], [6.9, 3.2, 5.7, 2.3, 'Iris-virginica'], [5.6, 2.8, 4.9, 2.0, 'Iris-virginica'], [7.7, 2.8, 6.7, 2.0, 'Iris-virginica'], [6.3, 2.7, 4.9, 1.8, 'Iris-virginica'], [6.7, 3.3, 5.7, 2.1, 'Iris-virginica'], [7.2, 3.2, 6.0, 1.8, 'Iris-virginica'], [6.2, 2.8, 4.8, 1.8, 'Iris-virginica'], [6.1, 3.0, 4.9, 1.8, 'Iris-virginica'], [6.4, 2.8, 5.6, 2.1, 'Iris-virginica'], [7.2, 3.0, 5.8, 1.6, 'Iris-virginica'], [7.4, 2.8, 6.1, 1.9, 'Iris-virginica'], [7.9, 3.8, 6.4, 2.0, 'Iris-virginica'], [6.4, 2.8, 5.6, 2.2, 'Iris-virginica'], [6.3, 2.8, 5.1, 1.5, 'Iris-virginica'], [6.1, 2.6, 5.6, 1.4, 'Iris-virginica'], [7.7, 3.0, 6.1, 2.3, 'Iris-virginica'], [6.3, 3.4, 5.6, 2.4, 'Iris-virginica'], [6.4, 3.1, 5.5, 1.8, 'Iris-virginica'], [6.0, 3.0, 4.8, 1.8, 'Iris-virginica'], [6.9, 3.1, 5.4, 2.1, 'Iris-virginica'], [6.7, 3.1, 5.6, 2.4, 'Iris-virginica'], [6.9, 3.1, 5.1, 2.3, 'Iris-virginica'], [5.8, 2.7, 5.1, 1.9, 'Iris-virginica'], [6.8, 3.2, 5.9, 2.3, 'Iris-virginica'], [6.7, 3.3, 5.7, 2.5, 'Iris-virginica'], [6.7, 3.0, 5.2, 2.3, 'Iris-virginica'], [6.3, 2.5, 5.0, 1.9, 'Iris-virginica'], [6.5, 3.0, 5.2, 2.0, 'Iris-virginica'], [6.2, 3.4, 5.4, 2.3, 'Iris-virginica'], [5.9, 3.0, 5.1, 1.8, 'Iris-virginica']]\n"
          ],
          "name": "stdout"
        }
      ]
    },
    {
      "cell_type": "code",
      "metadata": {
        "id": "I7hIxCqN6DpQ"
      },
      "source": [
        "target_labels = dict(label_cluster(iris_data))"
      ],
      "execution_count": 546,
      "outputs": []
    },
    {
      "cell_type": "markdown",
      "metadata": {
        "id": "XQRgI9oVtps_"
      },
      "source": [
        "Questions 1,2,3:"
      ]
    },
    {
      "cell_type": "code",
      "metadata": {
        "colab": {
          "base_uri": "https://localhost:8080/",
          "height": 374
        },
        "id": "X8qGPKFN7wUn",
        "outputId": "2575f1d0-ddc3-46c1-f438-0ba55bd74710"
      },
      "source": [
        "kmeans = KMeans()\r\n",
        "[centroid_centers, clusters] = kmeans.fit(iris_data)\r\n",
        "\r\n",
        "labels = {'Iris-setosa': 0, 'Iris-versicolor': 0, 'Iris-virginica': 0}\r\n",
        "\r\n",
        "for key in clusters:\r\n",
        "  d = dict(label_cluster(clusters[key]))\r\n",
        "  mx = 0\r\n",
        "  s = 0\r\n",
        "  label = \"\"\r\n",
        "  for k in d:\r\n",
        "    s += d[k]\r\n",
        "    if d[k] > mx:\r\n",
        "      mx = d[k]\r\n",
        "      label = k\r\n",
        "  labels[label] = mx\r\n",
        "\r\n",
        "scatter(clusters, centroid_centers)\r\n",
        "\r\n",
        "print(\"SSE =\",kmeans.sse_list)\r\n",
        "print(\"Previous Labels: \", target_labels)\r\n",
        "print(\"Predicted Labels: \", labels)\r\n",
        "\r\n",
        "total = 0\r\n",
        "mismatch = 0\r\n",
        "\r\n",
        "for l in target_labels:\r\n",
        "  total += target_labels[l]\r\n",
        "  mismatch += abs(original_labels[l] - labels[l])\r\n",
        "\r\n",
        "accuracy = (total - mismatch) / total\r\n",
        "\r\n",
        "print(\"Accuracy =\",accuracy)"
      ],
      "execution_count": 547,
      "outputs": [
        {
          "output_type": "stream",
          "text": [
            "Time taken: 0.007506132125854492\n",
            "Number of iterations: 7\n"
          ],
          "name": "stdout"
        },
        {
          "output_type": "display_data",
          "data": {
            "image/png": "[encoded data removed]",
            "text/plain": [
              "<Figure size 432x288 with 1 Axes>"
            ]
          },
          "metadata": {
            "tags": []
          }
        },
        {
          "output_type": "stream",
          "text": [
            "SSE = [218.29506744328202, 155.0916198748848, 115.90778245467753, 104.56644763755908, 98.7779016487441, 97.59007956128406, 97.17547683463661]\n",
            "Previous Labels:  {'Iris-setosa': 49, 'Iris-versicolor': 50, 'Iris-virginica': 50}\n",
            "Predicted Labels:  {'Iris-setosa': 49, 'Iris-versicolor': 48, 'Iris-virginica': 36}\n",
            "Accuracy = 0.8926174496644296\n"
          ],
          "name": "stdout"
        }
      ]
    },
    {
      "cell_type": "code",
      "metadata": {
        "colab": {
          "base_uri": "https://localhost:8080/",
          "height": 374
        },
        "id": "qCdhW-IC_WWA",
        "outputId": "2c95819c-ea5d-4fd6-e570-379e410223cf"
      },
      "source": [
        "kmeans = KMeans(d_func=cosine)\r\n",
        "[centroid_centers, clusters] = kmeans.fit(iris_data)\r\n",
        "\r\n",
        "labels = {'Iris-setosa': 0, 'Iris-versicolor': 0, 'Iris-virginica': 0}\r\n",
        "\r\n",
        "for key in clusters:\r\n",
        "  d = dict(label_cluster(clusters[key]))\r\n",
        "  mx = 0\r\n",
        "  s = 0\r\n",
        "  label = \"\"\r\n",
        "  for k in d:\r\n",
        "    s += d[k]\r\n",
        "    if d[k] > mx:\r\n",
        "      mx = d[k]\r\n",
        "      label = k\r\n",
        "  labels[label] = mx\r\n",
        "\r\n",
        "scatter(clusters, centroid_centers)\r\n",
        "\r\n",
        "print(\"SSE =\",kmeans.sse_list)\r\n",
        "print(\"Previous Labels: \", target_labels)\r\n",
        "print(\"Predicted Labels: \", labels)\r\n",
        "\r\n",
        "total = 0\r\n",
        "mismatch = 0\r\n",
        "\r\n",
        "for l in target_labels:\r\n",
        "  total += target_labels[l]\r\n",
        "  mismatch += abs(target_labels[l] - labels[l])\r\n",
        "\r\n",
        "accuracy = (total - mismatch) / total\r\n",
        "\r\n",
        "print(\"Accuracy =\",accuracy)"
      ],
      "execution_count": 548,
      "outputs": [
        {
          "output_type": "stream",
          "text": [
            "Time taken: 0.06646275520324707\n",
            "Number of iterations: 5\n"
          ],
          "name": "stdout"
        },
        {
          "output_type": "display_data",
          "data": {
            "image/png": "[encoded data removed]",
            "text/plain": [
              "<Figure size 432x288 with 1 Axes>"
            ]
          },
          "metadata": {
            "tags": []
          }
        },
        {
          "output_type": "stream",
          "text": [
            "SSE = [124.96919183759981, 120.22772640811053, 111.90117681755133, 104.801516150989, 101.42234214063515]\n",
            "Previous Labels:  {'Iris-setosa': 49, 'Iris-versicolor': 50, 'Iris-virginica': 50}\n",
            "Predicted Labels:  {'Iris-setosa': 49, 'Iris-versicolor': 46, 'Iris-virginica': 50}\n",
            "Accuracy = 0.9731543624161074\n"
          ],
          "name": "stdout"
        }
      ]
    },
    {
      "cell_type": "code",
      "metadata": {
        "colab": {
          "base_uri": "https://localhost:8080/",
          "height": 374
        },
        "id": "gUrLGg2qAnNV",
        "outputId": "25871d71-38d1-4418-a00d-1ee73919b47c"
      },
      "source": [
        "kmeans = KMeans(d_func=jaccard)\r\n",
        "[centroid_centers, clusters] = kmeans.fit(iris_data)\r\n",
        "\r\n",
        "labels = {'Iris-setosa': 0, 'Iris-versicolor': 0, 'Iris-virginica': 0}\r\n",
        "\r\n",
        "for key in clusters:\r\n",
        "  d = dict(label_cluster(clusters[key]))\r\n",
        "  mx = 0\r\n",
        "  s = 0\r\n",
        "  label = \"\"\r\n",
        "  for k in d:\r\n",
        "    s += d[k]\r\n",
        "    if d[k] > mx:\r\n",
        "      mx = d[k]\r\n",
        "      label = k\r\n",
        "  labels[label] = mx\r\n",
        "\r\n",
        "scatter(clusters, centroid_centers)\r\n",
        "\r\n",
        "print(\"SSE =\",kmeans.sse_list)\r\n",
        "print(\"Previous Labels: \", target_labels)\r\n",
        "print(\"Predicted Labels: \", labels)\r\n",
        "\r\n",
        "total = 0\r\n",
        "mismatch = 0\r\n",
        "\r\n",
        "for l in target_labels:\r\n",
        "  total += target_labels[l]\r\n",
        "  mismatch += abs(target_labels[l] - labels[l])\r\n",
        "\r\n",
        "accuracy = (total - mismatch) / total\r\n",
        "\r\n",
        "print(\"Accuracy =\",accuracy)"
      ],
      "execution_count": 549,
      "outputs": [
        {
          "output_type": "stream",
          "text": [
            "Time taken: 0.05327320098876953\n",
            "Number of iterations: 4\n"
          ],
          "name": "stdout"
        },
        {
          "output_type": "display_data",
          "data": {
            "image/png": "[encoded data removed]",
            "text/plain": [
              "<Figure size 432x288 with 1 Axes>"
            ]
          },
          "metadata": {
            "tags": []
          }
        },
        {
          "output_type": "stream",
          "text": [
            "SSE = [122.38190181207545, 121.35668666135413, 121.27836278221008, 121.259693322016]\n",
            "Previous Labels:  {'Iris-setosa': 49, 'Iris-versicolor': 50, 'Iris-virginica': 50}\n",
            "Predicted Labels:  {'Iris-setosa': 26, 'Iris-versicolor': 50, 'Iris-virginica': 0}\n",
            "Accuracy = 0.5100671140939598\n"
          ],
          "name": "stdout"
        }
      ]
    },
    {
      "cell_type": "markdown",
      "metadata": {
        "id": "PvLt73F3sudR"
      },
      "source": [
        "Question 4:"
      ]
    },
    {
      "cell_type": "markdown",
      "metadata": {
        "id": "rut6yiEGswDw"
      },
      "source": [
        "1st Stopping Criteria: No Change in Centroids"
      ]
    },
    {
      "cell_type": "markdown",
      "metadata": {
        "id": "TbUJLhQds0Pg"
      },
      "source": [
        ""
      ]
    },
    {
      "cell_type": "code",
      "metadata": {
        "colab": {
          "base_uri": "https://localhost:8080/"
        },
        "id": "UYk4kl2irF01",
        "outputId": "ca18a7ae-ef98-4e11-e7e4-c55a66c4af63"
      },
      "source": [
        "kmeans = KMeans(centroid_stop=True)\r\n",
        "[centroid_centers, clusters] = kmeans.fit(iris_data)\r\n",
        "print(kmeans.sse_list)"
      ],
      "execution_count": 550,
      "outputs": [
        {
          "output_type": "stream",
          "text": [
            "Time taken: 0.008604764938354492\n",
            "Number of iterations: 3\n",
            "[119.50736593535548, 97.74290758700509, 97.19577229449335]\n"
          ],
          "name": "stdout"
        }
      ]
    },
    {
      "cell_type": "markdown",
      "metadata": {
        "id": "zhrgMeFcs2Nw"
      },
      "source": [
        ""
      ]
    },
    {
      "cell_type": "code",
      "metadata": {
        "colab": {
          "base_uri": "https://localhost:8080/"
        },
        "id": "KDhyEBMTsKc0",
        "outputId": "a64f6cb1-a0b8-4f56-c654-29c0d8a5b9a1"
      },
      "source": [
        "kmeans = KMeans(centroid_stop=True, d_func=cosine)\r\n",
        "[centroid_centers, clusters] = kmeans.fit(iris_data)\r\n",
        "print(kmeans.sse_list)"
      ],
      "execution_count": 551,
      "outputs": [
        {
          "output_type": "stream",
          "text": [
            "Time taken: 0.07162117958068848\n",
            "Number of iterations: 5\n",
            "[222.33920465251285, 118.94605550734212, 108.21101650276748, 102.72885630947424, 101.42234214063515]\n"
          ],
          "name": "stdout"
        }
      ]
    },
    {
      "cell_type": "markdown",
      "metadata": {
        "id": "tq1CPYJzs5gq"
      },
      "source": [
        ""
      ]
    },
    {
      "cell_type": "code",
      "metadata": {
        "colab": {
          "base_uri": "https://localhost:8080/"
        },
        "id": "qbwPPAHYsNRb",
        "outputId": "ff6aea6f-ed43-41f2-ec15-81aaec898f2d"
      },
      "source": [
        "kmeans = KMeans(centroid_stop=True, d_func=jaccard)\r\n",
        "[centroid_centers, clusters] = kmeans.fit(iris_data)\r\n",
        "print(kmeans.sse_list)"
      ],
      "execution_count": 552,
      "outputs": [
        {
          "output_type": "stream",
          "text": [
            "Time taken: 0.06343770027160645\n",
            "Number of iterations: 4\n",
            "[99.49840366780184, 98.773416323733, 98.19480054362994, 98.19939498657202]\n"
          ],
          "name": "stdout"
        }
      ]
    },
    {
      "cell_type": "markdown",
      "metadata": {
        "id": "SC2WAuAxs8CX"
      },
      "source": [
        "# Stopping Criteria: Increase in SSE"
      ]
    },
    {
      "cell_type": "markdown",
      "metadata": {
        "id": "I3GZsND2s_HH"
      },
      "source": [
        ""
      ]
    },
    {
      "cell_type": "code",
      "metadata": {
        "colab": {
          "base_uri": "https://localhost:8080/"
        },
        "id": "8yzGnQSEsREx",
        "outputId": "b811629a-9178-4f89-82b2-1acbba8d8176"
      },
      "source": [
        "kmeans = KMeans(show_sse=True)\r\n",
        "[centroid_centers, clusters] = kmeans.fit(iris_data)\r\n",
        "print(kmeans.sse_list)"
      ],
      "execution_count": 553,
      "outputs": [
        {
          "output_type": "stream",
          "text": [
            "Time taken: 0.011047124862670898\n",
            "Number of iterations: 5\n",
            "[147.1897998310636, 102.70413033642377, 97.77751316167583, 97.30122458977715, 97.17547683463661]\n"
          ],
          "name": "stdout"
        }
      ]
    },
    {
      "cell_type": "markdown",
      "metadata": {
        "id": "8_HA_CQetAfh"
      },
      "source": [
        ""
      ]
    },
    {
      "cell_type": "code",
      "metadata": {
        "colab": {
          "base_uri": "https://localhost:8080/"
        },
        "id": "owXDweTHsXmC",
        "outputId": "132c79f5-a780-47ab-ba48-54b516995a03"
      },
      "source": [
        "kmeans = KMeans(show_sse=True, d_func=cosine)\r\n",
        "[centroid_centers, clusters] = kmeans.fit(iris_data)\r\n",
        "print(kmeans.sse_list)"
      ],
      "execution_count": 554,
      "outputs": [
        {
          "output_type": "stream",
          "text": [
            "Time taken: 0.04484748840332031\n",
            "Number of iterations: 4\n",
            "[121.34997396554357, 110.19313133172061, 104.93942770413, 102.26916147701174]\n"
          ],
          "name": "stdout"
        }
      ]
    },
    {
      "cell_type": "markdown",
      "metadata": {
        "id": "sNWne4a6tBtw"
      },
      "source": [
        ""
      ]
    },
    {
      "cell_type": "code",
      "metadata": {
        "colab": {
          "base_uri": "https://localhost:8080/"
        },
        "id": "5hfeZnHNsZrU",
        "outputId": "b1a063d7-6634-41b1-df37-cd4eb256e7a2"
      },
      "source": [
        "kmeans = KMeans(show_sse=True, d_func=jaccard)\r\n",
        "[centroid_centers, clusters] = kmeans.fit(iris_data)\r\n",
        "print(kmeans.sse_list)"
      ],
      "execution_count": 555,
      "outputs": [
        {
          "output_type": "stream",
          "text": [
            "Time taken: 0.07265806198120117\n",
            "Number of iterations: 4\n",
            "[189.65998566954633, 111.63290264877325, 98.08897218572542]\n"
          ],
          "name": "stdout"
        }
      ]
    },
    {
      "cell_type": "markdown",
      "metadata": {
        "id": "cbmc9fYAtMmQ"
      },
      "source": [
        "## Stopping_Criteria: Max Iterations\r\n",
        "\r\n"
      ]
    },
    {
      "cell_type": "markdown",
      "metadata": {
        "id": "ZZ8hQsYNtV3w"
      },
      "source": [
        "Euclidean:"
      ]
    },
    {
      "cell_type": "code",
      "metadata": {
        "colab": {
          "base_uri": "https://localhost:8080/"
        },
        "id": "XXCulS2VtRrP",
        "outputId": "a918f082-3e28-492b-de0d-fd7be6e36ea0"
      },
      "source": [
        "kmeans = KMeans(max_iters=101, show_sse=False, centroid_stop=False)\r\n",
        "[centroid_centers, clusters] = kmeans.fit(iris_data)\r\n",
        "print(kmeans.sse_list)"
      ],
      "execution_count": 556,
      "outputs": [
        {
          "output_type": "stream",
          "text": [
            "Time taken: 0.1174166202545166\n",
            "Number of iterations: 100\n",
            "[98.2766669262152, 97.72294682415851, 97.60402359368427, 97.44003154969444, 97.29936922961471, 97.19423615901931, 97.19577229449335, 97.19577229449335, 97.19577229449335, 97.19577229449335, 97.19577229449335, 97.19577229449335, 97.19577229449335, 97.19577229449335, 97.19577229449335, 97.19577229449335, 97.19577229449335, 97.19577229449335, 97.19577229449335, 97.19577229449335, 97.19577229449335, 97.19577229449335, 97.19577229449335, 97.19577229449335, 97.19577229449335, 97.19577229449335, 97.19577229449335, 97.19577229449335, 97.19577229449335, 97.19577229449335, 97.19577229449335, 97.19577229449335, 97.19577229449335, 97.19577229449335, 97.19577229449335, 97.19577229449335, 97.19577229449335, 97.19577229449335, 97.19577229449335, 97.19577229449335, 97.19577229449335, 97.19577229449335, 97.19577229449335, 97.19577229449335, 97.19577229449335, 97.19577229449335, 97.19577229449335, 97.19577229449335, 97.19577229449335, 97.19577229449335, 97.19577229449335, 97.19577229449335, 97.19577229449335, 97.19577229449335, 97.19577229449335, 97.19577229449335, 97.19577229449335, 97.19577229449335, 97.19577229449335, 97.19577229449335, 97.19577229449335, 97.19577229449335, 97.19577229449335, 97.19577229449335, 97.19577229449335, 97.19577229449335, 97.19577229449335, 97.19577229449335, 97.19577229449335, 97.19577229449335, 97.19577229449335, 97.19577229449335, 97.19577229449335, 97.19577229449335, 97.19577229449335, 97.19577229449335, 97.19577229449335, 97.19577229449335, 97.19577229449335, 97.19577229449335, 97.19577229449335, 97.19577229449335, 97.19577229449335, 97.19577229449335, 97.19577229449335, 97.19577229449335, 97.19577229449335, 97.19577229449335, 97.19577229449335, 97.19577229449335, 97.19577229449335, 97.19577229449335, 97.19577229449335, 97.19577229449335, 97.19577229449335, 97.19577229449335, 97.19577229449335, 97.19577229449335, 97.19577229449335, 97.19577229449335, 97.19577229449335]\n"
          ],
          "name": "stdout"
        }
      ]
    },
    {
      "cell_type": "markdown",
      "metadata": {
        "id": "J2n_sguqtXHm"
      },
      "source": [
        "Cosine Similarity:"
      ]
    },
    {
      "cell_type": "code",
      "metadata": {
        "colab": {
          "base_uri": "https://localhost:8080/"
        },
        "id": "VeXQRZvntYdX",
        "outputId": "170790cf-dd24-442e-a509-8d032d88f43d"
      },
      "source": [
        "kmeans = KMeans(max_iters=101, show_sse=False, centroid_stop=False, d_func=cosine)\r\n",
        "[centroid_centers, clusters] = kmeans.fit(iris_data)\r\n",
        "print(kmeans.sse_list)"
      ],
      "execution_count": 557,
      "outputs": [
        {
          "output_type": "stream",
          "text": [
            "Time taken: 0.7951977252960205\n",
            "Number of iterations: 100\n",
            "[110.57442895308003, 103.72737076336821, 101.42234214063515, 101.42234214063515, 101.42234214063515, 101.42234214063515, 101.42234214063515, 101.42234214063515, 101.42234214063515, 101.42234214063515, 101.42234214063515, 101.42234214063515, 101.42234214063515, 101.42234214063515, 101.42234214063515, 101.42234214063515, 101.42234214063515, 101.42234214063515, 101.42234214063515, 101.42234214063515, 101.42234214063515, 101.42234214063515, 101.42234214063515, 101.42234214063515, 101.42234214063515, 101.42234214063515, 101.42234214063515, 101.42234214063515, 101.42234214063515, 101.42234214063515, 101.42234214063515, 101.42234214063515, 101.42234214063515, 101.42234214063515, 101.42234214063515, 101.42234214063515, 101.42234214063515, 101.42234214063515, 101.42234214063515, 101.42234214063515, 101.42234214063515, 101.42234214063515, 101.42234214063515, 101.42234214063515, 101.42234214063515, 101.42234214063515, 101.42234214063515, 101.42234214063515, 101.42234214063515, 101.42234214063515, 101.42234214063515, 101.42234214063515, 101.42234214063515, 101.42234214063515, 101.42234214063515, 101.42234214063515, 101.42234214063515, 101.42234214063515, 101.42234214063515, 101.42234214063515, 101.42234214063515, 101.42234214063515, 101.42234214063515, 101.42234214063515, 101.42234214063515, 101.42234214063515, 101.42234214063515, 101.42234214063515, 101.42234214063515, 101.42234214063515, 101.42234214063515, 101.42234214063515, 101.42234214063515, 101.42234214063515, 101.42234214063515, 101.42234214063515, 101.42234214063515, 101.42234214063515, 101.42234214063515, 101.42234214063515, 101.42234214063515, 101.42234214063515, 101.42234214063515, 101.42234214063515, 101.42234214063515, 101.42234214063515, 101.42234214063515, 101.42234214063515, 101.42234214063515, 101.42234214063515, 101.42234214063515, 101.42234214063515, 101.42234214063515, 101.42234214063515, 101.42234214063515, 101.42234214063515, 101.42234214063515, 101.42234214063515, 101.42234214063515, 101.42234214063515, 101.42234214063515]\n"
          ],
          "name": "stdout"
        }
      ]
    },
    {
      "cell_type": "markdown",
      "metadata": {
        "id": "mxVO6MahtbCv"
      },
      "source": [
        "Jaccard's Similarity:"
      ]
    },
    {
      "cell_type": "code",
      "metadata": {
        "colab": {
          "base_uri": "https://localhost:8080/"
        },
        "id": "i6cZ4laJtdkQ",
        "outputId": "1b3b9bd9-19a6-4f85-cc0f-cecff76d368c"
      },
      "source": [
        "kmeans = KMeans(max_iters=101, show_sse=False, centroid_stop=False, d_func=jaccard)\r\n",
        "[centroid_centers, clusters] = kmeans.fit(iris_data)\r\n",
        "print(kmeans.sse_list)"
      ],
      "execution_count": 558,
      "outputs": [
        {
          "output_type": "stream",
          "text": [
            "Time taken: 1.0125701427459717\n",
            "Number of iterations: 100\n",
            "[123.94037749072493, 122.88743513347798, 122.60733198574232, 122.60733198574232, 122.60733198574232, 122.60733198574232, 122.60733198574232, 122.60733198574232, 122.60733198574232, 122.60733198574232, 122.60733198574232, 122.60733198574232, 122.60733198574232, 122.60733198574232, 122.60733198574232, 122.60733198574232, 122.60733198574232, 122.60733198574232, 122.60733198574232, 122.60733198574232, 122.60733198574232, 122.60733198574232, 122.60733198574232, 122.60733198574232, 122.60733198574232, 122.60733198574232, 122.60733198574232, 122.60733198574232, 122.60733198574232, 122.60733198574232, 122.60733198574232, 122.60733198574232, 122.60733198574232, 122.60733198574232, 122.60733198574232, 122.60733198574232, 122.60733198574232, 122.60733198574232, 122.60733198574232, 122.60733198574232, 122.60733198574232, 122.60733198574232, 122.60733198574232, 122.60733198574232, 122.60733198574232, 122.60733198574232, 122.60733198574232, 122.60733198574232, 122.60733198574232, 122.60733198574232, 122.60733198574232, 122.60733198574232, 122.60733198574232, 122.60733198574232, 122.60733198574232, 122.60733198574232, 122.60733198574232, 122.60733198574232, 122.60733198574232, 122.60733198574232, 122.60733198574232, 122.60733198574232, 122.60733198574232, 122.60733198574232, 122.60733198574232, 122.60733198574232, 122.60733198574232, 122.60733198574232, 122.60733198574232, 122.60733198574232, 122.60733198574232, 122.60733198574232, 122.60733198574232, 122.60733198574232, 122.60733198574232, 122.60733198574232, 122.60733198574232, 122.60733198574232, 122.60733198574232, 122.60733198574232, 122.60733198574232, 122.60733198574232, 122.60733198574232, 122.60733198574232, 122.60733198574232, 122.60733198574232, 122.60733198574232, 122.60733198574232, 122.60733198574232, 122.60733198574232, 122.60733198574232, 122.60733198574232, 122.60733198574232, 122.60733198574232, 122.60733198574232, 122.60733198574232, 122.60733198574232, 122.60733198574232, 122.60733198574232, 122.60733198574232, 122.60733198574232]\n"
          ],
          "name": "stdout"
        }
      ]
    },
    {
      "cell_type": "markdown",
      "metadata": {
        "id": "S4ii95L0sg06"
      },
      "source": [
        "Task 3:"
      ]
    },
    {
      "cell_type": "code",
      "metadata": {
        "colab": {
          "base_uri": "https://localhost:8080/"
        },
        "id": "YAqzP56XBp7P",
        "outputId": "0d9addba-daeb-4298-a5ab-e21029ac1a3f"
      },
      "source": [
        "red = [(4.7, 3.2), (4.9, 3.1), (5.0, 3.0), (4.6, 2.9)]\r\n",
        "blue = [(5.9, 3.2), (6.7, 3.1), (6.0, 3.0), (6.2, 2.8)]\r\n",
        "\r\n",
        "dists = []\r\n",
        "d = 0\r\n",
        "for r in red:\r\n",
        "    for b in blue:\r\n",
        "        dists.append([euclidean_distance(r, b), [r, b]])\r\n",
        "        d += dists[-1][0]\r\n",
        "\r\n",
        "dists.sort()\r\n",
        "\r\n",
        "print((dists[0][0], dists[0][1][0], dists[0][1][1]))\r\n",
        "print((dists[-1][0], dists[-1][1][0], dists[-1][1][1]))\r\n",
        "print((d/len(dists)))"
      ],
      "execution_count": 559,
      "outputs": [
        {
          "output_type": "stream",
          "text": [
            "(0.9219544457292891, (5.0, 3.0), (5.9, 3.2))\n",
            "(2.109502310972899, (4.6, 2.9), (6.7, 3.1))\n",
            "1.4128564854895742\n"
          ],
          "name": "stdout"
        }
      ]
    },
    {
      "cell_type": "markdown",
      "metadata": {
        "id": "dWqB-M1dsN-A"
      },
      "source": [
        "If even intra-cluster points' distances are considered, then"
      ]
    }
  ]
}