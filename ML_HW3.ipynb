{
  "nbformat": 4,
  "nbformat_minor": 0,
  "metadata": {
    "colab": {
      "name": "ML-HW3",
      "provenance": [],
      "authorship_tag": "ABX9TyNdJxCSyYZcl0L6iOP6DJKE",
      "include_colab_link": true
    },
    "kernelspec": {
      "name": "python3",
      "display_name": "Python 3"
    }
  },
  "cells": [
    {
      "cell_type": "markdown",
      "metadata": {
        "id": "view-in-github",
        "colab_type": "text"
      },
      "source": [
        "<a href=\"https://colab.research.google.com/github/vaghasiatirth24/Machine-Learning/blob/main/ML_HW3.ipynb\" target=\"_parent\"><img src=\"https://colab.research.google.com/assets/colab-badge.svg\" alt=\"Open In Colab\"/></a>"
      ]
    },
    {
      "cell_type": "code",
      "metadata": {
        "id": "Oa2sHdHWjC7e"
      },
      "source": [
        "import pandas as pd\r\n",
        "import numpy as np\r\n",
        "import matplotlib.pyplot as plt"
      ],
      "execution_count": 1,
      "outputs": []
    },
    {
      "cell_type": "code",
      "metadata": {
        "id": "MVGJy2dGjj8R"
      },
      "source": [
        "train_dataset=pd.read_csv(\"train.csv\")\r\n",
        "test_data=pd.read_csv(\"test.csv\")"
      ],
      "execution_count": 2,
      "outputs": []
    },
    {
      "cell_type": "code",
      "metadata": {
        "id": "DViWY0LzDdA7"
      },
      "source": [
        "test_data[\"Sex\"]=pd.get_dummies(test_data[\"Sex\"])\r\n",
        "train_dataset[\"Sex\"]=pd.get_dummies(train_dataset[\"Sex\"])"
      ],
      "execution_count": 4,
      "outputs": []
    },
    {
      "cell_type": "code",
      "metadata": {
        "id": "cR7Gg30sYozP"
      },
      "source": [
        "train_dataset['Age'].fillna(train_dataset['Age'].median(), inplace = True)\r\n",
        "test_data['Age'].fillna(test_data['Age'].median(), inplace=True)\r\n",
        "\r\n",
        "train_dataset['Fare'].fillna(train_dataset['Fare'].median(), inplace = True)\r\n",
        "test_data['Fare'].fillna(test_data['Fare'].median(), inplace = True)"
      ],
      "execution_count": 5,
      "outputs": []
    },
    {
      "cell_type": "code",
      "metadata": {
        "id": "Bt84AP3mDkCX"
      },
      "source": [
        "combine=[train_dataset,test_data]\r\n",
        "for dataset in combine:\r\n",
        "  dataset['Title'] = dataset.Name.str.extract(' ([A-Za-z]+)\\.', expand=False)\r\n",
        "pd.crosstab(train_dataset['Title'], train_dataset['Sex'])\r\n",
        "\r\n",
        "for dataset in combine:\r\n",
        "    dataset['Title'] = dataset['Title'].replace(['Lady', 'Countess','Capt', 'Col',\\\r\n",
        " \t'Don', 'Dr', 'Major', 'Rev', 'Sir', 'Jonkheer', 'Dona'], 'Rare')\r\n",
        "\r\n",
        "    dataset['Title'] = dataset['Title'].replace('Mlle', 'Miss')\r\n",
        "    dataset['Title'] = dataset['Title'].replace('Ms', 'Miss')\r\n",
        "    dataset['Title'] = dataset['Title'].replace('Mme', 'Mrs')\r\n",
        "    \r\n"
      ],
      "execution_count": 6,
      "outputs": []
    },
    {
      "cell_type": "code",
      "metadata": {
        "id": "3kAo8fUAl_ir"
      },
      "source": [
        "title_mapping = {\"Mr\": 1, \"Miss\": 2, \"Mrs\": 3, \"Master\": 4, \"Rare\": 5}\r\n",
        "for dataset in combine:\r\n",
        "    dataset['Title'] = dataset['Title'].map(title_mapping)\r\n",
        "    dataset['Title'] = dataset['Title'].fillna(0)"
      ],
      "execution_count": 7,
      "outputs": []
    },
    {
      "cell_type": "code",
      "metadata": {
        "id": "Pgd_Z-fdryM7"
      },
      "source": [
        "train_dataset['Age_bin'] = pd.cut(train_dataset['Age'], bins=[0,12,20,40,120], labels=['Children','Teenage','Adult','Elder'])\r\n",
        "test_data['Age_bin'] = pd.cut(test_data['Age'], bins=[0,12,20,40,120], labels=['Children','Teenage','Adult','Elder'])"
      ],
      "execution_count": 8,
      "outputs": []
    },
    {
      "cell_type": "code",
      "metadata": {
        "id": "vTWur6Z3r89h"
      },
      "source": [
        "train_dataset['Fare_bin'] = pd.cut(train_dataset['Fare'], bins=[0,7.91,14.45,31,120], labels=['Low_fare','median_fare','Average_fare','high_fare'])\r\n",
        "test_data['Fare_bin'] = pd.cut(test_data['Fare'], bins=[0,7.91,14.45,31,120], labels=['Low_fare','median_fare','Average_fare','high_fare'])\r\n"
      ],
      "execution_count": 9,
      "outputs": []
    },
    {
      "cell_type": "code",
      "metadata": {
        "id": "RitPolObsBEi"
      },
      "source": [
        "train_dataset = pd.get_dummies(train_dataset, columns = [\"Age_bin\",\"Embarked\"],prefix=[\"Age_type\",\"Em_type\"])\r\n"
      ],
      "execution_count": 12,
      "outputs": []
    },
    {
      "cell_type": "code",
      "metadata": {
        "id": "eDGyF4dBusP8"
      },
      "source": [
        "test_data = pd.get_dummies(test_data, columns = [\"Age_bin\",\"Embarked\"],prefix=[\"Age_type\",\"Em_type\"])"
      ],
      "execution_count": 13,
      "outputs": []
    },
    {
      "cell_type": "code",
      "metadata": {
        "id": "sE-cd9-613w3"
      },
      "source": [
        "train_dataset = pd.get_dummies(train_dataset, columns = [\"Fare_bin\"],prefix=[\"Fare_type\"])\r\n",
        "test_data = pd.get_dummies(test_data, columns = [\"Fare_bin\"],prefix=[\"Fare_type\"])"
      ],
      "execution_count": 14,
      "outputs": []
    },
    {
      "cell_type": "code",
      "metadata": {
        "id": "4t4FZ9wHowww"
      },
      "source": [
        "train_dataset = train_dataset.drop(['Name','PassengerId','Cabin','Ticket'], axis=1)\r\n",
        "test_data = test_data.drop(['Name','PassengerId','Cabin','Ticket'], axis=1)"
      ],
      "execution_count": 15,
      "outputs": []
    },
    {
      "cell_type": "code",
      "metadata": {
        "id": "KRdr-1movEQE"
      },
      "source": [
        "train_dataset = train_dataset.drop(['Fare','Age'], axis=1)\r\n",
        "test_data = test_data.drop(['Fare','Age'], axis=1)"
      ],
      "execution_count": 16,
      "outputs": []
    },
    {
      "cell_type": "code",
      "metadata": {
        "id": "l6fnRljpoI8H",
        "colab": {
          "base_uri": "https://localhost:8080/"
        },
        "outputId": "a9ebabe7-23f4-4aab-cda1-995050cf6c1e"
      },
      "source": [
        "from sklearn.model_selection import train_test_split\r\n",
        "from sklearn.metrics import accuracy_score\r\n",
        "from sklearn.model_selection import KFold\r\n",
        "from sklearn.model_selection import cross_val_score\r\n",
        "from sklearn.model_selection import cross_val_predict\r\n",
        "from sklearn.metrics import confusion_matrix\r\n",
        "f = train_dataset.drop(\"Survived\",axis=1)\r\n",
        "t = train_dataset[\"Survived\"]\r\n",
        "X_train,X_test,y_train,y_test = train_test_split(f,t,test_size=0.3,random_state=1)\r\n",
        "X_train.shape,X_test.shape,y_train.shape,y_test.shape"
      ],
      "execution_count": 18,
      "outputs": [
        {
          "output_type": "execute_result",
          "data": {
            "text/plain": [
              "((623, 16), (268, 16), (623,), (268,))"
            ]
          },
          "metadata": {
            "tags": []
          },
          "execution_count": 18
        }
      ]
    },
    {
      "cell_type": "code",
      "metadata": {
        "colab": {
          "base_uri": "https://localhost:8080/"
        },
        "id": "p2AaRQHOuC7F",
        "outputId": "231a7cd5-085e-40df-d8d3-c79528ab7948"
      },
      "source": [
        "#ANSWER-7 SVM ON TITANIC DATASET USING LINEAR KERNEL\r\n",
        "\r\n",
        "from sklearn import svm\r\n",
        "from sklearn.impute import KNNImputer\r\n",
        "from sklearn.model_selection import cross_val_score\r\n",
        "clf = svm.SVC(kernel='linear')   \r\n",
        "clf.fit(X_train, y_train.ravel());\r\n",
        "accuracy_score = cross_val_score(clf, X_train, y_train.ravel(), cv=5, scoring='accuracy').mean()\r\n",
        "print(\"Accuracy Score for Linear Kernel:\", accuracy_score)"
      ],
      "execution_count": 22,
      "outputs": [
        {
          "output_type": "stream",
          "text": [
            "Accuracy Score for Linear Kernel: 0.8169935483870967\n"
          ],
          "name": "stdout"
        }
      ]
    },
    {
      "cell_type": "code",
      "metadata": {
        "colab": {
          "base_uri": "https://localhost:8080/"
        },
        "id": "5POB_1i9uHW7",
        "outputId": "3d88cc32-da51-4505-8084-4c250a4a2dd3"
      },
      "source": [
        "#ANSWER-7 SVM ON TITANIC DATASET USING QUADRATIC KERNEL\r\n",
        "clf = svm.SVC(kernel='poly', degree=2)\r\n",
        "clf.fit(X_train, y_train.ravel());\r\n",
        "accuracy_score = cross_val_score(clf, X_train, y_train.ravel(), cv=5, scoring='accuracy').mean()\r\n",
        "print(\"Accuracy Score for Quadratic Kernel:\", accuracy_score)"
      ],
      "execution_count": 23,
      "outputs": [
        {
          "output_type": "stream",
          "text": [
            "Accuracy Score for Quadratic Kernel: 0.8362709677419355\n"
          ],
          "name": "stdout"
        }
      ]
    },
    {
      "cell_type": "code",
      "metadata": {
        "colab": {
          "base_uri": "https://localhost:8080/"
        },
        "id": "ZLD0zkkquJs0",
        "outputId": "136fc023-4220-4a87-9859-b2793dcd8a1e"
      },
      "source": [
        "#ANSWER-7 SVM ON TITANIC DATASET USING RBF KERNEL\r\n",
        "clf = svm.SVC(kernel='rbf')\r\n",
        "clf.fit(X_train, y_train.ravel());\r\n",
        "\r\n",
        "accuracy_score = cross_val_score(clf, X_train, y_train.ravel(), cv=5, scoring='accuracy').mean()\r\n",
        "print(\"Accuracy Score for RBF Kernel:\", accuracy_score)"
      ],
      "execution_count": 24,
      "outputs": [
        {
          "output_type": "stream",
          "text": [
            "Accuracy Score for RBF Kernel: 0.8395096774193549\n"
          ],
          "name": "stdout"
        }
      ]
    },
    {
      "cell_type": "markdown",
      "metadata": {
        "id": "6ZIiY5YbaAY1"
      },
      "source": [
        ""
      ]
    }
  ]
}