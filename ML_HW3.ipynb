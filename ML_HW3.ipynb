{
  "nbformat": 4,
  "nbformat_minor": 0,
  "metadata": {
    "colab": {
      "name": "ML-HW3",
      "provenance": [],
      "authorship_tag": "ABX9TyPxdnED67X8mr2RaXsmcmrW",
      "include_colab_link": true
    },
    "kernelspec": {
      "name": "python3",
      "display_name": "Python 3"
    }
  },
  "cells": [
    {
      "cell_type": "markdown",
      "metadata": {
        "id": "view-in-github",
        "colab_type": "text"
      },
      "source": [
        "<a href=\"https://colab.research.google.com/github/vaghasiatirth24/Machine-Learning/blob/main/ML_HW3.ipynb\" target=\"_parent\"><img src=\"https://colab.research.google.com/assets/colab-badge.svg\" alt=\"Open In Colab\"/></a>"
      ]
    },
    {
      "cell_type": "code",
      "metadata": {
        "id": "Oa2sHdHWjC7e"
      },
      "source": [
        "import pandas as pd\r\n",
        "import numpy as np\r\n",
        "import matplotlib.pyplot as plt"
      ],
      "execution_count": null,
      "outputs": []
    },
    {
      "cell_type": "code",
      "metadata": {
        "id": "MVGJy2dGjj8R"
      },
      "source": [
        "train_dataset=pd.read_csv(\"train.csv\")\r\n",
        "test_data=pd.read_csv(\"test.csv\")"
      ],
      "execution_count": null,
      "outputs": []
    },
    {
      "cell_type": "code",
      "metadata": {
        "id": "DViWY0LzDdA7"
      },
      "source": [
        "test_data[\"Sex\"]=pd.get_dummies(test_data[\"Sex\"])\r\n",
        "train_dataset[\"Sex\"]=pd.get_dummies(train_dataset[\"Sex\"])"
      ],
      "execution_count": null,
      "outputs": []
    },
    {
      "cell_type": "code",
      "metadata": {
        "id": "cR7Gg30sYozP"
      },
      "source": [
        "train_dataset['Age'].fillna(train_dataset['Age'].median(), inplace = True)\r\n",
        "test_data['Age'].fillna(test_data['Age'].median(), inplace=True)\r\n",
        "\r\n",
        "train_dataset['Fare'].fillna(train_dataset['Fare'].median(), inplace = True)\r\n",
        "test_data['Fare'].fillna(test_data['Fare'].median(), inplace = True)"
      ],
      "execution_count": null,
      "outputs": []
    },
    {
      "cell_type": "code",
      "metadata": {
        "id": "Bt84AP3mDkCX"
      },
      "source": [
        "combine=[train_dataset,test_data]\r\n",
        "for dataset in combine:\r\n",
        "  dataset['Title'] = dataset.Name.str.extract(' ([A-Za-z]+)\\.', expand=False)\r\n",
        "pd.crosstab(train_dataset['Title'], train_dataset['Sex'])\r\n",
        "\r\n",
        "for dataset in combine:\r\n",
        "    dataset['Title'] = dataset['Title'].replace(['Lady', 'Countess','Capt', 'Col',\\\r\n",
        " \t'Don', 'Dr', 'Major', 'Rev', 'Sir', 'Jonkheer', 'Dona'], 'Rare')\r\n",
        "\r\n",
        "    dataset['Title'] = dataset['Title'].replace('Mlle', 'Miss')\r\n",
        "    dataset['Title'] = dataset['Title'].replace('Ms', 'Miss')\r\n",
        "    dataset['Title'] = dataset['Title'].replace('Mme', 'Mrs')\r\n",
        "    \r\n"
      ],
      "execution_count": null,
      "outputs": []
    },
    {
      "cell_type": "code",
      "metadata": {
        "id": "3kAo8fUAl_ir"
      },
      "source": [
        "title_mapping = {\"Mr\": 1, \"Miss\": 2, \"Mrs\": 3, \"Master\": 4, \"Rare\": 5}\r\n",
        "for dataset in combine:\r\n",
        "    dataset['Title'] = dataset['Title'].map(title_mapping)\r\n",
        "    dataset['Title'] = dataset['Title'].fillna(0)"
      ],
      "execution_count": null,
      "outputs": []
    },
    {
      "cell_type": "code",
      "metadata": {
        "id": "Pgd_Z-fdryM7"
      },
      "source": [
        "train_dataset['Age_bin'] = pd.cut(train_dataset['Age'], bins=[0,12,20,40,120], labels=['Children','Teenage','Adult','Elder'])\r\n",
        "test_data['Age_bin'] = pd.cut(test_data['Age'], bins=[0,12,20,40,120], labels=['Children','Teenage','Adult','Elder'])"
      ],
      "execution_count": null,
      "outputs": []
    },
    {
      "cell_type": "code",
      "metadata": {
        "id": "vTWur6Z3r89h"
      },
      "source": [
        "train_dataset['Fare_bin'] = pd.cut(train_dataset['Fare'], bins=[0,7.91,14.45,31,120], labels=['Low_fare','median_fare','Average_fare','high_fare'])\r\n",
        "test_data['Fare_bin'] = pd.cut(test_data['Fare'], bins=[0,7.91,14.45,31,120], labels=['Low_fare','median_fare','Average_fare','high_fare'])\r\n"
      ],
      "execution_count": null,
      "outputs": []
    },
    {
      "cell_type": "code",
      "metadata": {
        "id": "RitPolObsBEi"
      },
      "source": [
        "train_dataset = pd.get_dummies(train_dataset, columns = [\"Age_bin\",\"Embarked\"],prefix=[\"Age_type\",\"Em_type\"])\r\n"
      ],
      "execution_count": null,
      "outputs": []
    },
    {
      "cell_type": "code",
      "metadata": {
        "id": "eDGyF4dBusP8"
      },
      "source": [
        "test_data = pd.get_dummies(test_data, columns = [\"Age_bin\",\"Embarked\"],prefix=[\"Age_type\",\"Em_type\"])"
      ],
      "execution_count": null,
      "outputs": []
    },
    {
      "cell_type": "code",
      "metadata": {
        "id": "sE-cd9-613w3"
      },
      "source": [
        "train_dataset = pd.get_dummies(train_dataset, columns = [\"Fare_bin\"],prefix=[\"Fare_type\"])\r\n",
        "test_data = pd.get_dummies(test_data, columns = [\"Fare_bin\"],prefix=[\"Fare_type\"])"
      ],
      "execution_count": null,
      "outputs": []
    },
    {
      "cell_type": "code",
      "metadata": {
        "id": "4t4FZ9wHowww"
      },
      "source": [
        "train_dataset = train_dataset.drop(['Name','PassengerId','Cabin','Ticket'], axis=1)\r\n",
        "test_data = test_data.drop(['Name','PassengerId','Cabin','Ticket'], axis=1)"
      ],
      "execution_count": null,
      "outputs": []
    },
    {
      "cell_type": "code",
      "metadata": {
        "id": "KRdr-1movEQE"
      },
      "source": [
        "train_dataset = train_dataset.drop(['Fare','Age'], axis=1)\r\n",
        "test_data = test_data.drop(['Fare','Age'], axis=1)"
      ],
      "execution_count": null,
      "outputs": []
    },
    {
      "cell_type": "code",
      "metadata": {
        "id": "l6fnRljpoI8H",
        "colab": {
          "base_uri": "https://localhost:8080/"
        },
        "outputId": "a9ebabe7-23f4-4aab-cda1-995050cf6c1e"
      },
      "source": [
        "from sklearn.model_selection import train_test_split\r\n",
        "from sklearn.metrics import accuracy_score\r\n",
        "from sklearn.model_selection import KFold\r\n",
        "from sklearn.model_selection import cross_val_score\r\n",
        "from sklearn.model_selection import cross_val_predict\r\n",
        "from sklearn.metrics import confusion_matrix\r\n",
        "f = train_dataset.drop(\"Survived\",axis=1)\r\n",
        "t = train_dataset[\"Survived\"]\r\n",
        "X_train,X_test,y_train,y_test = train_test_split(f,t,test_size=0.3,random_state=1)\r\n",
        "X_train.shape,X_test.shape,y_train.shape,y_test.shape"
      ],
      "execution_count": null,
      "outputs": [
        {
          "output_type": "execute_result",
          "data": {
            "text/plain": [
              "((623, 16), (268, 16), (623,), (268,))"
            ]
          },
          "metadata": {
            "tags": []
          },
          "execution_count": 18
        }
      ]
    },
    {
      "cell_type": "markdown",
      "metadata": {
        "id": "o0l-f5ytuhij"
      },
      "source": [
        "TASK-2"
      ]
    },
    {
      "cell_type": "code",
      "metadata": {
        "colab": {
          "base_uri": "https://localhost:8080/",
          "height": 262
        },
        "id": "X7BioATCs-2_",
        "outputId": "f40075b1-b415-4fa1-c5c9-ce5104c6a1aa"
      },
      "source": [
        "import numpy as np\r\n",
        "import matplotlib.pyplot as plt\r\n",
        "from sklearn import svm, datasets\r\n",
        "\r\n",
        "X = np.array([\r\n",
        "    [-1, -1],\r\n",
        "    [-1, 1],\r\n",
        "    [1, -1],\r\n",
        "    [1, 1]\r\n",
        "])\r\n",
        "\r\n",
        "y = np.array([0, 1, 1, 0])\r\n",
        "\r\n",
        "h = .02  # step size in the mesh\r\n",
        "\r\n",
        "C = 1.0  # SVM regularization parameter\r\n",
        "svc = svm.SVC(kernel='linear', C=C).fit(X, y)\r\n",
        "rbf_svc = svm.SVC(kernel='rbf', gamma=0.7, C=C).fit(X, y)\r\n",
        "poly_svc = svm.SVC(kernel='poly', degree=2, C=C).fit(X, y)\r\n",
        "lin_svc = svm.LinearSVC(C=C).fit(X, y)\r\n",
        "\r\n",
        "# create a mesh to plot in\r\n",
        "x_min, x_max = X[:, 0].min() - 1, X[:, 0].max() + 1\r\n",
        "y_min, y_max = X[:, 1].min() - 1, X[:, 1].max() + 1\r\n",
        "xx, yy = np.meshgrid(np.arange(x_min, x_max, h),\r\n",
        "                     np.arange(y_min, y_max, h))\r\n",
        "\r\n",
        "# title for the plots\r\n",
        "titles = ['SVC with linear kernel',\r\n",
        "          'LinearSVC (linear kernel)',\r\n",
        "          'SVC with RBF kernel',\r\n",
        "          'SVC with polynomial (degree 3) kernel']\r\n",
        "\r\n",
        "\r\n",
        "for i, clf in enumerate((svc, lin_svc, rbf_svc, poly_svc)):\r\n",
        "   \r\n",
        "    if clf != poly_svc:\r\n",
        "        continue\r\n",
        "  \r\n",
        "\r\n",
        "    Z = clf.predict(np.c_[xx.ravel(), yy.ravel()])\r\n",
        "\r\n",
        "    Z = Z.reshape(xx.shape)\r\n",
        "    plt.contourf(xx, yy, Z, alpha=0.8)\r\n",
        "\r\n",
        "    plt.scatter(X[:, 0], X[:, 1], c='red', cmap=plt.cm.coolwarm)\r\n",
        "\r\n",
        "    plt.xlim(xx.min(), xx.max())\r\n",
        "    plt.ylim(yy.min(), yy.max())\r\n",
        "\r\n",
        "plt.show()"
      ],
      "execution_count": 44,
      "outputs": [
        {
          "output_type": "display_data",
          "data": {
            "image/png": "[encoded data removed]",
            "text/plain": [
              "<Figure size 432x288 with 1 Axes>"
            ]
          },
          "metadata": {
            "tags": []
          }
        }
      ]
    },
    {
      "cell_type": "markdown",
      "metadata": {
        "id": "a40u8SW0ueX8"
      },
      "source": [
        "TASK-5"
      ]
    },
    {
      "cell_type": "code",
      "metadata": {
        "colab": {
          "base_uri": "https://localhost:8080/",
          "height": 294
        },
        "id": "Y2W1hPOaiDbD",
        "outputId": "37dbd9af-e5f3-40fe-ebea-2c8f15b924cc"
      },
      "source": [
        "#ANSWER-5 USING GRAPH TO CHECK IF IT IS LINARLY SEPERABLE\r\n",
        "import matplotlib.pyplot as plt\r\n",
        "plt.style.use('seaborn-whitegrid')\r\n",
        "import numpy as np\r\n",
        "\r\n",
        "plt.plot([1,2,2],[1,2,0],'ro')\r\n",
        "plt.plot([0,1,0],[0,0,1],'bo')\r\n",
        "x = np.linspace(0,2,50)\r\n",
        "y = (3/2)-x\r\n",
        "plt.title('Red circle denotes +ve and Blue circle denotes -ve and black line is x1+x2=3/2')\r\n",
        "plt.plot(x, y, '-r', label='y=(3/2)-x',color='black')"
      ],
      "execution_count": 34,
      "outputs": [
        {
          "output_type": "execute_result",
          "data": {
            "text/plain": [
              "[<matplotlib.lines.Line2D at 0x7f51c8da2050>]"
            ]
          },
          "metadata": {
            "tags": []
          },
          "execution_count": 34
        },
        {
          "output_type": "display_data",
          "data": {
            "image/png": "[encoded data removed]",
            "text/plain": [
              "<Figure size 432x288 with 1 Axes>"
            ]
          },
          "metadata": {
            "tags": []
          }
        }
      ]
    },
    {
      "cell_type": "markdown",
      "metadata": {
        "id": "jY-g7-GpsV98"
      },
      "source": [
        "TASK-6"
      ]
    },
    {
      "cell_type": "code",
      "metadata": {
        "colab": {
          "base_uri": "https://localhost:8080/",
          "height": 294
        },
        "id": "mZrqvFcCiCct",
        "outputId": "69440e59-562a-4e70-b600-93d687af80df"
      },
      "source": [
        "#ANSWER-6 USING GRAPH TO CHECK IF IT IS LINARLY SEPERABLE OR NOT\r\n",
        "\r\n",
        "plt.plot([0],[0],'ro')\r\n",
        "plt.plot([0,0],[-1,+1],'bo')\r\n",
        "plt.title('Red circle denotes +ve and Blue circle denotes -ve')"
      ],
      "execution_count": 8,
      "outputs": [
        {
          "output_type": "execute_result",
          "data": {
            "text/plain": [
              "Text(0.5, 1.0, 'Red circle denotes +ve and Blue circle denotes -ve')"
            ]
          },
          "metadata": {
            "tags": []
          },
          "execution_count": 8
        },
        {
          "output_type": "display_data",
          "data": {
            "image/png": "[encoded data removed]",
            "text/plain": [
              "<Figure size 432x288 with 1 Axes>"
            ]
          },
          "metadata": {
            "tags": []
          }
        }
      ]
    },
    {
      "cell_type": "code",
      "metadata": {
        "colab": {
          "base_uri": "https://localhost:8080/",
          "height": 248
        },
        "id": "kvl2nSwIk9_A",
        "outputId": "beac08aa-9bf3-4beb-d105-3b1fa033a560"
      },
      "source": [
        "#ANSWER-6 USING 3-D GRAPH TO CHECK IF IT IS LINARLY SEPERABLE OR NOT\r\n",
        "\r\n",
        "from sklearn import svm, datasets\r\n",
        "\r\n",
        "X = np.array([\r\n",
        "  [1, 0, 0],\r\n",
        "  [1, -1*np.sqrt(2), 1],\r\n",
        "  [1, np.sqrt(2), 1]\r\n",
        "])\r\n",
        "\r\n",
        "Y = np.array([1, 0, 1])\r\n",
        "\r\n",
        "X = X[np.logical_or(Y==0,Y==1)]\r\n",
        "Y = Y[np.logical_or(Y==0,Y==1)]\r\n",
        "model = svm.SVC(kernel='linear')\r\n",
        "clf = model.fit(X, Y)\r\n",
        "\r\n",
        "\r\n",
        "z = lambda x,y: (-clf.intercept_[0]-clf.coef_[0][0]*x -clf.coef_[0][1]*y) / clf.coef_[0][2]\r\n",
        "tmp = np.linspace(-5,5,30)\r\n",
        "x,y = np.meshgrid(tmp,tmp)\r\n",
        "fig = plt.figure()\r\n",
        "ax = fig.add_subplot(111, projection='3d')\r\n",
        "ax.plot3D(X[Y==0,0], X[Y==0,1], X[Y==0,2],'ob')\r\n",
        "ax.plot3D(X[Y==1,0], X[Y==1,1], X[Y==1,2],'sr')\r\n",
        "ax.plot_surface(x, y, z(x,y))\r\n",
        "ax.view_init(30, 37)\r\n",
        "ax.set_xlabel('X Label')\r\n",
        "ax.set_ylabel('Y Label')\r\n",
        "ax.set_zlabel('Z Label')\r\n",
        "\r\n",
        "plt.show()"
      ],
      "execution_count": 38,
      "outputs": [
        {
          "output_type": "display_data",
          "data": {
            "image/png": "[encoded data removed]",
            "text/plain": [
              "<Figure size 432x288 with 1 Axes>"
            ]
          },
          "metadata": {
            "tags": []
          }
        }
      ]
    },
    {
      "cell_type": "markdown",
      "metadata": {
        "id": "ul23mvWDumAN"
      },
      "source": [
        "TASK-7"
      ]
    },
    {
      "cell_type": "code",
      "metadata": {
        "colab": {
          "base_uri": "https://localhost:8080/"
        },
        "id": "p2AaRQHOuC7F",
        "outputId": "231a7cd5-085e-40df-d8d3-c79528ab7948"
      },
      "source": [
        "#ANSWER-7 SVM ON TITANIC DATASET USING LINEAR KERNEL\r\n",
        "\r\n",
        "from sklearn import svm\r\n",
        "from sklearn.impute import KNNImputer\r\n",
        "from sklearn.model_selection import cross_val_score\r\n",
        "clf = svm.SVC(kernel='linear')   \r\n",
        "clf.fit(X_train, y_train.ravel());\r\n",
        "accuracy_score = cross_val_score(clf, X_train, y_train.ravel(), cv=5, scoring='accuracy').mean()\r\n",
        "print(\"Accuracy Score for Linear Kernel:\", accuracy_score)"
      ],
      "execution_count": null,
      "outputs": [
        {
          "output_type": "stream",
          "text": [
            "Accuracy Score for Linear Kernel: 0.8169935483870967\n"
          ],
          "name": "stdout"
        }
      ]
    },
    {
      "cell_type": "code",
      "metadata": {
        "colab": {
          "base_uri": "https://localhost:8080/"
        },
        "id": "5POB_1i9uHW7",
        "outputId": "3d88cc32-da51-4505-8084-4c250a4a2dd3"
      },
      "source": [
        "#ANSWER-7 SVM ON TITANIC DATASET USING QUADRATIC KERNEL\r\n",
        "clf = svm.SVC(kernel='poly', degree=2)\r\n",
        "clf.fit(X_train, y_train.ravel());\r\n",
        "accuracy_score = cross_val_score(clf, X_train, y_train.ravel(), cv=5, scoring='accuracy').mean()\r\n",
        "print(\"Accuracy Score for Quadratic Kernel:\", accuracy_score)"
      ],
      "execution_count": null,
      "outputs": [
        {
          "output_type": "stream",
          "text": [
            "Accuracy Score for Quadratic Kernel: 0.8362709677419355\n"
          ],
          "name": "stdout"
        }
      ]
    },
    {
      "cell_type": "code",
      "metadata": {
        "colab": {
          "base_uri": "https://localhost:8080/"
        },
        "id": "ZLD0zkkquJs0",
        "outputId": "136fc023-4220-4a87-9859-b2793dcd8a1e"
      },
      "source": [
        "#ANSWER-7 SVM ON TITANIC DATASET USING RBF KERNEL\r\n",
        "clf = svm.SVC(kernel='rbf')\r\n",
        "clf.fit(X_train, y_train.ravel());\r\n",
        "\r\n",
        "accuracy_score = cross_val_score(clf, X_train, y_train.ravel(), cv=5, scoring='accuracy').mean()\r\n",
        "print(\"Accuracy Score for RBF Kernel:\", accuracy_score)"
      ],
      "execution_count": null,
      "outputs": [
        {
          "output_type": "stream",
          "text": [
            "Accuracy Score for RBF Kernel: 0.8395096774193549\n"
          ],
          "name": "stdout"
        }
      ]
    },
    {
      "cell_type": "markdown",
      "metadata": {
        "id": "6ZIiY5YbaAY1"
      },
      "source": [
        ""
      ]
    }
  ]
}