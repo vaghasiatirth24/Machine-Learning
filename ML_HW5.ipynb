{
  "nbformat": 4,
  "nbformat_minor": 0,
  "metadata": {
    "colab": {
      "name": "ML_HW5.ipynb",
      "provenance": [],
      "collapsed_sections": [],
      "authorship_tag": "ABX9TyNDzjRrwpEUCHPUMldYFtXi",
      "include_colab_link": true
    },
    "kernelspec": {
      "name": "python3",
      "display_name": "Python 3"
    },
    "language_info": {
      "name": "python"
    }
  },
  "cells": [
    {
      "cell_type": "markdown",
      "metadata": {
        "id": "view-in-github",
        "colab_type": "text"
      },
      "source": [
        "<a href=\"https://colab.research.google.com/github/vaghasiatirth24/Machine-Learning/blob/main/ML_HW5.ipynb\" target=\"_parent\"><img src=\"https://colab.research.google.com/assets/colab-badge.svg\" alt=\"Open In Colab\"/></a>"
      ]
    },
    {
      "cell_type": "code",
      "metadata": {
        "id": "1eMbQngeard_"
      },
      "source": [
        "import numpy as np\n",
        "import pandas as pd\n",
        "import matplotlib.pyplot as plt\n",
        "from surprise import SVD, Dataset, Reader, KNNBasic\n",
        "from surprise.prediction_algorithms.knns import KNNWithMeans\n",
        "from surprise.model_selection import KFold,cross_validate"
      ],
      "execution_count": 114,
      "outputs": []
    },
    {
      "cell_type": "code",
      "metadata": {
        "id": "VdIV6RUmbiAv",
        "colab": {
          "base_uri": "https://localhost:8080/"
        },
        "outputId": "b6a91aaa-7417-4693-8dd4-ddae79a832dc"
      },
      "source": [
        "!pip install surprise"
      ],
      "execution_count": 115,
      "outputs": [
        {
          "output_type": "stream",
          "text": [
            "Requirement already satisfied: surprise in /usr/local/lib/python3.7/dist-packages (0.1)\n",
            "Requirement already satisfied: scikit-surprise in /usr/local/lib/python3.7/dist-packages (from surprise) (1.1.1)\n",
            "Requirement already satisfied: six>=1.10.0 in /usr/local/lib/python3.7/dist-packages (from scikit-surprise->surprise) (1.15.0)\n",
            "Requirement already satisfied: numpy>=1.11.2 in /usr/local/lib/python3.7/dist-packages (from scikit-surprise->surprise) (1.19.5)\n",
            "Requirement already satisfied: joblib>=0.11 in /usr/local/lib/python3.7/dist-packages (from scikit-surprise->surprise) (1.0.1)\n",
            "Requirement already satisfied: scipy>=1.0.0 in /usr/local/lib/python3.7/dist-packages (from scikit-surprise->surprise) (1.4.1)\n"
          ],
          "name": "stdout"
        }
      ]
    },
    {
      "cell_type": "code",
      "metadata": {
        "id": "NSwx_Ey_aynf"
      },
      "source": [
        "data = pd.read_csv('ratings_small.csv')\n",
        "data = data[['userId', 'movieId', 'rating']]\n",
        "reader = Reader(rating_scale=(1,5)) \n",
        "data = Dataset.load_from_df(data,reader)"
      ],
      "execution_count": 116,
      "outputs": []
    },
    {
      "cell_type": "markdown",
      "metadata": {
        "id": "nSasa-u2ce_j"
      },
      "source": [
        "# 3(c,d) PROBABILISTIC MATRIX FACTORIZATION"
      ]
    },
    {
      "cell_type": "code",
      "metadata": {
        "colab": {
          "base_uri": "https://localhost:8080/"
        },
        "id": "4C4hPh1Gb3ZP",
        "outputId": "9c29023d-e1d0-474b-88f4-b10b7923e388"
      },
      "source": [
        "svd = SVD(biased=False)\n",
        "scores = cross_validate(svd, data, measures=['RMSE', 'MAE'], cv=5, verbose=True)\n",
        "\n",
        "mean_mae = scores['test_mae'].mean()\n",
        "mean_rsme = scores['test_rmse'].mean()\n",
        "\n",
        "print(f'MEAN OF MAE FOR PMF UNDER 5-FOLD IS : {mean_mae}')\n",
        "print(f'MEAN OF RMSE FOR PMF UNDER 5-FOLD IS: {mean_rsme}')"
      ],
      "execution_count": 162,
      "outputs": [
        {
          "output_type": "stream",
          "text": [
            "Evaluating RMSE, MAE of algorithm SVD on 5 split(s).\n",
            "\n",
            "                  Fold 1  Fold 2  Fold 3  Fold 4  Fold 5  Mean    Std     \n",
            "RMSE (testset)    0.9992  1.0083  1.0059  1.0069  1.0148  1.0070  0.0050  \n",
            "MAE (testset)     0.7693  0.7780  0.7791  0.7766  0.7816  0.7769  0.0041  \n",
            "Fit time          5.13    5.12    5.15    5.07    5.06    5.11    0.04    \n",
            "Test time         0.26    0.14    0.25    0.14    0.15    0.19    0.05    \n",
            "MEAN OF MAE FOR PMF UNDER 5-FOLD IS : 0.7769358308377965\n",
            "MEAN OF RMSE FOR PMF UNDER 5-FOLD IS: 1.00702305417321\n"
          ],
          "name": "stdout"
        }
      ]
    },
    {
      "cell_type": "markdown",
      "metadata": {
        "id": "Xox7nslpcUHM"
      },
      "source": [
        "# 3(c,d) USER BASED COLLABORATIVE FILTERING"
      ]
    },
    {
      "cell_type": "code",
      "metadata": {
        "colab": {
          "base_uri": "https://localhost:8080/"
        },
        "id": "HAD9EfrMcPIz",
        "outputId": "f2d80e26-7649-435d-c74c-a8528bfbdb38"
      },
      "source": [
        "simi_options = {\n",
        "    \"user_based\": True, \n",
        "}\n",
        "\n",
        "knn_mean = KNNWithMeans(sim_options=simi_options)\n",
        "scores = cross_validate(knn_mean, data, measures=['RMSE', 'MAE'], cv=5, verbose=True)\n",
        "\n",
        "mean_mae = scores['test_mae'].mean()\n",
        "mean_rsme = scores['test_rmse'].mean()\n",
        "\n",
        "print(f'Average MAE: {mean_mae}')\n",
        "print(f'Average RMSE: {mean_rsme}')"
      ],
      "execution_count": 151,
      "outputs": [
        {
          "output_type": "stream",
          "text": [
            "Computing the msd similarity matrix...\n",
            "Done computing similarity matrix.\n",
            "Computing the msd similarity matrix...\n",
            "Done computing similarity matrix.\n",
            "Computing the msd similarity matrix...\n",
            "Done computing similarity matrix.\n",
            "Computing the msd similarity matrix...\n",
            "Done computing similarity matrix.\n",
            "Computing the msd similarity matrix...\n",
            "Done computing similarity matrix.\n",
            "Evaluating RMSE, MAE of algorithm KNNWithMeans on 5 split(s).\n",
            "\n",
            "                  Fold 1  Fold 2  Fold 3  Fold 4  Fold 5  Mean    Std     \n",
            "RMSE (testset)    0.9274  0.9217  0.9212  0.9193  0.9080  0.9195  0.0063  \n",
            "MAE (testset)     0.7093  0.7074  0.7045  0.7025  0.6955  0.7039  0.0048  \n",
            "Fit time          0.19    0.24    0.24    0.24    0.24    0.23    0.02    \n",
            "Test time         1.97    1.98    2.09    1.97    2.09    2.02    0.06    \n",
            "Average MAE: 0.7038593528194371\n",
            "Average RMSE: 0.9195151377653374\n"
          ],
          "name": "stdout"
        }
      ]
    },
    {
      "cell_type": "markdown",
      "metadata": {
        "id": "SF2H9VPFktLa"
      },
      "source": [
        "# 3(c,d) ITEM BASED COLLABORATIVE FILTERING"
      ]
    },
    {
      "cell_type": "code",
      "metadata": {
        "colab": {
          "base_uri": "https://localhost:8080/"
        },
        "id": "LBQvqgaOksTm",
        "outputId": "ddc51219-b317-4b7c-8e04-da5a4b97ae84"
      },
      "source": [
        "simi_options = {\n",
        "    \"user_based\": False\n",
        "}\n",
        "\n",
        "knn_mean = KNNWithMeans(sim_options=simi_options)\n",
        "scores = cross_validate(knn_mean, data, measures=['RMSE', 'MAE'], cv=5, verbose=True)\n",
        "\n",
        "mean_mae = scores['test_mae'].mean()\n",
        "mean_rsme = scores['test_rmse'].mean()\n",
        "\n",
        "print(f'Average MAE : {mean_mae}')\n",
        "print(f'Average RMSE : {mean_rsme}')"
      ],
      "execution_count": 152,
      "outputs": [
        {
          "output_type": "stream",
          "text": [
            "Computing the msd similarity matrix...\n",
            "Done computing similarity matrix.\n",
            "Computing the msd similarity matrix...\n",
            "Done computing similarity matrix.\n",
            "Computing the msd similarity matrix...\n",
            "Done computing similarity matrix.\n",
            "Computing the msd similarity matrix...\n",
            "Done computing similarity matrix.\n",
            "Computing the msd similarity matrix...\n",
            "Done computing similarity matrix.\n",
            "Evaluating RMSE, MAE of algorithm KNNWithMeans on 5 split(s).\n",
            "\n",
            "                  Fold 1  Fold 2  Fold 3  Fold 4  Fold 5  Mean    Std     \n",
            "RMSE (testset)    0.9155  0.9073  0.9189  0.9205  0.9072  0.9139  0.0056  \n",
            "MAE (testset)     0.7008  0.6950  0.7037  0.7036  0.6943  0.6995  0.0041  \n",
            "Fit time          5.22    5.29    7.10    4.65    4.83    5.42    0.87    \n",
            "Test time         8.66    8.71    8.77    8.56    8.71    8.68    0.07    \n",
            "Average MAE : 0.6994766645659252\n",
            "Average RMSE : 0.9138757809010407\n"
          ],
          "name": "stdout"
        }
      ]
    },
    {
      "cell_type": "markdown",
      "metadata": {
        "id": "cqw1h8aitoJy"
      },
      "source": [
        "# 3(e) FOR USER BASED"
      ]
    },
    {
      "cell_type": "code",
      "metadata": {
        "colab": {
          "base_uri": "https://localhost:8080/",
          "height": 1000
        },
        "id": "kOViSFslcram",
        "outputId": "3ad89b09-a812-4350-bbcf-827b3e647e2e"
      },
      "source": [
        "ub_mae = []\n",
        "ub_rmse=[]\n",
        "\n",
        "measures = ['cosine', 'MSD', 'pearson_baseline']\n",
        "for similarity in measures:\n",
        "    \n",
        "    simi_options = {\n",
        "    \"name\": similarity,\n",
        "    \"user_based\": True, \n",
        "    }\n",
        "    \n",
        "    knn_mean = KNNWithMeans(sim_options=simi_options)\n",
        "    scores = cross_validate(knn_mean, data, measures=['RMSE', 'MAE'], cv=5, verbose=True)\n",
        "    \n",
        "    mean_mae = scores['test_mae'].mean()\n",
        "    mean_rsme = scores['test_rmse'].mean()\n",
        "    \n",
        "    ub_mae.append(mean_mae)\n",
        "    ub_rmse.append(mean_rsme)\n",
        "\n",
        "plt.figure(figsize=(10,5))\n",
        "plt.bar(i, ub_mae, 0.5, label='MAE')\n",
        "plt.bar(i + 0.5, ub_rmse, 0.5, label='RMSE')\n",
        "plt.xlabel('measures')\n",
        "plt.ylabel('scoring')\n",
        "plt.legend(loc='best')\n",
        "plt.show()"
      ],
      "execution_count": 161,
      "outputs": [
        {
          "output_type": "stream",
          "text": [
            "Computing the cosine similarity matrix...\n",
            "Done computing similarity matrix.\n",
            "Computing the cosine similarity matrix...\n",
            "Done computing similarity matrix.\n",
            "Computing the cosine similarity matrix...\n",
            "Done computing similarity matrix.\n",
            "Computing the cosine similarity matrix...\n",
            "Done computing similarity matrix.\n",
            "Computing the cosine similarity matrix...\n",
            "Done computing similarity matrix.\n",
            "Evaluating RMSE, MAE of algorithm KNNWithMeans on 5 split(s).\n",
            "\n",
            "                  Fold 1  Fold 2  Fold 3  Fold 4  Fold 5  Mean    Std     \n",
            "RMSE (testset)    0.9264  0.9242  0.9188  0.9148  0.9288  0.9226  0.0051  \n",
            "MAE (testset)     0.7090  0.7074  0.7048  0.7006  0.7130  0.7070  0.0041  \n",
            "Fit time          0.44    0.48    0.51    0.49    0.49    0.48    0.02    \n",
            "Test time         2.09    1.93    1.95    2.07    2.01    2.01    0.07    \n",
            "Computing the msd similarity matrix...\n",
            "Done computing similarity matrix.\n",
            "Computing the msd similarity matrix...\n",
            "Done computing similarity matrix.\n",
            "Computing the msd similarity matrix...\n",
            "Done computing similarity matrix.\n",
            "Computing the msd similarity matrix...\n",
            "Done computing similarity matrix.\n",
            "Computing the msd similarity matrix...\n",
            "Done computing similarity matrix.\n",
            "Evaluating RMSE, MAE of algorithm KNNWithMeans on 5 split(s).\n",
            "\n",
            "                  Fold 1  Fold 2  Fold 3  Fold 4  Fold 5  Mean    Std     \n",
            "RMSE (testset)    0.9247  0.9190  0.9111  0.9211  0.9184  0.9189  0.0045  \n",
            "MAE (testset)     0.7102  0.7028  0.6995  0.7042  0.7019  0.7037  0.0036  \n",
            "Fit time          0.20    0.23    0.23    0.25    0.25    0.23    0.02    \n",
            "Test time         2.11    1.95    1.97    2.07    2.01    2.02    0.06    \n",
            "Estimating biases using als...\n",
            "Computing the pearson_baseline similarity matrix...\n",
            "Done computing similarity matrix.\n",
            "Estimating biases using als...\n",
            "Computing the pearson_baseline similarity matrix...\n",
            "Done computing similarity matrix.\n",
            "Estimating biases using als...\n",
            "Computing the pearson_baseline similarity matrix...\n",
            "Done computing similarity matrix.\n",
            "Estimating biases using als...\n",
            "Computing the pearson_baseline similarity matrix...\n",
            "Done computing similarity matrix.\n",
            "Estimating biases using als...\n",
            "Computing the pearson_baseline similarity matrix...\n",
            "Done computing similarity matrix.\n",
            "Evaluating RMSE, MAE of algorithm KNNWithMeans on 5 split(s).\n",
            "\n",
            "                  Fold 1  Fold 2  Fold 3  Fold 4  Fold 5  Mean    Std     \n",
            "RMSE (testset)    0.9241  0.9316  0.9275  0.9261  0.9159  0.9251  0.0052  \n",
            "MAE (testset)     0.7003  0.7027  0.7058  0.7051  0.6985  0.7025  0.0028  \n",
            "Fit time          0.89    0.93    0.94    0.96    0.94    0.93    0.02    \n",
            "Test time         1.99    1.82    1.92    1.80    1.83    1.87    0.07    \n"
          ],
          "name": "stdout"
        },
        {
          "output_type": "display_data",
          "data": {
            "image/png": "[encoded data removed]",
            "text/plain": [
              "<Figure size 720x360 with 1 Axes>"
            ]
          },
          "metadata": {
            "tags": [],
            "needs_background": "light"
          }
        }
      ]
    },
    {
      "cell_type": "markdown",
      "metadata": {
        "id": "4KLdp7Fztudu"
      },
      "source": [
        "# 3(e) FOR ITEM BASED"
      ]
    },
    {
      "cell_type": "code",
      "metadata": {
        "colab": {
          "base_uri": "https://localhost:8080/",
          "height": 1000
        },
        "id": "Xb7gXvtxc9HT",
        "outputId": "f85f15c7-a019-45e5-b8bb-6db0680dfdbe"
      },
      "source": [
        "ib_mae = []\n",
        "ib_rmse = []\n",
        "\n",
        "measures = ['cosine', 'MSD', 'pearson_baseline']\n",
        "for similarity in measures:\n",
        "    \n",
        "    similarity_options = {\n",
        "    \"name\": similarity,\n",
        "    \"user_based\": False,\n",
        "    }\n",
        "    \n",
        "    knn_mean = KNNWithMeans(similarity_options=similarity_options)\n",
        "    scores = cross_validate(knn_mean, data, measures=['RMSE', 'MAE'], cv=5, verbose=True)\n",
        "    mean_mae = scores['test_mae'].mean()\n",
        "    mean_rsme = scores['test_rmse'].mean()\n",
        "    \n",
        "    ib_mae.append(mean_mae)\n",
        "    ib_rmse.append(mean_rsme)\n",
        "    \n",
        "i = np.arange(len(measures))\n",
        "\n",
        "plt.figure(figsize=(10,5))\n",
        "plt.bar(i, ib_mae, 0.5, label='MAE')\n",
        "plt.bar(i + 0.5, ib_rmse, 0.5, label='RMSE')\n",
        "plt.xlabel('measures')\n",
        "plt.ylabel('scoring')\n",
        "plt.legend(loc='best')\n",
        "plt.show()"
      ],
      "execution_count": 121,
      "outputs": [
        {
          "output_type": "stream",
          "text": [
            "Computing the msd similarity matrix...\n",
            "Done computing similarity matrix.\n",
            "Computing the msd similarity matrix...\n",
            "Done computing similarity matrix.\n",
            "Computing the msd similarity matrix...\n",
            "Done computing similarity matrix.\n",
            "Computing the msd similarity matrix...\n",
            "Done computing similarity matrix.\n",
            "Computing the msd similarity matrix...\n",
            "Done computing similarity matrix.\n",
            "Evaluating RMSE, MAE of algorithm KNNWithMeans on 5 split(s).\n",
            "\n",
            "                  Fold 1  Fold 2  Fold 3  Fold 4  Fold 5  Mean    Std     \n",
            "RMSE (testset)    0.9064  0.9142  0.9244  0.9197  0.9258  0.9181  0.0071  \n",
            "MAE (testset)     0.6938  0.7011  0.7083  0.7028  0.7088  0.7030  0.0055  \n",
            "Fit time          0.20    0.23    0.25    0.23    0.25    0.23    0.02    \n",
            "Test time         2.01    2.09    1.96    1.95    2.08    2.02    0.06    \n",
            "Computing the msd similarity matrix...\n",
            "Done computing similarity matrix.\n",
            "Computing the msd similarity matrix...\n",
            "Done computing similarity matrix.\n",
            "Computing the msd similarity matrix...\n",
            "Done computing similarity matrix.\n",
            "Computing the msd similarity matrix...\n",
            "Done computing similarity matrix.\n",
            "Computing the msd similarity matrix...\n",
            "Done computing similarity matrix.\n",
            "Evaluating RMSE, MAE of algorithm KNNWithMeans on 5 split(s).\n",
            "\n",
            "                  Fold 1  Fold 2  Fold 3  Fold 4  Fold 5  Mean    Std     \n",
            "RMSE (testset)    0.9140  0.9188  0.9203  0.9241  0.9226  0.9200  0.0035  \n",
            "MAE (testset)     0.6984  0.7020  0.7053  0.7081  0.7061  0.7040  0.0034  \n",
            "Fit time          0.20    0.23    0.26    0.22    0.27    0.23    0.03    \n",
            "Test time         1.97    2.10    2.00    1.98    2.08    2.03    0.05    \n",
            "Computing the msd similarity matrix...\n",
            "Done computing similarity matrix.\n",
            "Computing the msd similarity matrix...\n",
            "Done computing similarity matrix.\n",
            "Computing the msd similarity matrix...\n",
            "Done computing similarity matrix.\n",
            "Computing the msd similarity matrix...\n",
            "Done computing similarity matrix.\n",
            "Computing the msd similarity matrix...\n",
            "Done computing similarity matrix.\n",
            "Evaluating RMSE, MAE of algorithm KNNWithMeans on 5 split(s).\n",
            "\n",
            "                  Fold 1  Fold 2  Fold 3  Fold 4  Fold 5  Mean    Std     \n",
            "RMSE (testset)    0.9173  0.9206  0.9258  0.9140  0.9215  0.9199  0.0040  \n",
            "MAE (testset)     0.7037  0.7040  0.7057  0.7016  0.7048  0.7040  0.0014  \n",
            "Fit time          0.20    0.23    0.24    0.22    0.26    0.23    0.02    \n",
            "Test time         2.00    2.08    1.96    2.08    1.99    2.02    0.05    \n"
          ],
          "name": "stdout"
        },
        {
          "output_type": "display_data",
          "data": {
            "image/png": "[encoded data removed]",
            "text/plain": [
              "<Figure size 720x360 with 1 Axes>"
            ]
          },
          "metadata": {
            "tags": [],
            "needs_background": "light"
          }
        }
      ]
    },
    {
      "cell_type": "markdown",
      "metadata": {
        "id": "pl2XsPc_xzJl"
      },
      "source": [
        "# 3(E) IMPACT OF METRICS ON ITEM AND USER BASED COLLAB. FILTERING "
      ]
    },
    {
      "cell_type": "code",
      "metadata": {
        "colab": {
          "base_uri": "https://localhost:8080/",
          "height": 353
        },
        "id": "Ilc38nzFxl_x",
        "outputId": "0e85d371-3fe7-4034-a37e-6c1b5edcff94"
      },
      "source": [
        "ifig=1\n",
        "labels = ['USER-BASED COLLAB. FILTERING', 'ITEM-BASED COLLAB. FILTERING']\n",
        "x = np.arange(0, len(labels) * 2.5, 2.5)\n",
        "width = 0.5\n",
        "plt.figure(ifig)\n",
        "fig, ax = plt.subplots(figsize=(18,5))\n",
        "for i in range(len(measures)):\n",
        "    ax.bar(x - (width * len(measures)) / 2 + i * width, [ub_mae[i], ib_mae[i]], width, label=measures[i])\n",
        "plt.xticks(x - width / 2, labels)\n",
        "plt.title('ITEM AND USER BASED COLLABORATIVE FILTERING FOR MAE')\n",
        "plt.ylabel('MAE')\n",
        "plt.grid(axis='y')\n",
        "plt.legend()\n",
        "plt.show()"
      ],
      "execution_count": 165,
      "outputs": [
        {
          "output_type": "display_data",
          "data": {
            "text/plain": [
              "<Figure size 432x288 with 0 Axes>"
            ]
          },
          "metadata": {
            "tags": []
          }
        },
        {
          "output_type": "display_data",
          "data": {
            "image/png": "[encoded data removed]",
            "text/plain": [
              "<Figure size 1296x360 with 1 Axes>"
            ]
          },
          "metadata": {
            "tags": [],
            "needs_background": "light"
          }
        }
      ]
    },
    {
      "cell_type": "code",
      "metadata": {
        "colab": {
          "base_uri": "https://localhost:8080/",
          "height": 353
        },
        "id": "INnuGvnExnUG",
        "outputId": "99402bf2-06fd-4d2d-fdab-f4543bb46c58"
      },
      "source": [
        "ifig=1\n",
        "labels = ['USER-BASED COLLAB. FILTERING', 'ITEM-BASED COLLAB. FILTERING']\n",
        "x = np.arange(0, len(labels) * 2.5, 2.5)\n",
        "width = 0.5\n",
        "plt.figure(ifig)\n",
        "fig, ax = plt.subplots(figsize=(18,5))\n",
        "for i in range(len(measures)):\n",
        "    ax.bar(x - (width * len(measures)) / 2 + i * width, [ub_rmse[i], ib_rmse[i]], width, label=measures[i])\n",
        "plt.xticks(x - width / 2, labels)\n",
        "plt.title('ITEM AND USER BASED COLLABORATIVE FILTERING FOR RMSE')\n",
        "plt.ylabel('RMSE')\n",
        "plt.grid(axis='y')\n",
        "plt.legend()\n",
        "plt.show()"
      ],
      "execution_count": 166,
      "outputs": [
        {
          "output_type": "display_data",
          "data": {
            "text/plain": [
              "<Figure size 432x288 with 0 Axes>"
            ]
          },
          "metadata": {
            "tags": []
          }
        },
        {
          "output_type": "display_data",
          "data": {
            "image/png": "[encoded data removed]",
            "text/plain": [
              "<Figure size 1296x360 with 1 Axes>"
            ]
          },
          "metadata": {
            "tags": [],
            "needs_background": "light"
          }
        }
      ]
    },
    {
      "cell_type": "markdown",
      "metadata": {
        "id": "vvDtZBjFfC76"
      },
      "source": [
        "# 3(f) IMPACT USING NO. OF NEIGHBOURS(KNN)\n",
        "\n",
        "\n"
      ]
    },
    {
      "cell_type": "code",
      "metadata": {
        "colab": {
          "base_uri": "https://localhost:8080/"
        },
        "id": "XmrV-XfhdBkV",
        "outputId": "4acbf438-c7f4-4c86-ae14-eb4f499c4374"
      },
      "source": [
        "kn = np.arange(1, 20, 1)\n",
        "ub_mae = []\n",
        "ub_rmse = []\n",
        "\n",
        "for i in kn: \n",
        "    simi_options = {\n",
        "    \"user_based\": True, \n",
        "    }\n",
        "    \n",
        "    knn_mean = KNNWithMeans(i, sim_options=simi_options)\n",
        "    scores = cross_validate(knn_mean, data, measures=['RMSE', 'MAE'], cv=5, verbose=True)\n",
        "    \n",
        "    mean_mae = scores['test_mae'].mean()\n",
        "    mean_rsme = scores['test_rmse'].mean()\n",
        "    \n",
        "    ub_mae.append(mean_mae)\n",
        "    ub_rmse.append(mean_rsme)"
      ],
      "execution_count": 168,
      "outputs": [
        {
          "output_type": "stream",
          "text": [
            "Computing the msd similarity matrix...\n",
            "Done computing similarity matrix.\n",
            "Computing the msd similarity matrix...\n",
            "Done computing similarity matrix.\n",
            "Computing the msd similarity matrix...\n",
            "Done computing similarity matrix.\n",
            "Computing the msd similarity matrix...\n",
            "Done computing similarity matrix.\n",
            "Computing the msd similarity matrix...\n",
            "Done computing similarity matrix.\n",
            "Evaluating RMSE, MAE of algorithm KNNWithMeans on 5 split(s).\n",
            "\n",
            "                  Fold 1  Fold 2  Fold 3  Fold 4  Fold 5  Mean    Std     \n",
            "RMSE (testset)    1.1389  1.1419  1.1475  1.1515  1.1443  1.1448  0.0044  \n",
            "MAE (testset)     0.8804  0.8829  0.8837  0.8867  0.8821  0.8832  0.0021  \n",
            "Fit time          0.21    0.26    0.26    0.25    0.24    0.24    0.02    \n",
            "Test time         1.04    1.12    1.03    1.00    1.13    1.06    0.05    \n",
            "Computing the msd similarity matrix...\n",
            "Done computing similarity matrix.\n",
            "Computing the msd similarity matrix...\n",
            "Done computing similarity matrix.\n",
            "Computing the msd similarity matrix...\n",
            "Done computing similarity matrix.\n",
            "Computing the msd similarity matrix...\n",
            "Done computing similarity matrix.\n",
            "Computing the msd similarity matrix...\n",
            "Done computing similarity matrix.\n",
            "Evaluating RMSE, MAE of algorithm KNNWithMeans on 5 split(s).\n",
            "\n",
            "                  Fold 1  Fold 2  Fold 3  Fold 4  Fold 5  Mean    Std     \n",
            "RMSE (testset)    1.0303  1.0393  1.0374  1.0355  1.0329  1.0351  0.0032  \n",
            "MAE (testset)     0.7972  0.8007  0.7997  0.8011  0.7999  0.7997  0.0013  \n",
            "Fit time          0.19    0.22    0.25    0.23    0.24    0.23    0.02    \n",
            "Test time         1.18    1.34    1.19    1.30    1.21    1.25    0.06    \n",
            "Computing the msd similarity matrix...\n",
            "Done computing similarity matrix.\n",
            "Computing the msd similarity matrix...\n",
            "Done computing similarity matrix.\n",
            "Computing the msd similarity matrix...\n",
            "Done computing similarity matrix.\n",
            "Computing the msd similarity matrix...\n",
            "Done computing similarity matrix.\n",
            "Computing the msd similarity matrix...\n",
            "Done computing similarity matrix.\n",
            "Evaluating RMSE, MAE of algorithm KNNWithMeans on 5 split(s).\n",
            "\n",
            "                  Fold 1  Fold 2  Fold 3  Fold 4  Fold 5  Mean    Std     \n",
            "RMSE (testset)    0.9914  1.0029  0.9863  0.9923  0.9937  0.9933  0.0054  \n",
            "MAE (testset)     0.7655  0.7722  0.7627  0.7702  0.7658  0.7673  0.0035  \n",
            "Fit time          0.21    0.22    0.27    0.23    0.24    0.24    0.02    \n",
            "Test time         1.40    1.38    1.27    1.37    1.28    1.34    0.05    \n",
            "Computing the msd similarity matrix...\n",
            "Done computing similarity matrix.\n",
            "Computing the msd similarity matrix...\n",
            "Done computing similarity matrix.\n",
            "Computing the msd similarity matrix...\n",
            "Done computing similarity matrix.\n",
            "Computing the msd similarity matrix...\n",
            "Done computing similarity matrix.\n",
            "Computing the msd similarity matrix...\n",
            "Done computing similarity matrix.\n",
            "Evaluating RMSE, MAE of algorithm KNNWithMeans on 5 split(s).\n",
            "\n",
            "                  Fold 1  Fold 2  Fold 3  Fold 4  Fold 5  Mean    Std     \n",
            "RMSE (testset)    0.9722  0.9718  0.9626  0.9793  0.9650  0.9702  0.0059  \n",
            "MAE (testset)     0.7507  0.7478  0.7425  0.7586  0.7445  0.7488  0.0057  \n",
            "Fit time          0.19    0.22    0.24    0.22    0.26    0.23    0.02    \n",
            "Test time         1.45    1.33    1.32    1.43    1.33    1.37    0.06    \n",
            "Computing the msd similarity matrix...\n",
            "Done computing similarity matrix.\n",
            "Computing the msd similarity matrix...\n",
            "Done computing similarity matrix.\n",
            "Computing the msd similarity matrix...\n",
            "Done computing similarity matrix.\n",
            "Computing the msd similarity matrix...\n",
            "Done computing similarity matrix.\n",
            "Computing the msd similarity matrix...\n",
            "Done computing similarity matrix.\n",
            "Evaluating RMSE, MAE of algorithm KNNWithMeans on 5 split(s).\n",
            "\n",
            "                  Fold 1  Fold 2  Fold 3  Fold 4  Fold 5  Mean    Std     \n",
            "RMSE (testset)    0.9577  0.9532  0.9542  0.9604  0.9498  0.9550  0.0037  \n",
            "MAE (testset)     0.7363  0.7324  0.7338  0.7424  0.7321  0.7354  0.0038  \n",
            "Fit time          0.19    0.24    0.26    0.24    0.24    0.23    0.02    \n",
            "Test time         1.49    1.34    1.36    1.48    1.37    1.41    0.06    \n",
            "Computing the msd similarity matrix...\n",
            "Done computing similarity matrix.\n",
            "Computing the msd similarity matrix...\n",
            "Done computing similarity matrix.\n",
            "Computing the msd similarity matrix...\n",
            "Done computing similarity matrix.\n",
            "Computing the msd similarity matrix...\n",
            "Done computing similarity matrix.\n",
            "Computing the msd similarity matrix...\n",
            "Done computing similarity matrix.\n",
            "Evaluating RMSE, MAE of algorithm KNNWithMeans on 5 split(s).\n",
            "\n",
            "                  Fold 1  Fold 2  Fold 3  Fold 4  Fold 5  Mean    Std     \n",
            "RMSE (testset)    0.9485  0.9587  0.9442  0.9422  0.9496  0.9486  0.0057  \n",
            "MAE (testset)     0.7320  0.7353  0.7266  0.7282  0.7340  0.7312  0.0033  \n",
            "Fit time          0.19    0.24    0.26    0.24    0.25    0.23    0.02    \n",
            "Test time         1.50    1.39    1.52    1.53    1.40    1.47    0.06    \n",
            "Computing the msd similarity matrix...\n",
            "Done computing similarity matrix.\n",
            "Computing the msd similarity matrix...\n",
            "Done computing similarity matrix.\n",
            "Computing the msd similarity matrix...\n",
            "Done computing similarity matrix.\n",
            "Computing the msd similarity matrix...\n",
            "Done computing similarity matrix.\n",
            "Computing the msd similarity matrix...\n",
            "Done computing similarity matrix.\n",
            "Evaluating RMSE, MAE of algorithm KNNWithMeans on 5 split(s).\n",
            "\n",
            "                  Fold 1  Fold 2  Fold 3  Fold 4  Fold 5  Mean    Std     \n",
            "RMSE (testset)    0.9375  0.9449  0.9489  0.9449  0.9376  0.9428  0.0045  \n",
            "MAE (testset)     0.7194  0.7269  0.7313  0.7292  0.7202  0.7254  0.0048  \n",
            "Fit time          0.20    0.23    0.24    0.25    0.27    0.24    0.02    \n",
            "Test time         1.56    1.45    1.60    1.49    1.47    1.51    0.06    \n",
            "Computing the msd similarity matrix...\n",
            "Done computing similarity matrix.\n",
            "Computing the msd similarity matrix...\n",
            "Done computing similarity matrix.\n",
            "Computing the msd similarity matrix...\n",
            "Done computing similarity matrix.\n",
            "Computing the msd similarity matrix...\n",
            "Done computing similarity matrix.\n",
            "Computing the msd similarity matrix...\n",
            "Done computing similarity matrix.\n",
            "Evaluating RMSE, MAE of algorithm KNNWithMeans on 5 split(s).\n",
            "\n",
            "                  Fold 1  Fold 2  Fold 3  Fold 4  Fold 5  Mean    Std     \n",
            "RMSE (testset)    0.9451  0.9356  0.9255  0.9374  0.9430  0.9373  0.0068  \n",
            "MAE (testset)     0.7260  0.7209  0.7129  0.7240  0.7235  0.7214  0.0046  \n",
            "Fit time          0.20    0.24    0.25    0.23    0.24    0.23    0.02    \n",
            "Test time         1.62    1.51    1.56    1.48    1.48    1.53    0.05    \n",
            "Computing the msd similarity matrix...\n",
            "Done computing similarity matrix.\n",
            "Computing the msd similarity matrix...\n",
            "Done computing similarity matrix.\n",
            "Computing the msd similarity matrix...\n",
            "Done computing similarity matrix.\n",
            "Computing the msd similarity matrix...\n",
            "Done computing similarity matrix.\n",
            "Computing the msd similarity matrix...\n",
            "Done computing similarity matrix.\n",
            "Evaluating RMSE, MAE of algorithm KNNWithMeans on 5 split(s).\n",
            "\n",
            "                  Fold 1  Fold 2  Fold 3  Fold 4  Fold 5  Mean    Std     \n",
            "RMSE (testset)    0.9390  0.9432  0.9292  0.9259  0.9277  0.9330  0.0068  \n",
            "MAE (testset)     0.7214  0.7247  0.7146  0.7158  0.7098  0.7173  0.0053  \n",
            "Fit time          0.19    0.27    0.26    0.23    0.26    0.24    0.03    \n",
            "Test time         1.68    1.51    1.62    1.51    1.65    1.59    0.07    \n",
            "Computing the msd similarity matrix...\n",
            "Done computing similarity matrix.\n",
            "Computing the msd similarity matrix...\n",
            "Done computing similarity matrix.\n",
            "Computing the msd similarity matrix...\n",
            "Done computing similarity matrix.\n",
            "Computing the msd similarity matrix...\n",
            "Done computing similarity matrix.\n",
            "Computing the msd similarity matrix...\n",
            "Done computing similarity matrix.\n",
            "Evaluating RMSE, MAE of algorithm KNNWithMeans on 5 split(s).\n",
            "\n",
            "                  Fold 1  Fold 2  Fold 3  Fold 4  Fold 5  Mean    Std     \n",
            "RMSE (testset)    0.9293  0.9287  0.9323  0.9295  0.9335  0.9307  0.0019  \n",
            "MAE (testset)     0.7150  0.7151  0.7160  0.7162  0.7139  0.7152  0.0008  \n",
            "Fit time          0.19    0.22    0.25    0.23    0.24    0.23    0.02    \n",
            "Test time         1.54    1.56    1.69    1.56    1.65    1.60    0.06    \n",
            "Computing the msd similarity matrix...\n",
            "Done computing similarity matrix.\n",
            "Computing the msd similarity matrix...\n",
            "Done computing similarity matrix.\n",
            "Computing the msd similarity matrix...\n",
            "Done computing similarity matrix.\n",
            "Computing the msd similarity matrix...\n",
            "Done computing similarity matrix.\n",
            "Computing the msd similarity matrix...\n",
            "Done computing similarity matrix.\n",
            "Evaluating RMSE, MAE of algorithm KNNWithMeans on 5 split(s).\n",
            "\n",
            "                  Fold 1  Fold 2  Fold 3  Fold 4  Fold 5  Mean    Std     \n",
            "RMSE (testset)    0.9308  0.9352  0.9360  0.9247  0.9258  0.9305  0.0046  \n",
            "MAE (testset)     0.7159  0.7192  0.7187  0.7098  0.7134  0.7154  0.0035  \n",
            "Fit time          0.19    0.23    0.24    0.25    0.26    0.23    0.02    \n",
            "Test time         1.60    1.57    1.71    1.59    1.70    1.63    0.06    \n",
            "Computing the msd similarity matrix...\n",
            "Done computing similarity matrix.\n",
            "Computing the msd similarity matrix...\n",
            "Done computing similarity matrix.\n",
            "Computing the msd similarity matrix...\n",
            "Done computing similarity matrix.\n",
            "Computing the msd similarity matrix...\n",
            "Done computing similarity matrix.\n",
            "Computing the msd similarity matrix...\n",
            "Done computing similarity matrix.\n",
            "Evaluating RMSE, MAE of algorithm KNNWithMeans on 5 split(s).\n",
            "\n",
            "                  Fold 1  Fold 2  Fold 3  Fold 4  Fold 5  Mean    Std     \n",
            "RMSE (testset)    0.9301  0.9305  0.9279  0.9323  0.9182  0.9278  0.0050  \n",
            "MAE (testset)     0.7141  0.7146  0.7129  0.7159  0.7054  0.7126  0.0037  \n",
            "Fit time          0.18    0.22    0.25    0.22    0.25    0.22    0.02    \n",
            "Test time         1.64    1.75    1.61    1.64    1.73    1.68    0.05    \n",
            "Computing the msd similarity matrix...\n",
            "Done computing similarity matrix.\n",
            "Computing the msd similarity matrix...\n",
            "Done computing similarity matrix.\n",
            "Computing the msd similarity matrix...\n",
            "Done computing similarity matrix.\n",
            "Computing the msd similarity matrix...\n",
            "Done computing similarity matrix.\n",
            "Computing the msd similarity matrix...\n",
            "Done computing similarity matrix.\n",
            "Evaluating RMSE, MAE of algorithm KNNWithMeans on 5 split(s).\n",
            "\n",
            "                  Fold 1  Fold 2  Fold 3  Fold 4  Fold 5  Mean    Std     \n",
            "RMSE (testset)    0.9311  0.9216  0.9285  0.9296  0.9286  0.9279  0.0033  \n",
            "MAE (testset)     0.7125  0.7065  0.7141  0.7176  0.7113  0.7124  0.0036  \n",
            "Fit time          0.21    0.23    0.24    0.22    0.26    0.23    0.02    \n",
            "Test time         1.65    1.73    1.65    1.70    1.78    1.70    0.05    \n",
            "Computing the msd similarity matrix...\n",
            "Done computing similarity matrix.\n",
            "Computing the msd similarity matrix...\n",
            "Done computing similarity matrix.\n",
            "Computing the msd similarity matrix...\n",
            "Done computing similarity matrix.\n",
            "Computing the msd similarity matrix...\n",
            "Done computing similarity matrix.\n",
            "Computing the msd similarity matrix...\n",
            "Done computing similarity matrix.\n",
            "Evaluating RMSE, MAE of algorithm KNNWithMeans on 5 split(s).\n",
            "\n",
            "                  Fold 1  Fold 2  Fold 3  Fold 4  Fold 5  Mean    Std     \n",
            "RMSE (testset)    0.9351  0.9154  0.9247  0.9257  0.9271  0.9256  0.0063  \n",
            "MAE (testset)     0.7175  0.7015  0.7138  0.7100  0.7107  0.7107  0.0053  \n",
            "Fit time          0.20    0.23    0.24    0.23    0.23    0.23    0.01    \n",
            "Test time         1.66    1.75    1.68    1.70    1.78    1.71    0.04    \n",
            "Computing the msd similarity matrix...\n",
            "Done computing similarity matrix.\n",
            "Computing the msd similarity matrix...\n",
            "Done computing similarity matrix.\n",
            "Computing the msd similarity matrix...\n",
            "Done computing similarity matrix.\n",
            "Computing the msd similarity matrix...\n",
            "Done computing similarity matrix.\n",
            "Computing the msd similarity matrix...\n",
            "Done computing similarity matrix.\n",
            "Evaluating RMSE, MAE of algorithm KNNWithMeans on 5 split(s).\n",
            "\n",
            "                  Fold 1  Fold 2  Fold 3  Fold 4  Fold 5  Mean    Std     \n",
            "RMSE (testset)    0.9152  0.9262  0.9250  0.9203  0.9356  0.9244  0.0068  \n",
            "MAE (testset)     0.7048  0.7127  0.7078  0.7046  0.7145  0.7089  0.0041  \n",
            "Fit time          0.20    0.23    0.27    0.23    0.25    0.24    0.02    \n",
            "Test time         1.70    1.82    1.72    1.81    1.68    1.75    0.06    \n",
            "Computing the msd similarity matrix...\n",
            "Done computing similarity matrix.\n",
            "Computing the msd similarity matrix...\n",
            "Done computing similarity matrix.\n",
            "Computing the msd similarity matrix...\n",
            "Done computing similarity matrix.\n",
            "Computing the msd similarity matrix...\n",
            "Done computing similarity matrix.\n",
            "Computing the msd similarity matrix...\n",
            "Done computing similarity matrix.\n",
            "Evaluating RMSE, MAE of algorithm KNNWithMeans on 5 split(s).\n",
            "\n",
            "                  Fold 1  Fold 2  Fold 3  Fold 4  Fold 5  Mean    Std     \n",
            "RMSE (testset)    0.9198  0.9276  0.9238  0.9260  0.9190  0.9233  0.0034  \n",
            "MAE (testset)     0.7055  0.7129  0.7097  0.7103  0.7048  0.7086  0.0030  \n",
            "Fit time          0.20    0.24    0.24    0.23    0.26    0.23    0.02    \n",
            "Test time         1.85    1.91    1.73    1.87    1.77    1.83    0.07    \n",
            "Computing the msd similarity matrix...\n",
            "Done computing similarity matrix.\n",
            "Computing the msd similarity matrix...\n",
            "Done computing similarity matrix.\n",
            "Computing the msd similarity matrix...\n",
            "Done computing similarity matrix.\n",
            "Computing the msd similarity matrix...\n",
            "Done computing similarity matrix.\n",
            "Computing the msd similarity matrix...\n",
            "Done computing similarity matrix.\n",
            "Evaluating RMSE, MAE of algorithm KNNWithMeans on 5 split(s).\n",
            "\n",
            "                  Fold 1  Fold 2  Fold 3  Fold 4  Fold 5  Mean    Std     \n",
            "RMSE (testset)    0.9122  0.9252  0.9296  0.9247  0.9246  0.9233  0.0058  \n",
            "MAE (testset)     0.7018  0.7093  0.7121  0.7097  0.7096  0.7085  0.0035  \n",
            "Fit time          0.19    0.24    0.26    0.24    0.26    0.24    0.02    \n",
            "Test time         1.93    1.75    1.78    1.90    1.77    1.83    0.07    \n",
            "Computing the msd similarity matrix...\n",
            "Done computing similarity matrix.\n",
            "Computing the msd similarity matrix...\n",
            "Done computing similarity matrix.\n",
            "Computing the msd similarity matrix...\n",
            "Done computing similarity matrix.\n",
            "Computing the msd similarity matrix...\n",
            "Done computing similarity matrix.\n",
            "Computing the msd similarity matrix...\n",
            "Done computing similarity matrix.\n",
            "Evaluating RMSE, MAE of algorithm KNNWithMeans on 5 split(s).\n",
            "\n",
            "                  Fold 1  Fold 2  Fold 3  Fold 4  Fold 5  Mean    Std     \n",
            "RMSE (testset)    0.9229  0.9258  0.9201  0.9287  0.9146  0.9224  0.0048  \n",
            "MAE (testset)     0.7060  0.7109  0.7078  0.7130  0.7007  0.7077  0.0042  \n",
            "Fit time          0.20    0.24    0.25    0.23    0.27    0.24    0.02    \n",
            "Test time         1.91    1.80    1.96    1.81    1.80    1.85    0.07    \n",
            "Computing the msd similarity matrix...\n",
            "Done computing similarity matrix.\n",
            "Computing the msd similarity matrix...\n",
            "Done computing similarity matrix.\n",
            "Computing the msd similarity matrix...\n",
            "Done computing similarity matrix.\n",
            "Computing the msd similarity matrix...\n",
            "Done computing similarity matrix.\n",
            "Computing the msd similarity matrix...\n",
            "Done computing similarity matrix.\n",
            "Evaluating RMSE, MAE of algorithm KNNWithMeans on 5 split(s).\n",
            "\n",
            "                  Fold 1  Fold 2  Fold 3  Fold 4  Fold 5  Mean    Std     \n",
            "RMSE (testset)    0.9244  0.9195  0.9207  0.9228  0.9285  0.9232  0.0032  \n",
            "MAE (testset)     0.7081  0.7045  0.7084  0.7048  0.7130  0.7078  0.0031  \n",
            "Fit time          0.21    0.25    0.25    0.24    0.24    0.24    0.01    \n",
            "Test time         1.89    1.82    1.94    1.79    1.80    1.85    0.06    \n"
          ],
          "name": "stdout"
        }
      ]
    },
    {
      "cell_type": "code",
      "metadata": {
        "colab": {
          "base_uri": "https://localhost:8080/"
        },
        "id": "CNHSa464fZyE",
        "outputId": "2ff56a9a-8c72-4626-9ea4-1f3cbcbc49db"
      },
      "source": [
        "ib_mae = []\n",
        "ib_rmse = []\n",
        "\n",
        "for i in kn: \n",
        "    simi_options = {\n",
        "    \"user_based\": False,  \n",
        "    }\n",
        "    \n",
        "    knn_mean = KNNWithMeans(i, sim_options=simi_options)\n",
        "    scores = cross_validate(knn_mean, data, measures=['RMSE', 'MAE'], cv=5, verbose=True)\n",
        "    \n",
        "    mean_mae = scores['test_mae'].mean()\n",
        "    mean_rsme = scores['test_rmse'].mean()\n",
        "    \n",
        "    ib_mae.append(mean_mae)\n",
        "    ib_rmse.append(mean_rsme)"
      ],
      "execution_count": 154,
      "outputs": [
        {
          "output_type": "stream",
          "text": [
            "Computing the msd similarity matrix...\n",
            "Done computing similarity matrix.\n",
            "Computing the msd similarity matrix...\n",
            "Done computing similarity matrix.\n",
            "Computing the msd similarity matrix...\n",
            "Done computing similarity matrix.\n",
            "Computing the msd similarity matrix...\n",
            "Done computing similarity matrix.\n",
            "Computing the msd similarity matrix...\n",
            "Done computing similarity matrix.\n",
            "Evaluating RMSE, MAE of algorithm KNNWithMeans on 5 split(s).\n",
            "\n",
            "                  Fold 1  Fold 2  Fold 3  Fold 4  Fold 5  Mean    Std     \n",
            "RMSE (testset)    1.1722  1.1846  1.1660  1.1708  1.1850  1.1757  0.0077  \n",
            "MAE (testset)     0.9006  0.9051  0.8944  0.8964  0.9075  0.9008  0.0050  \n",
            "Fit time          4.72    4.59    4.65    4.71    4.72    4.68    0.05    \n",
            "Test time         6.16    6.15    6.10    6.20    6.11    6.14    0.03    \n",
            "Computing the msd similarity matrix...\n",
            "Done computing similarity matrix.\n",
            "Computing the msd similarity matrix...\n",
            "Done computing similarity matrix.\n",
            "Computing the msd similarity matrix...\n",
            "Done computing similarity matrix.\n",
            "Computing the msd similarity matrix...\n",
            "Done computing similarity matrix.\n",
            "Computing the msd similarity matrix...\n",
            "Done computing similarity matrix.\n",
            "Evaluating RMSE, MAE of algorithm KNNWithMeans on 5 split(s).\n",
            "\n",
            "                  Fold 1  Fold 2  Fold 3  Fold 4  Fold 5  Mean    Std     \n",
            "RMSE (testset)    1.0534  1.0594  1.0591  1.0640  1.0663  1.0604  0.0045  \n",
            "MAE (testset)     0.8118  0.8111  0.8119  0.8175  0.8183  0.8141  0.0031  \n",
            "Fit time          4.70    4.62    4.71    4.66    4.90    4.72    0.10    \n",
            "Test time         6.70    6.69    6.55    6.72    6.64    6.66    0.06    \n",
            "Computing the msd similarity matrix...\n",
            "Done computing similarity matrix.\n",
            "Computing the msd similarity matrix...\n",
            "Done computing similarity matrix.\n",
            "Computing the msd similarity matrix...\n",
            "Done computing similarity matrix.\n",
            "Computing the msd similarity matrix...\n",
            "Done computing similarity matrix.\n",
            "Computing the msd similarity matrix...\n",
            "Done computing similarity matrix.\n",
            "Evaluating RMSE, MAE of algorithm KNNWithMeans on 5 split(s).\n",
            "\n",
            "                  Fold 1  Fold 2  Fold 3  Fold 4  Fold 5  Mean    Std     \n",
            "RMSE (testset)    1.0158  1.0139  1.0206  1.0078  1.0178  1.0152  0.0043  \n",
            "MAE (testset)     0.7793  0.7789  0.7842  0.7765  0.7793  0.7796  0.0025  \n",
            "Fit time          4.70    4.97    4.80    4.65    4.50    4.72    0.16    \n",
            "Test time         6.82    7.08    6.97    6.83    6.73    6.89    0.13    \n",
            "Computing the msd similarity matrix...\n",
            "Done computing similarity matrix.\n",
            "Computing the msd similarity matrix...\n",
            "Done computing similarity matrix.\n",
            "Computing the msd similarity matrix...\n",
            "Done computing similarity matrix.\n",
            "Computing the msd similarity matrix...\n",
            "Done computing similarity matrix.\n",
            "Computing the msd similarity matrix...\n",
            "Done computing similarity matrix.\n",
            "Evaluating RMSE, MAE of algorithm KNNWithMeans on 5 split(s).\n",
            "\n",
            "                  Fold 1  Fold 2  Fold 3  Fold 4  Fold 5  Mean    Std     \n",
            "RMSE (testset)    0.9860  0.9886  0.9926  0.9843  1.0034  0.9909  0.0068  \n",
            "MAE (testset)     0.7596  0.7611  0.7646  0.7563  0.7686  0.7620  0.0042  \n",
            "Fit time          4.57    4.72    4.58    4.61    4.57    4.61    0.06    \n",
            "Test time         6.87    6.68    6.75    6.91    6.68    6.78    0.09    \n",
            "Computing the msd similarity matrix...\n",
            "Done computing similarity matrix.\n",
            "Computing the msd similarity matrix...\n",
            "Done computing similarity matrix.\n",
            "Computing the msd similarity matrix...\n",
            "Done computing similarity matrix.\n",
            "Computing the msd similarity matrix...\n",
            "Done computing similarity matrix.\n",
            "Computing the msd similarity matrix...\n",
            "Done computing similarity matrix.\n",
            "Evaluating RMSE, MAE of algorithm KNNWithMeans on 5 split(s).\n",
            "\n",
            "                  Fold 1  Fold 2  Fold 3  Fold 4  Fold 5  Mean    Std     \n",
            "RMSE (testset)    0.9780  0.9855  0.9779  0.9687  0.9676  0.9755  0.0067  \n",
            "MAE (testset)     0.7523  0.7590  0.7520  0.7465  0.7429  0.7506  0.0055  \n",
            "Fit time          4.66    4.77    4.84    4.66    4.67    4.72    0.07    \n",
            "Test time         7.00    6.83    6.89    6.88    7.17    6.95    0.12    \n",
            "Computing the msd similarity matrix...\n",
            "Done computing similarity matrix.\n",
            "Computing the msd similarity matrix...\n",
            "Done computing similarity matrix.\n",
            "Computing the msd similarity matrix...\n",
            "Done computing similarity matrix.\n",
            "Computing the msd similarity matrix...\n",
            "Done computing similarity matrix.\n",
            "Computing the msd similarity matrix...\n",
            "Done computing similarity matrix.\n",
            "Evaluating RMSE, MAE of algorithm KNNWithMeans on 5 split(s).\n",
            "\n",
            "                  Fold 1  Fold 2  Fold 3  Fold 4  Fold 5  Mean    Std     \n",
            "RMSE (testset)    0.9681  0.9607  0.9629  0.9685  0.9634  0.9647  0.0031  \n",
            "MAE (testset)     0.7451  0.7380  0.7384  0.7433  0.7385  0.7407  0.0030  \n",
            "Fit time          4.82    4.78    4.86    4.69    4.76    4.78    0.06    \n",
            "Test time         7.18    6.93    6.94    6.99    6.95    7.00    0.09    \n",
            "Computing the msd similarity matrix...\n",
            "Done computing similarity matrix.\n",
            "Computing the msd similarity matrix...\n",
            "Done computing similarity matrix.\n",
            "Computing the msd similarity matrix...\n",
            "Done computing similarity matrix.\n",
            "Computing the msd similarity matrix...\n",
            "Done computing similarity matrix.\n",
            "Computing the msd similarity matrix...\n",
            "Done computing similarity matrix.\n",
            "Evaluating RMSE, MAE of algorithm KNNWithMeans on 5 split(s).\n",
            "\n",
            "                  Fold 1  Fold 2  Fold 3  Fold 4  Fold 5  Mean    Std     \n",
            "RMSE (testset)    0.9603  0.9509  0.9638  0.9515  0.9612  0.9575  0.0053  \n",
            "MAE (testset)     0.7387  0.7318  0.7392  0.7332  0.7391  0.7364  0.0032  \n",
            "Fit time          4.56    4.74    4.68    4.79    4.73    4.70    0.08    \n",
            "Test time         7.27    7.01    7.25    7.31    7.25    7.22    0.11    \n",
            "Computing the msd similarity matrix...\n",
            "Done computing similarity matrix.\n",
            "Computing the msd similarity matrix...\n",
            "Done computing similarity matrix.\n",
            "Computing the msd similarity matrix...\n",
            "Done computing similarity matrix.\n",
            "Computing the msd similarity matrix...\n",
            "Done computing similarity matrix.\n",
            "Computing the msd similarity matrix...\n",
            "Done computing similarity matrix.\n",
            "Evaluating RMSE, MAE of algorithm KNNWithMeans on 5 split(s).\n",
            "\n",
            "                  Fold 1  Fold 2  Fold 3  Fold 4  Fold 5  Mean    Std     \n",
            "RMSE (testset)    0.9473  0.9530  0.9575  0.9533  0.9387  0.9499  0.0065  \n",
            "MAE (testset)     0.7282  0.7321  0.7344  0.7314  0.7214  0.7295  0.0045  \n",
            "Fit time          4.61    4.74    4.68    4.88    4.76    4.73    0.09    \n",
            "Test time         7.38    7.20    7.56    7.41    7.14    7.34    0.15    \n",
            "Computing the msd similarity matrix...\n",
            "Done computing similarity matrix.\n",
            "Computing the msd similarity matrix...\n",
            "Done computing similarity matrix.\n",
            "Computing the msd similarity matrix...\n",
            "Done computing similarity matrix.\n",
            "Computing the msd similarity matrix...\n",
            "Done computing similarity matrix.\n",
            "Computing the msd similarity matrix...\n",
            "Done computing similarity matrix.\n",
            "Evaluating RMSE, MAE of algorithm KNNWithMeans on 5 split(s).\n",
            "\n",
            "                  Fold 1  Fold 2  Fold 3  Fold 4  Fold 5  Mean    Std     \n",
            "RMSE (testset)    0.9372  0.9543  0.9542  0.9529  0.9409  0.9479  0.0073  \n",
            "MAE (testset)     0.7209  0.7317  0.7322  0.7303  0.7240  0.7278  0.0045  \n",
            "Fit time          4.81    4.85    4.91    4.62    4.70    4.78    0.10    \n",
            "Test time         7.42    7.15    7.29    7.10    7.22    7.23    0.11    \n",
            "Computing the msd similarity matrix...\n",
            "Done computing similarity matrix.\n",
            "Computing the msd similarity matrix...\n",
            "Done computing similarity matrix.\n",
            "Computing the msd similarity matrix...\n",
            "Done computing similarity matrix.\n",
            "Computing the msd similarity matrix...\n",
            "Done computing similarity matrix.\n",
            "Computing the msd similarity matrix...\n",
            "Done computing similarity matrix.\n",
            "Evaluating RMSE, MAE of algorithm KNNWithMeans on 5 split(s).\n",
            "\n",
            "                  Fold 1  Fold 2  Fold 3  Fold 4  Fold 5  Mean    Std     \n",
            "RMSE (testset)    0.9462  0.9434  0.9385  0.9371  0.9483  0.9427  0.0043  \n",
            "MAE (testset)     0.7287  0.7261  0.7202  0.7158  0.7286  0.7239  0.0051  \n",
            "Fit time          4.68    4.69    4.68    4.51    4.70    4.65    0.07    \n",
            "Test time         7.46    7.36    7.14    7.30    7.38    7.33    0.11    \n",
            "Computing the msd similarity matrix...\n",
            "Done computing similarity matrix.\n",
            "Computing the msd similarity matrix...\n",
            "Done computing similarity matrix.\n",
            "Computing the msd similarity matrix...\n",
            "Done computing similarity matrix.\n",
            "Computing the msd similarity matrix...\n",
            "Done computing similarity matrix.\n",
            "Computing the msd similarity matrix...\n",
            "Done computing similarity matrix.\n",
            "Evaluating RMSE, MAE of algorithm KNNWithMeans on 5 split(s).\n",
            "\n",
            "                  Fold 1  Fold 2  Fold 3  Fold 4  Fold 5  Mean    Std     \n",
            "RMSE (testset)    0.9381  0.9367  0.9320  0.9447  0.9458  0.9394  0.0052  \n",
            "MAE (testset)     0.7188  0.7185  0.7186  0.7237  0.7243  0.7208  0.0026  \n",
            "Fit time          4.77    4.67    4.68    4.91    4.66    4.74    0.09    \n",
            "Test time         7.71    7.27    7.41    7.69    7.51    7.52    0.17    \n",
            "Computing the msd similarity matrix...\n",
            "Done computing similarity matrix.\n",
            "Computing the msd similarity matrix...\n",
            "Done computing similarity matrix.\n",
            "Computing the msd similarity matrix...\n",
            "Done computing similarity matrix.\n",
            "Computing the msd similarity matrix...\n",
            "Done computing similarity matrix.\n",
            "Computing the msd similarity matrix...\n",
            "Done computing similarity matrix.\n",
            "Evaluating RMSE, MAE of algorithm KNNWithMeans on 5 split(s).\n",
            "\n",
            "                  Fold 1  Fold 2  Fold 3  Fold 4  Fold 5  Mean    Std     \n",
            "RMSE (testset)    0.9374  0.9347  0.9343  0.9316  0.9383  0.9353  0.0024  \n",
            "MAE (testset)     0.7170  0.7182  0.7172  0.7147  0.7198  0.7174  0.0017  \n",
            "Fit time          4.71    4.63    4.77    4.66    4.66    4.68    0.05    \n",
            "Test time         7.46    7.55    7.57    7.62    7.41    7.52    0.08    \n",
            "Computing the msd similarity matrix...\n",
            "Done computing similarity matrix.\n",
            "Computing the msd similarity matrix...\n",
            "Done computing similarity matrix.\n",
            "Computing the msd similarity matrix...\n",
            "Done computing similarity matrix.\n",
            "Computing the msd similarity matrix...\n",
            "Done computing similarity matrix.\n",
            "Computing the msd similarity matrix...\n",
            "Done computing similarity matrix.\n",
            "Evaluating RMSE, MAE of algorithm KNNWithMeans on 5 split(s).\n",
            "\n",
            "                  Fold 1  Fold 2  Fold 3  Fold 4  Fold 5  Mean    Std     \n",
            "RMSE (testset)    0.9372  0.9380  0.9262  0.9228  0.9417  0.9332  0.0073  \n",
            "MAE (testset)     0.7175  0.7218  0.7148  0.7069  0.7221  0.7166  0.0056  \n",
            "Fit time          4.86    4.94    4.80    4.78    4.92    4.86    0.06    \n",
            "Test time         7.71    7.74    8.15    7.65    7.92    7.84    0.18    \n",
            "Computing the msd similarity matrix...\n",
            "Done computing similarity matrix.\n",
            "Computing the msd similarity matrix...\n",
            "Done computing similarity matrix.\n",
            "Computing the msd similarity matrix...\n",
            "Done computing similarity matrix.\n",
            "Computing the msd similarity matrix...\n",
            "Done computing similarity matrix.\n",
            "Computing the msd similarity matrix...\n",
            "Done computing similarity matrix.\n",
            "Evaluating RMSE, MAE of algorithm KNNWithMeans on 5 split(s).\n",
            "\n",
            "                  Fold 1  Fold 2  Fold 3  Fold 4  Fold 5  Mean    Std     \n",
            "RMSE (testset)    0.9233  0.9302  0.9339  0.9281  0.9353  0.9302  0.0043  \n",
            "MAE (testset)     0.7077  0.7150  0.7158  0.7132  0.7192  0.7142  0.0038  \n",
            "Fit time          4.75    4.64    4.69    4.87    4.78    4.75    0.08    \n",
            "Test time         7.92    7.78    7.54    7.73    7.63    7.72    0.13    \n",
            "Computing the msd similarity matrix...\n",
            "Done computing similarity matrix.\n",
            "Computing the msd similarity matrix...\n",
            "Done computing similarity matrix.\n",
            "Computing the msd similarity matrix...\n",
            "Done computing similarity matrix.\n",
            "Computing the msd similarity matrix...\n",
            "Done computing similarity matrix.\n",
            "Computing the msd similarity matrix...\n",
            "Done computing similarity matrix.\n",
            "Evaluating RMSE, MAE of algorithm KNNWithMeans on 5 split(s).\n",
            "\n",
            "                  Fold 1  Fold 2  Fold 3  Fold 4  Fold 5  Mean    Std     \n",
            "RMSE (testset)    0.9404  0.9262  0.9311  0.9246  0.9249  0.9295  0.0060  \n",
            "MAE (testset)     0.7188  0.7120  0.7157  0.7102  0.7096  0.7133  0.0035  \n",
            "Fit time          4.57    4.86    4.76    4.67    4.62    4.70    0.10    \n",
            "Test time         7.80    7.65    7.70    7.79    7.74    7.74    0.05    \n",
            "Computing the msd similarity matrix...\n",
            "Done computing similarity matrix.\n",
            "Computing the msd similarity matrix...\n",
            "Done computing similarity matrix.\n",
            "Computing the msd similarity matrix...\n",
            "Done computing similarity matrix.\n",
            "Computing the msd similarity matrix...\n",
            "Done computing similarity matrix.\n",
            "Computing the msd similarity matrix...\n",
            "Done computing similarity matrix.\n",
            "Evaluating RMSE, MAE of algorithm KNNWithMeans on 5 split(s).\n",
            "\n",
            "                  Fold 1  Fold 2  Fold 3  Fold 4  Fold 5  Mean    Std     \n",
            "RMSE (testset)    0.9346  0.9348  0.9333  0.9140  0.9292  0.9292  0.0079  \n",
            "MAE (testset)     0.7170  0.7157  0.7161  0.7014  0.7145  0.7129  0.0058  \n",
            "Fit time          4.58    4.60    4.76    4.81    4.82    4.71    0.11    \n",
            "Test time         7.57    7.73    7.65    7.84    7.84    7.72    0.11    \n",
            "Computing the msd similarity matrix...\n",
            "Done computing similarity matrix.\n",
            "Computing the msd similarity matrix...\n",
            "Done computing similarity matrix.\n",
            "Computing the msd similarity matrix...\n",
            "Done computing similarity matrix.\n",
            "Computing the msd similarity matrix...\n",
            "Done computing similarity matrix.\n",
            "Computing the msd similarity matrix...\n",
            "Done computing similarity matrix.\n",
            "Evaluating RMSE, MAE of algorithm KNNWithMeans on 5 split(s).\n",
            "\n",
            "                  Fold 1  Fold 2  Fold 3  Fold 4  Fold 5  Mean    Std     \n",
            "RMSE (testset)    0.9192  0.9243  0.9366  0.9248  0.9300  0.9270  0.0059  \n",
            "MAE (testset)     0.7072  0.7070  0.7189  0.7099  0.7151  0.7116  0.0047  \n",
            "Fit time          4.68    4.66    4.69    4.83    4.67    4.70    0.07    \n",
            "Test time         7.94    7.99    7.95    7.87    8.00    7.95    0.05    \n",
            "Computing the msd similarity matrix...\n",
            "Done computing similarity matrix.\n",
            "Computing the msd similarity matrix...\n",
            "Done computing similarity matrix.\n",
            "Computing the msd similarity matrix...\n",
            "Done computing similarity matrix.\n",
            "Computing the msd similarity matrix...\n",
            "Done computing similarity matrix.\n",
            "Computing the msd similarity matrix...\n",
            "Done computing similarity matrix.\n",
            "Evaluating RMSE, MAE of algorithm KNNWithMeans on 5 split(s).\n",
            "\n",
            "                  Fold 1  Fold 2  Fold 3  Fold 4  Fold 5  Mean    Std     \n",
            "RMSE (testset)    0.9275  0.9228  0.9303  0.9240  0.9282  0.9265  0.0028  \n",
            "MAE (testset)     0.7111  0.7105  0.7138  0.7085  0.7105  0.7109  0.0017  \n",
            "Fit time          4.69    4.57    5.36    4.77    4.85    4.85    0.27    \n",
            "Test time         8.02    8.25    8.07    8.03    7.96    8.07    0.10    \n",
            "Computing the msd similarity matrix...\n",
            "Done computing similarity matrix.\n",
            "Computing the msd similarity matrix...\n",
            "Done computing similarity matrix.\n",
            "Computing the msd similarity matrix...\n",
            "Done computing similarity matrix.\n",
            "Computing the msd similarity matrix...\n",
            "Done computing similarity matrix.\n",
            "Computing the msd similarity matrix...\n",
            "Done computing similarity matrix.\n",
            "Evaluating RMSE, MAE of algorithm KNNWithMeans on 5 split(s).\n",
            "\n",
            "                  Fold 1  Fold 2  Fold 3  Fold 4  Fold 5  Mean    Std     \n",
            "RMSE (testset)    0.9197  0.9330  0.9268  0.9159  0.9292  0.9249  0.0062  \n",
            "MAE (testset)     0.7068  0.7164  0.7120  0.7033  0.7101  0.7097  0.0044  \n",
            "Fit time          4.83    4.88    4.70    4.76    4.96    4.83    0.09    \n",
            "Test time         8.24    7.96    7.97    8.17    8.00    8.07    0.11    \n"
          ],
          "name": "stdout"
        }
      ]
    },
    {
      "cell_type": "code",
      "metadata": {
        "colab": {
          "base_uri": "https://localhost:8080/",
          "height": 683
        },
        "id": "EfNM0zhnygL5",
        "outputId": "f8e7276e-840a-46f4-e6b2-0f58106355bc"
      },
      "source": [
        "plt.figure(figsize=(10,5))\n",
        "plt.plot(kn, ub_rmse)\n",
        "plt.title('NEIGHBOURS FOR RMSE ON USER-BASED COLLAB. FILTERING')\n",
        "plt.xlabel('neighbors')\n",
        "plt.ylabel('RMSE')\n",
        "\n",
        "plt.show()\n",
        "\n",
        "plt.figure(figsize=(10,5))\n",
        "plt.plot(kn, ib_rmse)\n",
        "plt.title('NEIGHBOURS FOR RMSE ON ITEM-BASED COLLAB. FILTERING')\n",
        "plt.xlabel('neighbors')\n",
        "plt.ylabel('RMSE')\n",
        "\n",
        "plt.show()"
      ],
      "execution_count": 169,
      "outputs": [
        {
          "output_type": "display_data",
          "data": {
            "image/png": "[encoded data removed]",
            "text/plain": [
              "<Figure size 720x360 with 1 Axes>"
            ]
          },
          "metadata": {
            "tags": [],
            "needs_background": "light"
          }
        },
        {
          "output_type": "display_data",
          "data": {
            "image/png": "[encoded data removed]",
            "text/plain": [
              "<Figure size 720x360 with 1 Axes>"
            ]
          },
          "metadata": {
            "tags": [],
            "needs_background": "light"
          }
        }
      ]
    },
    {
      "cell_type": "markdown",
      "metadata": {
        "id": "qdreUsAE0cwY"
      },
      "source": [
        "3(G) BEST NUMBER OF NEIGHBOURS"
      ]
    },
    {
      "cell_type": "code",
      "metadata": {
        "colab": {
          "base_uri": "https://localhost:8080/"
        },
        "id": "9yRoI2ESX1fx",
        "outputId": "4e974529-7c69-4ee4-bc26-652a4551ea63"
      },
      "source": [
        "print('USER-BASED COLLAB. FILTERING - MAE')\n",
        "print('Best K: ', kn[np.argmin(ub_mae)])\n",
        "print('Best K MAE: ', np.min(ub_mae))\n",
        "\n",
        "print('\\nUSER-BASED COLLAB. FILTERING - RMSE')\n",
        "print('Best K: ', kn[np.argmin(ub_rmse)])\n",
        "print('Best K RMSE: ', np.min(ub_rmse))\n",
        "\n",
        "print('\\nITEM-BASED COLLAB. FILTERING - MAE')\n",
        "print('Best K: ', kn[np.argmin(ib_mae)])\n",
        "print('Best K MAE: ', np.min(ib_mae))\n",
        "\n",
        "print('\\nITEM-BASED COLLAB. FILTERING - RMSE')\n",
        "print('Best K: ', kn[np.argmin(ib_rmse)])\n",
        "print('Best K RMSE: ', np.min(ib_rmse))\n"
      ],
      "execution_count": 170,
      "outputs": [
        {
          "output_type": "stream",
          "text": [
            "USER-BASED COLLAB. FILTERING - MAE\n",
            "Best K:  18\n",
            "Best K MAE:  0.7076798402259414\n",
            "\n",
            "USER-BASED COLLAB. FILTERING - RMSE\n",
            "Best K:  18\n",
            "Best K RMSE:  0.9224289692338251\n",
            "\n",
            "ITEM-BASED COLLAB. FILTERING - MAE\n",
            "Best K:  19\n",
            "Best K MAE:  0.7097096917245098\n",
            "\n",
            "ITEM-BASED COLLAB. FILTERING - RMSE\n",
            "Best K:  19\n",
            "Best K RMSE:  0.9249267223223878\n"
          ],
          "name": "stdout"
        }
      ]
    },
    {
      "cell_type": "markdown",
      "metadata": {
        "id": "lImkeBGKU8ka"
      },
      "source": [
        ""
      ]
    }
  ]
}