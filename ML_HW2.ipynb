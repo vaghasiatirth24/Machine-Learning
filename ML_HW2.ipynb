{
  "nbformat": 4,
  "nbformat_minor": 0,
  "metadata": {
    "colab": {
      "name": "ML-HW2",
      "provenance": [],
      "authorship_tag": "ABX9TyPrk1tleE12lcLU1gORVElP",
      "include_colab_link": true
    },
    "kernelspec": {
      "name": "python3",
      "display_name": "Python 3"
    }
  },
  "cells": [
    {
      "cell_type": "markdown",
      "metadata": {
        "id": "view-in-github",
        "colab_type": "text"
      },
      "source": [
        "<a href=\"https://colab.research.google.com/github/vaghasiatirth24/Machine-Learning/blob/main/ML_HW2.ipynb\" target=\"_parent\"><img src=\"https://colab.research.google.com/assets/colab-badge.svg\" alt=\"Open In Colab\"/></a>"
      ]
    },
    {
      "cell_type": "code",
      "metadata": {
        "id": "Oa2sHdHWjC7e"
      },
      "source": [
        "import pandas as pd\r\n",
        "import numpy as np\r\n",
        "import matplotlib.pyplot as plt"
      ],
      "execution_count": null,
      "outputs": []
    },
    {
      "cell_type": "code",
      "metadata": {
        "id": "MVGJy2dGjj8R"
      },
      "source": [
        "train_dataset=pd.read_csv(\"train.csv\")\r\n",
        "test_data=pd.read_csv(\"test.csv\")"
      ],
      "execution_count": null,
      "outputs": []
    },
    {
      "cell_type": "code",
      "metadata": {
        "id": "ju4OzDRIn_F4",
        "colab": {
          "base_uri": "https://localhost:8080/"
        },
        "outputId": "c30fd17d-26b9-40d4-816a-3ad5eda0d26c"
      },
      "source": [
        "print(train_dataset.isnull().sum())"
      ],
      "execution_count": null,
      "outputs": [
        {
          "output_type": "stream",
          "text": [
            "PassengerId      0\n",
            "Survived         0\n",
            "Pclass           0\n",
            "Name             0\n",
            "Sex              0\n",
            "Age            177\n",
            "SibSp            0\n",
            "Parch            0\n",
            "Ticket           0\n",
            "Fare             0\n",
            "Cabin          687\n",
            "Embarked         2\n",
            "dtype: int64\n"
          ],
          "name": "stdout"
        }
      ]
    },
    {
      "cell_type": "code",
      "metadata": {
        "id": "DViWY0LzDdA7"
      },
      "source": [
        "test_data[\"Sex\"]=pd.get_dummies(test_data[\"Sex\"])\r\n",
        "train_dataset[\"Sex\"]=pd.get_dummies(train_dataset[\"Sex\"])"
      ],
      "execution_count": null,
      "outputs": []
    },
    {
      "cell_type": "code",
      "metadata": {
        "id": "cR7Gg30sYozP"
      },
      "source": [
        "train_dataset['Age'].fillna(train_dataset['Age'].median(), inplace = True)\r\n",
        "test_data['Age'].fillna(test_data['Age'].median(), inplace=True)\r\n",
        "\r\n",
        "train_dataset['Fare'].fillna(train_dataset['Fare'].median(), inplace = True)\r\n",
        "test_data['Fare'].fillna(test_data['Fare'].median(), inplace = True)"
      ],
      "execution_count": null,
      "outputs": []
    },
    {
      "cell_type": "code",
      "metadata": {
        "id": "Bt84AP3mDkCX"
      },
      "source": [
        "combine=[train_dataset,test_data]\r\n",
        "for dataset in combine:\r\n",
        "  dataset['Title'] = dataset.Name.str.extract(' ([A-Za-z]+)\\.', expand=False)\r\n",
        "pd.crosstab(train_dataset['Title'], train_dataset['Sex'])\r\n",
        "\r\n",
        "for dataset in combine:\r\n",
        "    dataset['Title'] = dataset['Title'].replace(['Lady', 'Countess','Capt', 'Col',\\\r\n",
        " \t'Don', 'Dr', 'Major', 'Rev', 'Sir', 'Jonkheer', 'Dona'], 'Rare')\r\n",
        "\r\n",
        "    dataset['Title'] = dataset['Title'].replace('Mlle', 'Miss')\r\n",
        "    dataset['Title'] = dataset['Title'].replace('Ms', 'Miss')\r\n",
        "    dataset['Title'] = dataset['Title'].replace('Mme', 'Mrs')\r\n",
        "    \r\n"
      ],
      "execution_count": null,
      "outputs": []
    },
    {
      "cell_type": "code",
      "metadata": {
        "id": "3kAo8fUAl_ir"
      },
      "source": [
        "title_mapping = {\"Mr\": 1, \"Miss\": 2, \"Mrs\": 3, \"Master\": 4, \"Rare\": 5}\r\n",
        "for dataset in combine:\r\n",
        "    dataset['Title'] = dataset['Title'].map(title_mapping)\r\n",
        "    dataset['Title'] = dataset['Title'].fillna(0)"
      ],
      "execution_count": null,
      "outputs": []
    },
    {
      "cell_type": "code",
      "metadata": {
        "id": "Pgd_Z-fdryM7"
      },
      "source": [
        "train_dataset['Age_bin'] = pd.cut(train_dataset['Age'], bins=[0,12,20,40,120], labels=['Children','Teenage','Adult','Elder'])\r\n",
        "test_data['Age_bin'] = pd.cut(test_data['Age'], bins=[0,12,20,40,120], labels=['Children','Teenage','Adult','Elder'])"
      ],
      "execution_count": null,
      "outputs": []
    },
    {
      "cell_type": "code",
      "metadata": {
        "id": "vTWur6Z3r89h"
      },
      "source": [
        "train_dataset['Fare_bin'] = pd.cut(train_dataset['Fare'], bins=[0,7.91,14.45,31,120], labels=['Low_fare','median_fare','Average_fare','high_fare'])\r\n",
        "test_data['Fare_bin'] = pd.cut(test_data['Fare'], bins=[0,7.91,14.45,31,120], labels=['Low_fare','median_fare','Average_fare','high_fare'])\r\n"
      ],
      "execution_count": null,
      "outputs": []
    },
    {
      "cell_type": "code",
      "metadata": {
        "colab": {
          "base_uri": "https://localhost:8080/"
        },
        "id": "yWIl_2epvrwT",
        "outputId": "dc8c6988-c540-4232-dc55-537c1e5580d4"
      },
      "source": [
        "print(train_dataset.iloc[0])"
      ],
      "execution_count": null,
      "outputs": [
        {
          "output_type": "stream",
          "text": [
            "PassengerId                          1\n",
            "Survived                             0\n",
            "Pclass                               3\n",
            "Name           Braund, Mr. Owen Harris\n",
            "Sex                                  0\n",
            "Age                                 22\n",
            "SibSp                                1\n",
            "Parch                                0\n",
            "Ticket                       A/5 21171\n",
            "Fare                              7.25\n",
            "Cabin                              NaN\n",
            "Embarked                             S\n",
            "Title                                1\n",
            "Age_bin                          Adult\n",
            "Fare_bin                      Low_fare\n",
            "Name: 0, dtype: object\n"
          ],
          "name": "stdout"
        }
      ]
    },
    {
      "cell_type": "code",
      "metadata": {
        "colab": {
          "base_uri": "https://localhost:8080/"
        },
        "id": "JcTeNfqgs44P",
        "outputId": "2e4389f2-9923-450c-b4a9-e532d4465224"
      },
      "source": [
        "print(test_data.iloc[0])"
      ],
      "execution_count": null,
      "outputs": [
        {
          "output_type": "stream",
          "text": [
            "PassengerId                 892\n",
            "Pclass                        3\n",
            "Name           Kelly, Mr. James\n",
            "Sex                           0\n",
            "Age                        34.5\n",
            "SibSp                         0\n",
            "Parch                         0\n",
            "Ticket                   330911\n",
            "Fare                     7.8292\n",
            "Cabin                       NaN\n",
            "Embarked                      Q\n",
            "Title                         1\n",
            "Age_bin                   Adult\n",
            "Fare_bin               Low_fare\n",
            "Name: 0, dtype: object\n"
          ],
          "name": "stdout"
        }
      ]
    },
    {
      "cell_type": "code",
      "metadata": {
        "id": "RitPolObsBEi"
      },
      "source": [
        "train_dataset = pd.get_dummies(train_dataset, columns = [\"Age_bin\",\"Embarked\"],prefix=[\"Age_type\",\"Em_type\"])\r\n"
      ],
      "execution_count": null,
      "outputs": []
    },
    {
      "cell_type": "code",
      "metadata": {
        "id": "eDGyF4dBusP8"
      },
      "source": [
        "test_data = pd.get_dummies(test_data, columns = [\"Age_bin\",\"Embarked\"],prefix=[\"Age_type\",\"Em_type\"])"
      ],
      "execution_count": null,
      "outputs": []
    },
    {
      "cell_type": "code",
      "metadata": {
        "id": "sE-cd9-613w3"
      },
      "source": [
        "train_dataset = pd.get_dummies(train_dataset, columns = [\"Fare_bin\"],prefix=[\"Fare_type\"])\r\n",
        "test_data = pd.get_dummies(test_data, columns = [\"Fare_bin\"],prefix=[\"Fare_type\"])"
      ],
      "execution_count": null,
      "outputs": []
    },
    {
      "cell_type": "code",
      "metadata": {
        "id": "4t4FZ9wHowww"
      },
      "source": [
        "train_dataset = train_dataset.drop(['Name','PassengerId','Cabin','Ticket'], axis=1)\r\n",
        "test_data = test_data.drop(['Name','PassengerId','Cabin','Ticket'], axis=1)"
      ],
      "execution_count": null,
      "outputs": []
    },
    {
      "cell_type": "code",
      "metadata": {
        "id": "KRdr-1movEQE"
      },
      "source": [
        "train_dataset = train_dataset.drop(['Fare','Age'], axis=1)\r\n",
        "test_data = test_data.drop(['Fare','Age'], axis=1)"
      ],
      "execution_count": null,
      "outputs": []
    },
    {
      "cell_type": "code",
      "metadata": {
        "colab": {
          "base_uri": "https://localhost:8080/"
        },
        "id": "oCRzSurmzLZi",
        "outputId": "c6d5130b-4548-4869-bbb5-4cd8110e5b1a"
      },
      "source": [
        "print(train_dataset.iloc[0])"
      ],
      "execution_count": null,
      "outputs": [
        {
          "output_type": "stream",
          "text": [
            "Survived                  0\n",
            "Pclass                    3\n",
            "Sex                       0\n",
            "SibSp                     1\n",
            "Parch                     0\n",
            "Title                     1\n",
            "Age_type_Children         0\n",
            "Age_type_Teenage          0\n",
            "Age_type_Adult            1\n",
            "Age_type_Elder            0\n",
            "Em_type_C                 0\n",
            "Em_type_Q                 0\n",
            "Em_type_S                 1\n",
            "Fare_type_Low_fare        1\n",
            "Fare_type_median_fare     0\n",
            "Fare_type_Average_fare    0\n",
            "Fare_type_high_fare       0\n",
            "Name: 0, dtype: int64\n"
          ],
          "name": "stdout"
        }
      ]
    },
    {
      "cell_type": "code",
      "metadata": {
        "id": "l6fnRljpoI8H",
        "colab": {
          "base_uri": "https://localhost:8080/"
        },
        "outputId": "93c3accf-94c4-4fbb-8ead-8d77c0262685"
      },
      "source": [
        "from sklearn.model_selection import train_test_split\r\n",
        "from sklearn.metrics import accuracy_score\r\n",
        "from sklearn.model_selection import KFold\r\n",
        "from sklearn.model_selection import cross_val_score\r\n",
        "from sklearn.model_selection import cross_val_predict\r\n",
        "from sklearn.metrics import confusion_matrix\r\n",
        "f = train_dataset.drop(\"Survived\",axis=1)\r\n",
        "t = train_dataset[\"Survived\"]\r\n",
        "X_train,X_test,y_train,y_test = train_test_split(f,t,test_size=0.3,random_state=1)\r\n",
        "X_train.shape,X_test.shape,y_train.shape,y_test.shape"
      ],
      "execution_count": null,
      "outputs": [
        {
          "output_type": "execute_result",
          "data": {
            "text/plain": [
              "((623, 16), (268, 16), (623,), (268,))"
            ]
          },
          "metadata": {
            "tags": []
          },
          "execution_count": 46
        }
      ]
    },
    {
      "cell_type": "code",
      "metadata": {
        "colab": {
          "base_uri": "https://localhost:8080/"
        },
        "id": "LrTsn0s3yZE5",
        "outputId": "86891dbc-98d8-4007-deba-53e6bbfb8ee9"
      },
      "source": [
        "print(X_train.iloc[0])"
      ],
      "execution_count": null,
      "outputs": [
        {
          "output_type": "stream",
          "text": [
            "Pclass                    3\n",
            "Sex                       1\n",
            "SibSp                     0\n",
            "Parch                     0\n",
            "Title                     2\n",
            "Age_type_Children         0\n",
            "Age_type_Teenage          1\n",
            "Age_type_Adult            0\n",
            "Age_type_Elder            0\n",
            "Em_type_C                 1\n",
            "Em_type_Q                 0\n",
            "Em_type_S                 0\n",
            "Fare_type_Low_fare        0\n",
            "Fare_type_median_fare     0\n",
            "Fare_type_Average_fare    1\n",
            "Fare_type_high_fare       0\n",
            "Name: 114, dtype: int64\n"
          ],
          "name": "stdout"
        }
      ]
    },
    {
      "cell_type": "code",
      "metadata": {
        "id": "IaLRC4ANxZ_M"
      },
      "source": [
        "from sklearn.tree import DecisionTreeClassifier\r\n",
        "from sklearn import tree\r\n",
        "model= DecisionTreeClassifier(criterion='gini', min_samples_split=10,min_samples_leaf=1,max_features='auto')\r\n",
        "t1=model.fit(X_train,y_train)\r\n",
        "prediction_tree=model.predict(X_test)\r\n",
        "print('The accuracy of the DecisionTree Classifier is',round(accuracy_score(prediction_tree,y_test)*100,2))\r\n",
        "kfold = KFold(n_splits=5, random_state=1)\r\n",
        "result_tree=cross_val_score(model,f,t,cv=5,scoring='accuracy')\r\n",
        "print('The cross validated score for Decision Tree classifier is:',round(result_tree.mean()*100,2))\r\n",
        "y_pred = cross_val_predict(model,f,t,cv=5)\r\n",
        "tree.plot_tree(t1)"
      ],
      "execution_count": null,
      "outputs": []
    },
    {
      "cell_type": "code",
      "metadata": {
        "colab": {
          "base_uri": "https://localhost:8080/"
        },
        "id": "lkn3BF2x2aHm",
        "outputId": "ce4c8277-70f4-48ba-df9a-ae2df8d27445"
      },
      "source": [
        "from sklearn.ensemble import RandomForestClassifier\r\n",
        "model = RandomForestClassifier(criterion='gini', n_estimators=1000,\r\n",
        "                             min_samples_split=10,min_samples_leaf=1,\r\n",
        "                             max_features='auto',oob_score=True,\r\n",
        "                             random_state=1,n_jobs=-1)\r\n",
        "model.fit(X_train,y_train)\r\n",
        "prediction_rm=model.predict(X_test)\r\n",
        "print('The accuracy of the Random Forest Classifier is', round(accuracy_score(prediction_rm,y_test)*100,2))\r\n",
        "kfold = KFold(n_splits=5, random_state=1)\r\n",
        "result_rm=cross_val_score(model,f,t,cv=5,scoring='accuracy')\r\n",
        "print('The cross validated score for Random Forest Classifier is:',round(result_rm.mean()*100,2))\r\n",
        "y_pred = cross_val_predict(model,f,t,cv=5)"
      ],
      "execution_count": null,
      "outputs": [
        {
          "output_type": "stream",
          "text": [
            "The Accuracy of the model\n",
            "The accuracy of the Random Forest Classifier is 78.73\n"
          ],
          "name": "stdout"
        },
        {
          "output_type": "stream",
          "text": [
            "/usr/local/lib/python3.6/dist-packages/sklearn/model_selection/_split.py:296: FutureWarning: Setting a random_state has no effect since shuffle is False. This will raise an error in 0.24. You should leave random_state to its default (None), or set shuffle=True.\n",
            "  FutureWarning\n"
          ],
          "name": "stderr"
        },
        {
          "output_type": "stream",
          "text": [
            "The cross validated score for Random Forest Classifier is: 82.6\n"
          ],
          "name": "stdout"
        }
      ]
    },
    {
      "cell_type": "markdown",
      "metadata": {
        "id": "6ZIiY5YbaAY1"
      },
      "source": [
        ""
      ]
    }
  ]
}