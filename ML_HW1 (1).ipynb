{
  "nbformat": 4,
  "nbformat_minor": 0,
  "metadata": {
    "colab": {
      "name": "ML-HW1",
      "provenance": []
    },
    "kernelspec": {
      "name": "python3",
      "display_name": "Python 3"
    }
  },
  "cells": [
    {
      "cell_type": "code",
      "metadata": {
        "id": "Oa2sHdHWjC7e"
      },
      "source": [
        "import pandas as pd\r\n",
        "import numpy as np\r\n",
        "import matplotlib.pyplot as plt"
      ],
      "execution_count": 351,
      "outputs": []
    },
    {
      "cell_type": "code",
      "metadata": {
        "id": "MVGJy2dGjj8R"
      },
      "source": [
        "train_dataset=pd.read_csv(\"train.csv\")\r\n",
        "test_data=pd.read_csv(\"test.csv\")"
      ],
      "execution_count": 352,
      "outputs": []
    },
    {
      "cell_type": "code",
      "metadata": {
        "id": "rPUBM089zl0H"
      },
      "source": [
        "categorical=['Name','Sex','Ticket','Cabin','Embarked']"
      ],
      "execution_count": 353,
      "outputs": []
    },
    {
      "cell_type": "code",
      "metadata": {
        "id": "5yIp8nXFkjfG"
      },
      "source": [
        "X = train_dataset.iloc[:,[2,4,5]].values\r\n",
        "Y = train_dataset.iloc[:,[1]].values"
      ],
      "execution_count": 354,
      "outputs": []
    },
    {
      "cell_type": "code",
      "metadata": {
        "id": "ETDOZgeDlam0"
      },
      "source": [
        "from sklearn.model_selection import train_test_split\r\n",
        "X_train,X_test,Y_train,Y_test= train_test_split(X,Y,test_size=0.2,random_state=1)\r\n"
      ],
      "execution_count": 355,
      "outputs": []
    },
    {
      "cell_type": "code",
      "metadata": {
        "id": "ju4OzDRIn_F4",
        "colab": {
          "base_uri": "https://localhost:8080/"
        },
        "outputId": "6ee2c71c-23ed-4bd7-999c-3344b69f150d"
      },
      "source": [
        "print(train_dataset.isnull().sum())"
      ],
      "execution_count": 356,
      "outputs": [
        {
          "output_type": "stream",
          "text": [
            "PassengerId      0\n",
            "Survived         0\n",
            "Pclass           0\n",
            "Name             0\n",
            "Sex              0\n",
            "Age            177\n",
            "SibSp            0\n",
            "Parch            0\n",
            "Ticket           0\n",
            "Fare             0\n",
            "Cabin          687\n",
            "Embarked         2\n",
            "dtype: int64\n"
          ],
          "name": "stdout"
        }
      ]
    },
    {
      "cell_type": "code",
      "metadata": {
        "id": "l6fnRljpoI8H"
      },
      "source": [
        "from sklearn.compose import ColumnTransformer\r\n",
        "from sklearn.preprocessing import OneHotEncoder\r\n",
        "ct=ColumnTransformer(transformers=[('encoder', OneHotEncoder(), [1])], remainder='passthrough')\r\n",
        "X_train=ct.fit_transform(X_train)\r\n",
        "X_test=ct.fit_transform(X_test)"
      ],
      "execution_count": 357,
      "outputs": []
    },
    {
      "cell_type": "code",
      "metadata": {
        "id": "MLpbz6bnzHYd"
      },
      "source": [
        "survived = train_dataset[train_dataset['Survived']==1]['Sex'].value_counts()\r\n",
        "dead = train_dataset[train_dataset['Survived']==0]['Sex'].value_counts()"
      ],
      "execution_count": 358,
      "outputs": []
    },
    {
      "cell_type": "code",
      "metadata": {
        "id": "T9DgpCy3zZ6J",
        "colab": {
          "base_uri": "https://localhost:8080/"
        },
        "outputId": "4aa5b520-9402-4a25-e0b6-9bcf102a76ab"
      },
      "source": [
        "print(survived)"
      ],
      "execution_count": 359,
      "outputs": [
        {
          "output_type": "stream",
          "text": [
            "female    233\n",
            "male      109\n",
            "Name: Sex, dtype: int64\n"
          ],
          "name": "stdout"
        }
      ]
    },
    {
      "cell_type": "code",
      "metadata": {
        "id": "AwKsKcwm3mcB",
        "colab": {
          "base_uri": "https://localhost:8080/"
        },
        "outputId": "105840a8-14a7-4147-f463-db7277b25eb7"
      },
      "source": [
        "print(X_train)"
      ],
      "execution_count": 360,
      "outputs": [
        {
          "output_type": "stream",
          "text": [
            "[[0.0 1.0 3 nan]\n",
            " [1.0 0.0 1 30.0]\n",
            " [1.0 0.0 2 34.0]\n",
            " ...\n",
            " [0.0 1.0 2 21.0]\n",
            " [1.0 0.0 3 nan]\n",
            " [0.0 1.0 3 21.0]]\n"
          ],
          "name": "stdout"
        }
      ]
    },
    {
      "cell_type": "code",
      "metadata": {
        "id": "oJjAMG4u5YiZ",
        "colab": {
          "base_uri": "https://localhost:8080/"
        },
        "outputId": "90731032-51c5-42ec-f750-fd527736c78e"
      },
      "source": [
        "print(X_test)\r\n"
      ],
      "execution_count": 361,
      "outputs": [
        {
          "output_type": "stream",
          "text": [
            "[[1.0 0.0 1 48.0]\n",
            " [0.0 1.0 3 nan]\n",
            " [1.0 0.0 2 17.0]\n",
            " [1.0 0.0 3 nan]\n",
            " [1.0 0.0 2 7.0]\n",
            " [0.0 1.0 3 21.0]\n",
            " [0.0 1.0 2 36.5]\n",
            " [1.0 0.0 1 35.0]\n",
            " [0.0 1.0 1 28.0]\n",
            " [1.0 0.0 3 nan]\n",
            " [0.0 1.0 3 25.0]\n",
            " [1.0 0.0 3 26.0]\n",
            " [0.0 1.0 1 54.0]\n",
            " [0.0 1.0 2 nan]\n",
            " [1.0 0.0 3 nan]\n",
            " [0.0 1.0 1 28.0]\n",
            " [0.0 1.0 3 10.0]\n",
            " [0.0 1.0 3 24.0]\n",
            " [0.0 1.0 3 36.0]\n",
            " [1.0 0.0 2 24.0]\n",
            " [0.0 1.0 3 32.0]\n",
            " [0.0 1.0 3 26.0]\n",
            " [1.0 0.0 1 24.0]\n",
            " [0.0 1.0 2 18.0]\n",
            " [1.0 0.0 3 14.5]\n",
            " [0.0 1.0 3 27.0]\n",
            " [1.0 0.0 1 21.0]\n",
            " [1.0 0.0 2 42.0]\n",
            " [0.0 1.0 2 26.0]\n",
            " [1.0 0.0 1 22.0]\n",
            " [1.0 0.0 3 22.0]\n",
            " [0.0 1.0 1 nan]\n",
            " [1.0 0.0 3 39.0]\n",
            " [1.0 0.0 3 25.0]\n",
            " [0.0 1.0 3 40.5]\n",
            " [1.0 0.0 3 5.0]\n",
            " [0.0 1.0 1 36.0]\n",
            " [0.0 1.0 3 nan]\n",
            " [0.0 1.0 1 25.0]\n",
            " [0.0 1.0 3 20.0]\n",
            " [1.0 0.0 3 27.0]\n",
            " [1.0 0.0 3 27.0]\n",
            " [1.0 0.0 1 47.0]\n",
            " [0.0 1.0 1 45.5]\n",
            " [0.0 1.0 2 1.0]\n",
            " [0.0 1.0 3 35.0]\n",
            " [0.0 1.0 3 11.0]\n",
            " [0.0 1.0 2 39.0]\n",
            " [0.0 1.0 1 35.0]\n",
            " [0.0 1.0 2 16.0]\n",
            " [0.0 1.0 2 nan]\n",
            " [1.0 0.0 2 21.0]\n",
            " [0.0 1.0 2 19.0]\n",
            " [0.0 1.0 2 36.0]\n",
            " [0.0 1.0 3 29.0]\n",
            " [1.0 0.0 3 24.0]\n",
            " [0.0 1.0 2 29.0]\n",
            " [0.0 1.0 1 61.0]\n",
            " [0.0 1.0 3 39.0]\n",
            " [1.0 0.0 3 20.0]\n",
            " [1.0 0.0 3 nan]\n",
            " [0.0 1.0 3 nan]\n",
            " [0.0 1.0 2 28.0]\n",
            " [0.0 1.0 1 45.0]\n",
            " [0.0 1.0 1 27.0]\n",
            " [1.0 0.0 3 29.0]\n",
            " [0.0 1.0 3 20.0]\n",
            " [0.0 1.0 3 26.0]\n",
            " [1.0 0.0 3 2.0]\n",
            " [0.0 1.0 2 43.0]\n",
            " [0.0 1.0 3 24.0]\n",
            " [0.0 1.0 3 14.0]\n",
            " [0.0 1.0 1 46.0]\n",
            " [0.0 1.0 3 nan]\n",
            " [1.0 0.0 2 57.0]\n",
            " [0.0 1.0 2 31.0]\n",
            " [1.0 0.0 1 35.0]\n",
            " [0.0 1.0 3 nan]\n",
            " [0.0 1.0 1 58.0]\n",
            " [1.0 0.0 1 16.0]\n",
            " [0.0 1.0 3 26.0]\n",
            " [0.0 1.0 3 nan]\n",
            " [0.0 1.0 3 nan]\n",
            " [0.0 1.0 3 34.0]\n",
            " [1.0 0.0 2 23.0]\n",
            " [0.0 1.0 3 29.0]\n",
            " [0.0 1.0 3 nan]\n",
            " [0.0 1.0 3 nan]\n",
            " [1.0 0.0 3 6.0]\n",
            " [1.0 0.0 2 30.0]\n",
            " [0.0 1.0 1 47.0]\n",
            " [0.0 1.0 3 nan]\n",
            " [0.0 1.0 3 25.0]\n",
            " [1.0 0.0 3 nan]\n",
            " [0.0 1.0 3 nan]\n",
            " [0.0 1.0 1 30.0]\n",
            " [0.0 1.0 3 59.0]\n",
            " [1.0 0.0 3 nan]\n",
            " [0.0 1.0 3 19.0]\n",
            " [0.0 1.0 3 nan]\n",
            " [0.0 1.0 1 nan]\n",
            " [0.0 1.0 1 38.0]\n",
            " [0.0 1.0 3 nan]\n",
            " [1.0 0.0 3 18.0]\n",
            " [1.0 0.0 1 16.0]\n",
            " [0.0 1.0 3 23.0]\n",
            " [0.0 1.0 3 29.0]\n",
            " [0.0 1.0 3 29.0]\n",
            " [0.0 1.0 3 7.0]\n",
            " [0.0 1.0 3 42.0]\n",
            " [0.0 1.0 1 49.0]\n",
            " [0.0 1.0 3 22.0]\n",
            " [0.0 1.0 2 48.0]\n",
            " [0.0 1.0 3 25.0]\n",
            " [0.0 1.0 2 23.0]\n",
            " [0.0 1.0 3 33.0]\n",
            " [0.0 1.0 2 29.0]\n",
            " [0.0 1.0 1 31.0]\n",
            " [1.0 0.0 2 36.0]\n",
            " [1.0 0.0 3 31.0]\n",
            " [1.0 0.0 2 28.0]\n",
            " [0.0 1.0 1 52.0]\n",
            " [0.0 1.0 3 nan]\n",
            " [0.0 1.0 2 18.0]\n",
            " [1.0 0.0 1 31.0]\n",
            " [1.0 0.0 1 19.0]\n",
            " [1.0 0.0 2 28.0]\n",
            " [1.0 0.0 3 22.0]\n",
            " [0.0 1.0 3 nan]\n",
            " [0.0 1.0 3 nan]\n",
            " [0.0 1.0 3 24.0]\n",
            " [0.0 1.0 3 44.0]\n",
            " [1.0 0.0 3 0.75]\n",
            " [0.0 1.0 1 27.0]\n",
            " [1.0 0.0 3 33.0]\n",
            " [1.0 0.0 1 58.0]\n",
            " [1.0 0.0 1 18.0]\n",
            " [0.0 1.0 3 1.0]\n",
            " [0.0 1.0 3 18.0]\n",
            " [1.0 0.0 3 23.0]\n",
            " [1.0 0.0 1 25.0]\n",
            " [0.0 1.0 3 39.0]\n",
            " [1.0 0.0 1 14.0]\n",
            " [1.0 0.0 3 nan]\n",
            " [0.0 1.0 3 nan]\n",
            " [1.0 0.0 3 18.0]\n",
            " [0.0 1.0 2 31.0]\n",
            " [0.0 1.0 3 nan]\n",
            " [1.0 0.0 3 39.0]\n",
            " [0.0 1.0 3 22.0]\n",
            " [1.0 0.0 3 2.0]\n",
            " [0.0 1.0 3 49.0]\n",
            " [0.0 1.0 3 2.0]\n",
            " [1.0 0.0 3 22.0]\n",
            " [0.0 1.0 3 nan]\n",
            " [0.0 1.0 3 32.0]\n",
            " [0.0 1.0 3 22.0]\n",
            " [0.0 1.0 3 42.0]\n",
            " [1.0 0.0 2 27.0]\n",
            " [0.0 1.0 2 23.0]\n",
            " [0.0 1.0 2 37.0]\n",
            " [0.0 1.0 3 28.0]\n",
            " [1.0 0.0 3 21.0]\n",
            " [0.0 1.0 1 28.0]\n",
            " [0.0 1.0 3 26.0]\n",
            " [1.0 0.0 3 15.0]\n",
            " [1.0 0.0 2 24.0]\n",
            " [0.0 1.0 3 nan]\n",
            " [0.0 1.0 3 16.0]\n",
            " [0.0 1.0 1 58.0]\n",
            " [1.0 0.0 1 35.0]\n",
            " [1.0 0.0 3 2.0]\n",
            " [1.0 0.0 1 30.0]\n",
            " [0.0 1.0 3 18.0]\n",
            " [1.0 0.0 1 49.0]\n",
            " [0.0 1.0 1 nan]\n",
            " [0.0 1.0 3 nan]\n",
            " [0.0 1.0 3 21.0]\n",
            " [1.0 0.0 3 5.0]]\n"
          ],
          "name": "stdout"
        }
      ]
    },
    {
      "cell_type": "code",
      "metadata": {
        "id": "TwS0HLY18vPi"
      },
      "source": [
        "train_dataset['Age'].fillna(train_dataset['Age'].median(), inplace = True)\r\n",
        "test_data[\"Age\"].fillna(test_data['Age'].median(), inplace=True)\r\n"
      ],
      "execution_count": 362,
      "outputs": []
    },
    {
      "cell_type": "code",
      "metadata": {
        "id": "LmXHqGVr2JnR",
        "colab": {
          "base_uri": "https://localhost:8080/"
        },
        "outputId": "69f3815a-6eb4-4cd6-a212-856d319f8fec"
      },
      "source": [
        "numerical=[\"Age\",\"Fare\"]\r\n",
        "for i in numerical:\r\n",
        "  count_num=d=train_dataset[i].describe()\r\n",
        "  print(count_num)"
      ],
      "execution_count": 363,
      "outputs": [
        {
          "output_type": "stream",
          "text": [
            "count    891.000000\n",
            "mean      29.361582\n",
            "std       13.019697\n",
            "min        0.420000\n",
            "25%       22.000000\n",
            "50%       28.000000\n",
            "75%       35.000000\n",
            "max       80.000000\n",
            "Name: Age, dtype: float64\n",
            "count    891.000000\n",
            "mean      32.204208\n",
            "std       49.693429\n",
            "min        0.000000\n",
            "25%        7.910400\n",
            "50%       14.454200\n",
            "75%       31.000000\n",
            "max      512.329200\n",
            "Name: Fare, dtype: float64\n"
          ],
          "name": "stdout"
        }
      ]
    },
    {
      "cell_type": "code",
      "metadata": {
        "id": "xo31onQAqAkL"
      },
      "source": [
        "Pclass_count=train_dataset['Pclass'].count()\r\n",
        "Pclass_unique=train_dataset['Pclass'].nunique()\r\n",
        "Pclass_top=train_dataset['Pclass'].value_counts().idxmax()\r\n",
        "Pclass_freq=train_dataset[train_dataset['Pclass']==3].count()\r\n"
      ],
      "execution_count": 364,
      "outputs": []
    },
    {
      "cell_type": "code",
      "metadata": {
        "id": "onKOGvfIvgfG",
        "colab": {
          "base_uri": "https://localhost:8080/"
        },
        "outputId": "dbcb5609-1e21-433d-becb-759032429086"
      },
      "source": [
        "for i in range(len(categorical)):  \r\n",
        "  Pclass1=d=train_dataset[categorical[i]].describe(include=['0'])\r\n",
        "  print(Pclass1,\"\\n\")"
      ],
      "execution_count": 365,
      "outputs": [
        {
          "output_type": "stream",
          "text": [
            "count                         891\n",
            "unique                        891\n",
            "top       Chapman, Mr. John Henry\n",
            "freq                            1\n",
            "Name: Name, dtype: object \n",
            "\n",
            "count      891\n",
            "unique       2\n",
            "top       male\n",
            "freq       577\n",
            "Name: Sex, dtype: object \n",
            "\n",
            "count      891\n",
            "unique     681\n",
            "top       1601\n",
            "freq         7\n",
            "Name: Ticket, dtype: object \n",
            "\n",
            "count     204\n",
            "unique    147\n",
            "top        G6\n",
            "freq        4\n",
            "Name: Cabin, dtype: object \n",
            "\n",
            "count     889\n",
            "unique      3\n",
            "top         S\n",
            "freq      644\n",
            "Name: Embarked, dtype: object \n",
            "\n"
          ],
          "name": "stdout"
        }
      ]
    },
    {
      "cell_type": "code",
      "metadata": {
        "id": "-qR_EGEuy3Ru"
      },
      "source": [
        "survived_class = train_dataset[train_dataset['Survived']==1]['Pclass'].value_counts()\r\n",
        "dead_class = train_dataset[train_dataset['Survived']==0]['Pclass'].value_counts()"
      ],
      "execution_count": 366,
      "outputs": []
    },
    {
      "cell_type": "code",
      "metadata": {
        "colab": {
          "base_uri": "https://localhost:8080/"
        },
        "id": "i3bYr7sVz8kX",
        "outputId": "d4b19cef-1fa6-4b10-f3dc-9b7156f2d46b"
      },
      "source": [
        "print(dead_class)"
      ],
      "execution_count": 367,
      "outputs": [
        {
          "output_type": "stream",
          "text": [
            "3    372\n",
            "2     97\n",
            "1     80\n",
            "Name: Pclass, dtype: int64\n"
          ],
          "name": "stdout"
        }
      ]
    },
    {
      "cell_type": "code",
      "metadata": {
        "id": "h5QW_-ev1nd7"
      },
      "source": [
        "corr=survived_class.corr(train_dataset[\"Pclass\"]==1)"
      ],
      "execution_count": 368,
      "outputs": []
    },
    {
      "cell_type": "code",
      "metadata": {
        "colab": {
          "base_uri": "https://localhost:8080/"
        },
        "id": "Qj0q0U5r3j-9",
        "outputId": "993b3940-25f8-450b-c3f0-9bf9829155be"
      },
      "source": [
        "corr"
      ],
      "execution_count": 369,
      "outputs": [
        {
          "output_type": "execute_result",
          "data": {
            "text/plain": [
              "0.9398294967903258"
            ]
          },
          "metadata": {
            "tags": []
          },
          "execution_count": 369
        }
      ]
    },
    {
      "cell_type": "code",
      "metadata": {
        "id": "2OPC1sUA3llr"
      },
      "source": [
        "survived_sex = train_dataset[train_dataset['Survived']==1]['Sex'].value_counts()\r\n",
        "dead_sex = train_dataset[train_dataset['Survived']==0]['Sex'].value_counts()"
      ],
      "execution_count": 370,
      "outputs": []
    },
    {
      "cell_type": "code",
      "metadata": {
        "colab": {
          "base_uri": "https://localhost:8080/"
        },
        "id": "0pOf-PBc5elu",
        "outputId": "3d4c591b-c738-4550-e37b-09a28029fe4e"
      },
      "source": [
        "survived_sex"
      ],
      "execution_count": 371,
      "outputs": [
        {
          "output_type": "execute_result",
          "data": {
            "text/plain": [
              "female    233\n",
              "male      109\n",
              "Name: Sex, dtype: int64"
            ]
          },
          "metadata": {
            "tags": []
          },
          "execution_count": 371
        }
      ]
    },
    {
      "cell_type": "code",
      "metadata": {
        "id": "4X-j9Xff5iTa"
      },
      "source": [
        "survived_age = train_dataset[train_dataset['Survived']==1]['Age'].value_counts()\r\n",
        "dead_age = train_dataset[train_dataset['Survived']==0]['Age'].value_counts()"
      ],
      "execution_count": 372,
      "outputs": []
    },
    {
      "cell_type": "code",
      "metadata": {
        "colab": {
          "base_uri": "https://localhost:8080/"
        },
        "id": "DfaWHYGV59Cg",
        "outputId": "0caa2787-e61f-4a33-a393-0f23f2ad5db2"
      },
      "source": [
        "survived_age"
      ],
      "execution_count": 373,
      "outputs": [
        {
          "output_type": "execute_result",
          "data": {
            "text/plain": [
              "28.00    59\n",
              "24.00    15\n",
              "36.00    11\n",
              "35.00    11\n",
              "27.00    11\n",
              "         ..\n",
              "80.00     1\n",
              "7.00      1\n",
              "32.50     1\n",
              "12.00     1\n",
              "0.67      1\n",
              "Name: Age, Length: 65, dtype: int64"
            ]
          },
          "metadata": {
            "tags": []
          },
          "execution_count": 373
        }
      ]
    },
    {
      "cell_type": "code",
      "metadata": {
        "id": "Ad38XpXe5-wc"
      },
      "source": [
        "train_dataset['Age_bin'] = pd.cut(train_dataset['Age'], bins=[0,4,25,80,100], labels=['Infants','Teenage','Adult','oldest'])"
      ],
      "execution_count": 374,
      "outputs": []
    },
    {
      "cell_type": "code",
      "metadata": {
        "colab": {
          "base_uri": "https://localhost:8080/",
          "height": 526
        },
        "id": "1iq8VN03KVCV",
        "outputId": "b6f6aee1-9846-4409-95e3-66c8854f3125"
      },
      "source": [
        "g = sns.FacetGrid(train_dataset, col='Survived', height=7)\r\n",
        "g.map(plt.hist, 'Age', bins=20)"
      ],
      "execution_count": 396,
      "outputs": [
        {
          "output_type": "execute_result",
          "data": {
            "text/plain": [
              "<seaborn.axisgrid.FacetGrid at 0x7fe9a1003be0>"
            ]
          },
          "metadata": {
            "tags": []
          },
          "execution_count": 396
        },
        {
          "output_type": "display_data",
          "data": {
            "image/png": "[encoded data removed]",
            "text/plain": [
              "<Figure size 1008x504 with 2 Axes>"
            ]
          },
          "metadata": {
            "tags": []
          }
        }
      ]
    },
    {
      "cell_type": "code",
      "metadata": {
        "colab": {
          "base_uri": "https://localhost:8080/"
        },
        "id": "-aBAkilh8P9Z",
        "outputId": "80e2f94b-7553-4aa4-be71-031f2036cf50"
      },
      "source": [
        "train_dataset['Age_bin']"
      ],
      "execution_count": 376,
      "outputs": [
        {
          "output_type": "execute_result",
          "data": {
            "text/plain": [
              "0      Teenage\n",
              "1        Adult\n",
              "2        Adult\n",
              "3        Adult\n",
              "4        Adult\n",
              "        ...   \n",
              "886      Adult\n",
              "887    Teenage\n",
              "888      Adult\n",
              "889      Adult\n",
              "890      Adult\n",
              "Name: Age_bin, Length: 891, dtype: category\n",
              "Categories (4, object): ['Infants' < 'Teenage' < 'Adult' < 'oldest']"
            ]
          },
          "metadata": {
            "tags": []
          },
          "execution_count": 376
        }
      ]
    },
    {
      "cell_type": "code",
      "metadata": {
        "colab": {
          "base_uri": "https://localhost:8080/",
          "height": 534
        },
        "id": "e3spXQFC8SHs",
        "outputId": "855a49b0-692b-459a-bd5b-54a8a27bb0f0"
      },
      "source": [
        "grid = sns.FacetGrid(train_dataset, col='Survived', row='Pclass', size=2.2, aspect=1.6)\r\n",
        "grid.map(plt.hist, 'Age', bins=20)\r\n",
        "grid.add_legend();"
      ],
      "execution_count": 377,
      "outputs": [
        {
          "output_type": "stream",
          "text": [
            "/usr/local/lib/python3.6/dist-packages/seaborn/axisgrid.py:316: UserWarning: The `size` parameter has been renamed to `height`; please update your code.\n",
            "  warnings.warn(msg, UserWarning)\n"
          ],
          "name": "stderr"
        },
        {
          "output_type": "display_data",
          "data": {
            "image/png": "[encoded data removed]",
            "text/plain": [
              "<Figure size 515.68x475.2 with 6 Axes>"
            ]
          },
          "metadata": {
            "tags": []
          }
        }
      ]
    },
    {
      "cell_type": "code",
      "metadata": {
        "colab": {
          "base_uri": "https://localhost:8080/",
          "height": 437
        },
        "id": "-PQFIWxUYLZD",
        "outputId": "7c0db236-c839-453b-c58c-6b7a0245747e"
      },
      "source": [
        "import seaborn as sns\r\n",
        "g = sns.FacetGrid(train_dataset, col=\"Pclass\", row=\"Survived\", margin_titles=True)\r\n",
        "g.map(plt.hist, \"Age\",color=\"blue\");"
      ],
      "execution_count": 378,
      "outputs": [
        {
          "output_type": "display_data",
          "data": {
            "image/png": "[encoded data removed]",
            "text/plain": [
              "<Figure size 648x432 with 6 Axes>"
            ]
          },
          "metadata": {
            "tags": []
          }
        }
      ]
    },
    {
      "cell_type": "code",
      "metadata": {
        "id": "vZuODwu-892S"
      },
      "source": [
        "train_dataset['Fare'].fillna(train_dataset['Fare'].median(), inplace = True)\r\n"
      ],
      "execution_count": 379,
      "outputs": []
    },
    {
      "cell_type": "code",
      "metadata": {
        "colab": {
          "base_uri": "https://localhost:8080/",
          "height": 509
        },
        "id": "q8dMqmHZxMsN",
        "outputId": "720a88ba-d5b5-4e05-c3bb-548d0e39dde0"
      },
      "source": [
        "g1 = sns.FacetGrid(train_dataset, col=\"Embarked\", row=\"Survived\", margin_titles=True)\r\n",
        "g1.map(sns.barplot, \"Sex\", \"Fare\", color=\"blue\")"
      ],
      "execution_count": 380,
      "outputs": [
        {
          "output_type": "stream",
          "text": [
            "/usr/local/lib/python3.6/dist-packages/seaborn/axisgrid.py:643: UserWarning: Using the barplot function without specifying `order` is likely to produce an incorrect plot.\n",
            "  warnings.warn(warning)\n"
          ],
          "name": "stderr"
        },
        {
          "output_type": "execute_result",
          "data": {
            "text/plain": [
              "<seaborn.axisgrid.FacetGrid at 0x7fe991ab1908>"
            ]
          },
          "metadata": {
            "tags": []
          },
          "execution_count": 380
        },
        {
          "output_type": "display_data",
          "data": {
            "image/png": "[encoded data removed]",
            "text/plain": [
              "<Figure size 648x432 with 6 Axes>"
            ]
          },
          "metadata": {
            "tags": []
          }
        }
      ]
    },
    {
      "cell_type": "code",
      "metadata": {
        "colab": {
          "base_uri": "https://localhost:8080/"
        },
        "id": "FuAcJ0HAxNk_",
        "outputId": "ed1e2f13-74c6-48f4-ea06-5ce554abd741"
      },
      "source": [
        "tickets=train_dataset[\"Ticket\"].nunique()\r\n",
        "n=train_dataset[\"Ticket\"].count()\r\n",
        "duplicated=100-(((tickets/n)*100))\r\n",
        "duplicated"
      ],
      "execution_count": 381,
      "outputs": [
        {
          "output_type": "execute_result",
          "data": {
            "text/plain": [
              "23.56902356902357"
            ]
          },
          "metadata": {
            "tags": []
          },
          "execution_count": 381
        }
      ]
    },
    {
      "cell_type": "code",
      "metadata": {
        "colab": {
          "base_uri": "https://localhost:8080/"
        },
        "id": "wp-RQpo5_ZHU",
        "outputId": "7bb6eb9b-8688-4e39-a8d9-a00e9aac2c18"
      },
      "source": [
        "train_dataset.corr()[\"Survived\"]"
      ],
      "execution_count": 382,
      "outputs": [
        {
          "output_type": "execute_result",
          "data": {
            "text/plain": [
              "PassengerId   -0.005007\n",
              "Survived       1.000000\n",
              "Pclass        -0.338481\n",
              "Age           -0.064910\n",
              "SibSp         -0.035322\n",
              "Parch          0.081629\n",
              "Fare           0.257307\n",
              "Name: Survived, dtype: float64"
            ]
          },
          "metadata": {
            "tags": []
          },
          "execution_count": 382
        }
      ]
    },
    {
      "cell_type": "code",
      "metadata": {
        "colab": {
          "base_uri": "https://localhost:8080/"
        },
        "id": "MwrSnngYBa1t",
        "outputId": "b12b18c4-4cc9-4669-a13e-1b6a45ec8a13"
      },
      "source": [
        "train_dataset[\"Cabin\"].isna().sum()"
      ],
      "execution_count": 383,
      "outputs": [
        {
          "output_type": "execute_result",
          "data": {
            "text/plain": [
              "687"
            ]
          },
          "metadata": {
            "tags": []
          },
          "execution_count": 383
        }
      ]
    },
    {
      "cell_type": "code",
      "metadata": {
        "colab": {
          "base_uri": "https://localhost:8080/"
        },
        "id": "OFG_VcQANINh",
        "outputId": "cdf0fa90-7be6-4f5f-f1ed-25790f9ad812"
      },
      "source": [
        "test_data[\"Cabin\"].isna().sum()"
      ],
      "execution_count": 384,
      "outputs": [
        {
          "output_type": "execute_result",
          "data": {
            "text/plain": [
              "327"
            ]
          },
          "metadata": {
            "tags": []
          },
          "execution_count": 384
        }
      ]
    },
    {
      "cell_type": "code",
      "metadata": {
        "id": "bs9UYpLONN0r"
      },
      "source": [
        "train_dataset = pd.get_dummies(train_dataset, columns = [\"Sex\"],prefix=[\"Sex\"]) "
      ],
      "execution_count": 385,
      "outputs": []
    },
    {
      "cell_type": "code",
      "metadata": {
        "id": "EBP9IrkMic3r",
        "colab": {
          "base_uri": "https://localhost:8080/",
          "height": 492
        },
        "outputId": "c82f9a52-c558-4cd5-cf41-058ebf91cb06"
      },
      "source": [
        "train_dataset"
      ],
      "execution_count": 386,
      "outputs": [
        {
          "output_type": "execute_result",
          "data": {
            "text/html": [
              "<div>\n",
              "<style scoped>\n",
              "    .dataframe tbody tr th:only-of-type {\n",
              "        vertical-align: middle;\n",
              "    }\n",
              "\n",
              "    .dataframe tbody tr th {\n",
              "        vertical-align: top;\n",
              "    }\n",
              "\n",
              "    .dataframe thead th {\n",
              "        text-align: right;\n",
              "    }\n",
              "</style>\n",
              "<table border=\"1\" class=\"dataframe\">\n",
              "  <thead>\n",
              "    <tr style=\"text-align: right;\">\n",
              "      <th></th>\n",
              "      <th>PassengerId</th>\n",
              "      <th>Survived</th>\n",
              "      <th>Pclass</th>\n",
              "      <th>Name</th>\n",
              "      <th>Age</th>\n",
              "      <th>SibSp</th>\n",
              "      <th>Parch</th>\n",
              "      <th>Ticket</th>\n",
              "      <th>Fare</th>\n",
              "      <th>Cabin</th>\n",
              "      <th>Embarked</th>\n",
              "      <th>Age_bin</th>\n",
              "      <th>Sex_female</th>\n",
              "      <th>Sex_male</th>\n",
              "    </tr>\n",
              "  </thead>\n",
              "  <tbody>\n",
              "    <tr>\n",
              "      <th>0</th>\n",
              "      <td>1</td>\n",
              "      <td>0</td>\n",
              "      <td>3</td>\n",
              "      <td>Braund, Mr. Owen Harris</td>\n",
              "      <td>22.0</td>\n",
              "      <td>1</td>\n",
              "      <td>0</td>\n",
              "      <td>A/5 21171</td>\n",
              "      <td>7.2500</td>\n",
              "      <td>NaN</td>\n",
              "      <td>S</td>\n",
              "      <td>Teenage</td>\n",
              "      <td>0</td>\n",
              "      <td>1</td>\n",
              "    </tr>\n",
              "    <tr>\n",
              "      <th>1</th>\n",
              "      <td>2</td>\n",
              "      <td>1</td>\n",
              "      <td>1</td>\n",
              "      <td>Cumings, Mrs. John Bradley (Florence Briggs Th...</td>\n",
              "      <td>38.0</td>\n",
              "      <td>1</td>\n",
              "      <td>0</td>\n",
              "      <td>PC 17599</td>\n",
              "      <td>71.2833</td>\n",
              "      <td>C85</td>\n",
              "      <td>C</td>\n",
              "      <td>Adult</td>\n",
              "      <td>1</td>\n",
              "      <td>0</td>\n",
              "    </tr>\n",
              "    <tr>\n",
              "      <th>2</th>\n",
              "      <td>3</td>\n",
              "      <td>1</td>\n",
              "      <td>3</td>\n",
              "      <td>Heikkinen, Miss. Laina</td>\n",
              "      <td>26.0</td>\n",
              "      <td>0</td>\n",
              "      <td>0</td>\n",
              "      <td>STON/O2. 3101282</td>\n",
              "      <td>7.9250</td>\n",
              "      <td>NaN</td>\n",
              "      <td>S</td>\n",
              "      <td>Adult</td>\n",
              "      <td>1</td>\n",
              "      <td>0</td>\n",
              "    </tr>\n",
              "    <tr>\n",
              "      <th>3</th>\n",
              "      <td>4</td>\n",
              "      <td>1</td>\n",
              "      <td>1</td>\n",
              "      <td>Futrelle, Mrs. Jacques Heath (Lily May Peel)</td>\n",
              "      <td>35.0</td>\n",
              "      <td>1</td>\n",
              "      <td>0</td>\n",
              "      <td>113803</td>\n",
              "      <td>53.1000</td>\n",
              "      <td>C123</td>\n",
              "      <td>S</td>\n",
              "      <td>Adult</td>\n",
              "      <td>1</td>\n",
              "      <td>0</td>\n",
              "    </tr>\n",
              "    <tr>\n",
              "      <th>4</th>\n",
              "      <td>5</td>\n",
              "      <td>0</td>\n",
              "      <td>3</td>\n",
              "      <td>Allen, Mr. William Henry</td>\n",
              "      <td>35.0</td>\n",
              "      <td>0</td>\n",
              "      <td>0</td>\n",
              "      <td>373450</td>\n",
              "      <td>8.0500</td>\n",
              "      <td>NaN</td>\n",
              "      <td>S</td>\n",
              "      <td>Adult</td>\n",
              "      <td>0</td>\n",
              "      <td>1</td>\n",
              "    </tr>\n",
              "    <tr>\n",
              "      <th>...</th>\n",
              "      <td>...</td>\n",
              "      <td>...</td>\n",
              "      <td>...</td>\n",
              "      <td>...</td>\n",
              "      <td>...</td>\n",
              "      <td>...</td>\n",
              "      <td>...</td>\n",
              "      <td>...</td>\n",
              "      <td>...</td>\n",
              "      <td>...</td>\n",
              "      <td>...</td>\n",
              "      <td>...</td>\n",
              "      <td>...</td>\n",
              "      <td>...</td>\n",
              "    </tr>\n",
              "    <tr>\n",
              "      <th>886</th>\n",
              "      <td>887</td>\n",
              "      <td>0</td>\n",
              "      <td>2</td>\n",
              "      <td>Montvila, Rev. Juozas</td>\n",
              "      <td>27.0</td>\n",
              "      <td>0</td>\n",
              "      <td>0</td>\n",
              "      <td>211536</td>\n",
              "      <td>13.0000</td>\n",
              "      <td>NaN</td>\n",
              "      <td>S</td>\n",
              "      <td>Adult</td>\n",
              "      <td>0</td>\n",
              "      <td>1</td>\n",
              "    </tr>\n",
              "    <tr>\n",
              "      <th>887</th>\n",
              "      <td>888</td>\n",
              "      <td>1</td>\n",
              "      <td>1</td>\n",
              "      <td>Graham, Miss. Margaret Edith</td>\n",
              "      <td>19.0</td>\n",
              "      <td>0</td>\n",
              "      <td>0</td>\n",
              "      <td>112053</td>\n",
              "      <td>30.0000</td>\n",
              "      <td>B42</td>\n",
              "      <td>S</td>\n",
              "      <td>Teenage</td>\n",
              "      <td>1</td>\n",
              "      <td>0</td>\n",
              "    </tr>\n",
              "    <tr>\n",
              "      <th>888</th>\n",
              "      <td>889</td>\n",
              "      <td>0</td>\n",
              "      <td>3</td>\n",
              "      <td>Johnston, Miss. Catherine Helen \"Carrie\"</td>\n",
              "      <td>28.0</td>\n",
              "      <td>1</td>\n",
              "      <td>2</td>\n",
              "      <td>W./C. 6607</td>\n",
              "      <td>23.4500</td>\n",
              "      <td>NaN</td>\n",
              "      <td>S</td>\n",
              "      <td>Adult</td>\n",
              "      <td>1</td>\n",
              "      <td>0</td>\n",
              "    </tr>\n",
              "    <tr>\n",
              "      <th>889</th>\n",
              "      <td>890</td>\n",
              "      <td>1</td>\n",
              "      <td>1</td>\n",
              "      <td>Behr, Mr. Karl Howell</td>\n",
              "      <td>26.0</td>\n",
              "      <td>0</td>\n",
              "      <td>0</td>\n",
              "      <td>111369</td>\n",
              "      <td>30.0000</td>\n",
              "      <td>C148</td>\n",
              "      <td>C</td>\n",
              "      <td>Adult</td>\n",
              "      <td>0</td>\n",
              "      <td>1</td>\n",
              "    </tr>\n",
              "    <tr>\n",
              "      <th>890</th>\n",
              "      <td>891</td>\n",
              "      <td>0</td>\n",
              "      <td>3</td>\n",
              "      <td>Dooley, Mr. Patrick</td>\n",
              "      <td>32.0</td>\n",
              "      <td>0</td>\n",
              "      <td>0</td>\n",
              "      <td>370376</td>\n",
              "      <td>7.7500</td>\n",
              "      <td>NaN</td>\n",
              "      <td>Q</td>\n",
              "      <td>Adult</td>\n",
              "      <td>0</td>\n",
              "      <td>1</td>\n",
              "    </tr>\n",
              "  </tbody>\n",
              "</table>\n",
              "<p>891 rows × 14 columns</p>\n",
              "</div>"
            ],
            "text/plain": [
              "     PassengerId  Survived  Pclass  ...  Age_bin  Sex_female  Sex_male\n",
              "0              1         0       3  ...  Teenage           0         1\n",
              "1              2         1       1  ...    Adult           1         0\n",
              "2              3         1       3  ...    Adult           1         0\n",
              "3              4         1       1  ...    Adult           1         0\n",
              "4              5         0       3  ...    Adult           0         1\n",
              "..           ...       ...     ...  ...      ...         ...       ...\n",
              "886          887         0       2  ...    Adult           0         1\n",
              "887          888         1       1  ...  Teenage           1         0\n",
              "888          889         0       3  ...    Adult           1         0\n",
              "889          890         1       1  ...    Adult           0         1\n",
              "890          891         0       3  ...    Adult           0         1\n",
              "\n",
              "[891 rows x 14 columns]"
            ]
          },
          "metadata": {
            "tags": []
          },
          "execution_count": 386
        }
      ]
    },
    {
      "cell_type": "code",
      "metadata": {
        "id": "JUoiHn0vOS6g",
        "colab": {
          "base_uri": "https://localhost:8080/"
        },
        "outputId": "9f1c10c4-034c-4fd6-9bd7-3cd8d08aa282"
      },
      "source": [
        "from sklearn.impute import KNNImputer\r\n",
        "imputer=KNNImputer(n_neighbors=3)\r\n",
        "train_dataset[\"Age\"]=train_dataset[\"Age\"].values.reshape(-1,1)\r\n",
        "imputer.fit_transform(train_dataset[\"Age\"].values.reshape(-1,1))"
      ],
      "execution_count": 387,
      "outputs": [
        {
          "output_type": "execute_result",
          "data": {
            "text/plain": [
              "array([[22.  ],\n",
              "       [38.  ],\n",
              "       [26.  ],\n",
              "       [35.  ],\n",
              "       [35.  ],\n",
              "       [28.  ],\n",
              "       [54.  ],\n",
              "       [ 2.  ],\n",
              "       [27.  ],\n",
              "       [14.  ],\n",
              "       [ 4.  ],\n",
              "       [58.  ],\n",
              "       [20.  ],\n",
              "       [39.  ],\n",
              "       [14.  ],\n",
              "       [55.  ],\n",
              "       [ 2.  ],\n",
              "       [28.  ],\n",
              "       [31.  ],\n",
              "       [28.  ],\n",
              "       [35.  ],\n",
              "       [34.  ],\n",
              "       [15.  ],\n",
              "       [28.  ],\n",
              "       [ 8.  ],\n",
              "       [38.  ],\n",
              "       [28.  ],\n",
              "       [19.  ],\n",
              "       [28.  ],\n",
              "       [28.  ],\n",
              "       [40.  ],\n",
              "       [28.  ],\n",
              "       [28.  ],\n",
              "       [66.  ],\n",
              "       [28.  ],\n",
              "       [42.  ],\n",
              "       [28.  ],\n",
              "       [21.  ],\n",
              "       [18.  ],\n",
              "       [14.  ],\n",
              "       [40.  ],\n",
              "       [27.  ],\n",
              "       [28.  ],\n",
              "       [ 3.  ],\n",
              "       [19.  ],\n",
              "       [28.  ],\n",
              "       [28.  ],\n",
              "       [28.  ],\n",
              "       [28.  ],\n",
              "       [18.  ],\n",
              "       [ 7.  ],\n",
              "       [21.  ],\n",
              "       [49.  ],\n",
              "       [29.  ],\n",
              "       [65.  ],\n",
              "       [28.  ],\n",
              "       [21.  ],\n",
              "       [28.5 ],\n",
              "       [ 5.  ],\n",
              "       [11.  ],\n",
              "       [22.  ],\n",
              "       [38.  ],\n",
              "       [45.  ],\n",
              "       [ 4.  ],\n",
              "       [28.  ],\n",
              "       [28.  ],\n",
              "       [29.  ],\n",
              "       [19.  ],\n",
              "       [17.  ],\n",
              "       [26.  ],\n",
              "       [32.  ],\n",
              "       [16.  ],\n",
              "       [21.  ],\n",
              "       [26.  ],\n",
              "       [32.  ],\n",
              "       [25.  ],\n",
              "       [28.  ],\n",
              "       [28.  ],\n",
              "       [ 0.83],\n",
              "       [30.  ],\n",
              "       [22.  ],\n",
              "       [29.  ],\n",
              "       [28.  ],\n",
              "       [28.  ],\n",
              "       [17.  ],\n",
              "       [33.  ],\n",
              "       [16.  ],\n",
              "       [28.  ],\n",
              "       [23.  ],\n",
              "       [24.  ],\n",
              "       [29.  ],\n",
              "       [20.  ],\n",
              "       [46.  ],\n",
              "       [26.  ],\n",
              "       [59.  ],\n",
              "       [28.  ],\n",
              "       [71.  ],\n",
              "       [23.  ],\n",
              "       [34.  ],\n",
              "       [34.  ],\n",
              "       [28.  ],\n",
              "       [28.  ],\n",
              "       [21.  ],\n",
              "       [33.  ],\n",
              "       [37.  ],\n",
              "       [28.  ],\n",
              "       [21.  ],\n",
              "       [28.  ],\n",
              "       [38.  ],\n",
              "       [28.  ],\n",
              "       [47.  ],\n",
              "       [14.5 ],\n",
              "       [22.  ],\n",
              "       [20.  ],\n",
              "       [17.  ],\n",
              "       [21.  ],\n",
              "       [70.5 ],\n",
              "       [29.  ],\n",
              "       [24.  ],\n",
              "       [ 2.  ],\n",
              "       [21.  ],\n",
              "       [28.  ],\n",
              "       [32.5 ],\n",
              "       [32.5 ],\n",
              "       [54.  ],\n",
              "       [12.  ],\n",
              "       [28.  ],\n",
              "       [24.  ],\n",
              "       [28.  ],\n",
              "       [45.  ],\n",
              "       [33.  ],\n",
              "       [20.  ],\n",
              "       [47.  ],\n",
              "       [29.  ],\n",
              "       [25.  ],\n",
              "       [23.  ],\n",
              "       [19.  ],\n",
              "       [37.  ],\n",
              "       [16.  ],\n",
              "       [24.  ],\n",
              "       [28.  ],\n",
              "       [22.  ],\n",
              "       [24.  ],\n",
              "       [19.  ],\n",
              "       [18.  ],\n",
              "       [19.  ],\n",
              "       [27.  ],\n",
              "       [ 9.  ],\n",
              "       [36.5 ],\n",
              "       [42.  ],\n",
              "       [51.  ],\n",
              "       [22.  ],\n",
              "       [55.5 ],\n",
              "       [40.5 ],\n",
              "       [28.  ],\n",
              "       [51.  ],\n",
              "       [16.  ],\n",
              "       [30.  ],\n",
              "       [28.  ],\n",
              "       [28.  ],\n",
              "       [44.  ],\n",
              "       [40.  ],\n",
              "       [26.  ],\n",
              "       [17.  ],\n",
              "       [ 1.  ],\n",
              "       [ 9.  ],\n",
              "       [28.  ],\n",
              "       [45.  ],\n",
              "       [28.  ],\n",
              "       [28.  ],\n",
              "       [61.  ],\n",
              "       [ 4.  ],\n",
              "       [ 1.  ],\n",
              "       [21.  ],\n",
              "       [56.  ],\n",
              "       [18.  ],\n",
              "       [28.  ],\n",
              "       [50.  ],\n",
              "       [30.  ],\n",
              "       [36.  ],\n",
              "       [28.  ],\n",
              "       [28.  ],\n",
              "       [ 9.  ],\n",
              "       [ 1.  ],\n",
              "       [ 4.  ],\n",
              "       [28.  ],\n",
              "       [28.  ],\n",
              "       [45.  ],\n",
              "       [40.  ],\n",
              "       [36.  ],\n",
              "       [32.  ],\n",
              "       [19.  ],\n",
              "       [19.  ],\n",
              "       [ 3.  ],\n",
              "       [44.  ],\n",
              "       [58.  ],\n",
              "       [28.  ],\n",
              "       [42.  ],\n",
              "       [28.  ],\n",
              "       [24.  ],\n",
              "       [28.  ],\n",
              "       [28.  ],\n",
              "       [34.  ],\n",
              "       [45.5 ],\n",
              "       [18.  ],\n",
              "       [ 2.  ],\n",
              "       [32.  ],\n",
              "       [26.  ],\n",
              "       [16.  ],\n",
              "       [40.  ],\n",
              "       [24.  ],\n",
              "       [35.  ],\n",
              "       [22.  ],\n",
              "       [30.  ],\n",
              "       [28.  ],\n",
              "       [31.  ],\n",
              "       [27.  ],\n",
              "       [42.  ],\n",
              "       [32.  ],\n",
              "       [30.  ],\n",
              "       [16.  ],\n",
              "       [27.  ],\n",
              "       [51.  ],\n",
              "       [28.  ],\n",
              "       [38.  ],\n",
              "       [22.  ],\n",
              "       [19.  ],\n",
              "       [20.5 ],\n",
              "       [18.  ],\n",
              "       [28.  ],\n",
              "       [35.  ],\n",
              "       [29.  ],\n",
              "       [59.  ],\n",
              "       [ 5.  ],\n",
              "       [24.  ],\n",
              "       [28.  ],\n",
              "       [44.  ],\n",
              "       [ 8.  ],\n",
              "       [19.  ],\n",
              "       [33.  ],\n",
              "       [28.  ],\n",
              "       [28.  ],\n",
              "       [29.  ],\n",
              "       [22.  ],\n",
              "       [30.  ],\n",
              "       [44.  ],\n",
              "       [25.  ],\n",
              "       [24.  ],\n",
              "       [37.  ],\n",
              "       [54.  ],\n",
              "       [28.  ],\n",
              "       [29.  ],\n",
              "       [62.  ],\n",
              "       [30.  ],\n",
              "       [41.  ],\n",
              "       [29.  ],\n",
              "       [28.  ],\n",
              "       [30.  ],\n",
              "       [35.  ],\n",
              "       [50.  ],\n",
              "       [28.  ],\n",
              "       [ 3.  ],\n",
              "       [52.  ],\n",
              "       [40.  ],\n",
              "       [28.  ],\n",
              "       [36.  ],\n",
              "       [16.  ],\n",
              "       [25.  ],\n",
              "       [58.  ],\n",
              "       [35.  ],\n",
              "       [28.  ],\n",
              "       [25.  ],\n",
              "       [41.  ],\n",
              "       [37.  ],\n",
              "       [28.  ],\n",
              "       [63.  ],\n",
              "       [45.  ],\n",
              "       [28.  ],\n",
              "       [ 7.  ],\n",
              "       [35.  ],\n",
              "       [65.  ],\n",
              "       [28.  ],\n",
              "       [16.  ],\n",
              "       [19.  ],\n",
              "       [28.  ],\n",
              "       [33.  ],\n",
              "       [30.  ],\n",
              "       [22.  ],\n",
              "       [42.  ],\n",
              "       [22.  ],\n",
              "       [26.  ],\n",
              "       [19.  ],\n",
              "       [36.  ],\n",
              "       [24.  ],\n",
              "       [24.  ],\n",
              "       [28.  ],\n",
              "       [23.5 ],\n",
              "       [ 2.  ],\n",
              "       [28.  ],\n",
              "       [50.  ],\n",
              "       [28.  ],\n",
              "       [28.  ],\n",
              "       [19.  ],\n",
              "       [28.  ],\n",
              "       [28.  ],\n",
              "       [ 0.92],\n",
              "       [28.  ],\n",
              "       [17.  ],\n",
              "       [30.  ],\n",
              "       [30.  ],\n",
              "       [24.  ],\n",
              "       [18.  ],\n",
              "       [26.  ],\n",
              "       [28.  ],\n",
              "       [43.  ],\n",
              "       [26.  ],\n",
              "       [24.  ],\n",
              "       [54.  ],\n",
              "       [31.  ],\n",
              "       [40.  ],\n",
              "       [22.  ],\n",
              "       [27.  ],\n",
              "       [30.  ],\n",
              "       [22.  ],\n",
              "       [28.  ],\n",
              "       [36.  ],\n",
              "       [61.  ],\n",
              "       [36.  ],\n",
              "       [31.  ],\n",
              "       [16.  ],\n",
              "       [28.  ],\n",
              "       [45.5 ],\n",
              "       [38.  ],\n",
              "       [16.  ],\n",
              "       [28.  ],\n",
              "       [28.  ],\n",
              "       [29.  ],\n",
              "       [41.  ],\n",
              "       [45.  ],\n",
              "       [45.  ],\n",
              "       [ 2.  ],\n",
              "       [24.  ],\n",
              "       [28.  ],\n",
              "       [25.  ],\n",
              "       [36.  ],\n",
              "       [24.  ],\n",
              "       [40.  ],\n",
              "       [28.  ],\n",
              "       [ 3.  ],\n",
              "       [42.  ],\n",
              "       [23.  ],\n",
              "       [28.  ],\n",
              "       [15.  ],\n",
              "       [25.  ],\n",
              "       [28.  ],\n",
              "       [28.  ],\n",
              "       [22.  ],\n",
              "       [38.  ],\n",
              "       [28.  ],\n",
              "       [28.  ],\n",
              "       [40.  ],\n",
              "       [29.  ],\n",
              "       [45.  ],\n",
              "       [35.  ],\n",
              "       [28.  ],\n",
              "       [30.  ],\n",
              "       [60.  ],\n",
              "       [28.  ],\n",
              "       [28.  ],\n",
              "       [24.  ],\n",
              "       [25.  ],\n",
              "       [18.  ],\n",
              "       [19.  ],\n",
              "       [22.  ],\n",
              "       [ 3.  ],\n",
              "       [28.  ],\n",
              "       [22.  ],\n",
              "       [27.  ],\n",
              "       [20.  ],\n",
              "       [19.  ],\n",
              "       [42.  ],\n",
              "       [ 1.  ],\n",
              "       [32.  ],\n",
              "       [35.  ],\n",
              "       [28.  ],\n",
              "       [18.  ],\n",
              "       [ 1.  ],\n",
              "       [36.  ],\n",
              "       [28.  ],\n",
              "       [17.  ],\n",
              "       [36.  ],\n",
              "       [21.  ],\n",
              "       [28.  ],\n",
              "       [23.  ],\n",
              "       [24.  ],\n",
              "       [22.  ],\n",
              "       [31.  ],\n",
              "       [46.  ],\n",
              "       [23.  ],\n",
              "       [28.  ],\n",
              "       [39.  ],\n",
              "       [26.  ],\n",
              "       [21.  ],\n",
              "       [28.  ],\n",
              "       [20.  ],\n",
              "       [34.  ],\n",
              "       [51.  ],\n",
              "       [ 3.  ],\n",
              "       [21.  ],\n",
              "       [28.  ],\n",
              "       [28.  ],\n",
              "       [28.  ],\n",
              "       [33.  ],\n",
              "       [28.  ],\n",
              "       [44.  ],\n",
              "       [28.  ],\n",
              "       [34.  ],\n",
              "       [18.  ],\n",
              "       [30.  ],\n",
              "       [10.  ],\n",
              "       [28.  ],\n",
              "       [21.  ],\n",
              "       [29.  ],\n",
              "       [28.  ],\n",
              "       [18.  ],\n",
              "       [28.  ],\n",
              "       [28.  ],\n",
              "       [19.  ],\n",
              "       [28.  ],\n",
              "       [32.  ],\n",
              "       [28.  ],\n",
              "       [28.  ],\n",
              "       [42.  ],\n",
              "       [17.  ],\n",
              "       [50.  ],\n",
              "       [14.  ],\n",
              "       [21.  ],\n",
              "       [24.  ],\n",
              "       [64.  ],\n",
              "       [31.  ],\n",
              "       [45.  ],\n",
              "       [20.  ],\n",
              "       [25.  ],\n",
              "       [28.  ],\n",
              "       [28.  ],\n",
              "       [ 4.  ],\n",
              "       [13.  ],\n",
              "       [34.  ],\n",
              "       [ 5.  ],\n",
              "       [52.  ],\n",
              "       [36.  ],\n",
              "       [28.  ],\n",
              "       [30.  ],\n",
              "       [49.  ],\n",
              "       [28.  ],\n",
              "       [29.  ],\n",
              "       [65.  ],\n",
              "       [28.  ],\n",
              "       [50.  ],\n",
              "       [28.  ],\n",
              "       [48.  ],\n",
              "       [34.  ],\n",
              "       [47.  ],\n",
              "       [48.  ],\n",
              "       [28.  ],\n",
              "       [38.  ],\n",
              "       [28.  ],\n",
              "       [56.  ],\n",
              "       [28.  ],\n",
              "       [ 0.75],\n",
              "       [28.  ],\n",
              "       [38.  ],\n",
              "       [33.  ],\n",
              "       [23.  ],\n",
              "       [22.  ],\n",
              "       [28.  ],\n",
              "       [34.  ],\n",
              "       [29.  ],\n",
              "       [22.  ],\n",
              "       [ 2.  ],\n",
              "       [ 9.  ],\n",
              "       [28.  ],\n",
              "       [50.  ],\n",
              "       [63.  ],\n",
              "       [25.  ],\n",
              "       [28.  ],\n",
              "       [35.  ],\n",
              "       [58.  ],\n",
              "       [30.  ],\n",
              "       [ 9.  ],\n",
              "       [28.  ],\n",
              "       [21.  ],\n",
              "       [55.  ],\n",
              "       [71.  ],\n",
              "       [21.  ],\n",
              "       [28.  ],\n",
              "       [54.  ],\n",
              "       [28.  ],\n",
              "       [25.  ],\n",
              "       [24.  ],\n",
              "       [17.  ],\n",
              "       [21.  ],\n",
              "       [28.  ],\n",
              "       [37.  ],\n",
              "       [16.  ],\n",
              "       [18.  ],\n",
              "       [33.  ],\n",
              "       [28.  ],\n",
              "       [28.  ],\n",
              "       [26.  ],\n",
              "       [29.  ],\n",
              "       [28.  ],\n",
              "       [36.  ],\n",
              "       [54.  ],\n",
              "       [24.  ],\n",
              "       [47.  ],\n",
              "       [34.  ],\n",
              "       [28.  ],\n",
              "       [36.  ],\n",
              "       [32.  ],\n",
              "       [30.  ],\n",
              "       [22.  ],\n",
              "       [28.  ],\n",
              "       [44.  ],\n",
              "       [28.  ],\n",
              "       [40.5 ],\n",
              "       [50.  ],\n",
              "       [28.  ],\n",
              "       [39.  ],\n",
              "       [23.  ],\n",
              "       [ 2.  ],\n",
              "       [28.  ],\n",
              "       [17.  ],\n",
              "       [28.  ],\n",
              "       [30.  ],\n",
              "       [ 7.  ],\n",
              "       [45.  ],\n",
              "       [30.  ],\n",
              "       [28.  ],\n",
              "       [22.  ],\n",
              "       [36.  ],\n",
              "       [ 9.  ],\n",
              "       [11.  ],\n",
              "       [32.  ],\n",
              "       [50.  ],\n",
              "       [64.  ],\n",
              "       [19.  ],\n",
              "       [28.  ],\n",
              "       [33.  ],\n",
              "       [ 8.  ],\n",
              "       [17.  ],\n",
              "       [27.  ],\n",
              "       [28.  ],\n",
              "       [22.  ],\n",
              "       [22.  ],\n",
              "       [62.  ],\n",
              "       [48.  ],\n",
              "       [28.  ],\n",
              "       [39.  ],\n",
              "       [36.  ],\n",
              "       [28.  ],\n",
              "       [40.  ],\n",
              "       [28.  ],\n",
              "       [28.  ],\n",
              "       [28.  ],\n",
              "       [24.  ],\n",
              "       [19.  ],\n",
              "       [29.  ],\n",
              "       [28.  ],\n",
              "       [32.  ],\n",
              "       [62.  ],\n",
              "       [53.  ],\n",
              "       [36.  ],\n",
              "       [28.  ],\n",
              "       [16.  ],\n",
              "       [19.  ],\n",
              "       [34.  ],\n",
              "       [39.  ],\n",
              "       [28.  ],\n",
              "       [32.  ],\n",
              "       [25.  ],\n",
              "       [39.  ],\n",
              "       [54.  ],\n",
              "       [36.  ],\n",
              "       [28.  ],\n",
              "       [18.  ],\n",
              "       [47.  ],\n",
              "       [60.  ],\n",
              "       [22.  ],\n",
              "       [28.  ],\n",
              "       [35.  ],\n",
              "       [52.  ],\n",
              "       [47.  ],\n",
              "       [28.  ],\n",
              "       [37.  ],\n",
              "       [36.  ],\n",
              "       [28.  ],\n",
              "       [49.  ],\n",
              "       [28.  ],\n",
              "       [49.  ],\n",
              "       [24.  ],\n",
              "       [28.  ],\n",
              "       [28.  ],\n",
              "       [44.  ],\n",
              "       [35.  ],\n",
              "       [36.  ],\n",
              "       [30.  ],\n",
              "       [27.  ],\n",
              "       [22.  ],\n",
              "       [40.  ],\n",
              "       [39.  ],\n",
              "       [28.  ],\n",
              "       [28.  ],\n",
              "       [28.  ],\n",
              "       [35.  ],\n",
              "       [24.  ],\n",
              "       [34.  ],\n",
              "       [26.  ],\n",
              "       [ 4.  ],\n",
              "       [26.  ],\n",
              "       [27.  ],\n",
              "       [42.  ],\n",
              "       [20.  ],\n",
              "       [21.  ],\n",
              "       [21.  ],\n",
              "       [61.  ],\n",
              "       [57.  ],\n",
              "       [21.  ],\n",
              "       [26.  ],\n",
              "       [28.  ],\n",
              "       [80.  ],\n",
              "       [51.  ],\n",
              "       [32.  ],\n",
              "       [28.  ],\n",
              "       [ 9.  ],\n",
              "       [28.  ],\n",
              "       [32.  ],\n",
              "       [31.  ],\n",
              "       [41.  ],\n",
              "       [28.  ],\n",
              "       [20.  ],\n",
              "       [24.  ],\n",
              "       [ 2.  ],\n",
              "       [28.  ],\n",
              "       [ 0.75],\n",
              "       [48.  ],\n",
              "       [19.  ],\n",
              "       [56.  ],\n",
              "       [28.  ],\n",
              "       [23.  ],\n",
              "       [28.  ],\n",
              "       [18.  ],\n",
              "       [21.  ],\n",
              "       [28.  ],\n",
              "       [18.  ],\n",
              "       [24.  ],\n",
              "       [28.  ],\n",
              "       [32.  ],\n",
              "       [23.  ],\n",
              "       [58.  ],\n",
              "       [50.  ],\n",
              "       [40.  ],\n",
              "       [47.  ],\n",
              "       [36.  ],\n",
              "       [20.  ],\n",
              "       [32.  ],\n",
              "       [25.  ],\n",
              "       [28.  ],\n",
              "       [43.  ],\n",
              "       [28.  ],\n",
              "       [40.  ],\n",
              "       [31.  ],\n",
              "       [70.  ],\n",
              "       [31.  ],\n",
              "       [28.  ],\n",
              "       [18.  ],\n",
              "       [24.5 ],\n",
              "       [18.  ],\n",
              "       [43.  ],\n",
              "       [36.  ],\n",
              "       [28.  ],\n",
              "       [27.  ],\n",
              "       [20.  ],\n",
              "       [14.  ],\n",
              "       [60.  ],\n",
              "       [25.  ],\n",
              "       [14.  ],\n",
              "       [19.  ],\n",
              "       [18.  ],\n",
              "       [15.  ],\n",
              "       [31.  ],\n",
              "       [ 4.  ],\n",
              "       [28.  ],\n",
              "       [25.  ],\n",
              "       [60.  ],\n",
              "       [52.  ],\n",
              "       [44.  ],\n",
              "       [28.  ],\n",
              "       [49.  ],\n",
              "       [42.  ],\n",
              "       [18.  ],\n",
              "       [35.  ],\n",
              "       [18.  ],\n",
              "       [25.  ],\n",
              "       [26.  ],\n",
              "       [39.  ],\n",
              "       [45.  ],\n",
              "       [42.  ],\n",
              "       [22.  ],\n",
              "       [28.  ],\n",
              "       [24.  ],\n",
              "       [28.  ],\n",
              "       [48.  ],\n",
              "       [29.  ],\n",
              "       [52.  ],\n",
              "       [19.  ],\n",
              "       [38.  ],\n",
              "       [27.  ],\n",
              "       [28.  ],\n",
              "       [33.  ],\n",
              "       [ 6.  ],\n",
              "       [17.  ],\n",
              "       [34.  ],\n",
              "       [50.  ],\n",
              "       [27.  ],\n",
              "       [20.  ],\n",
              "       [30.  ],\n",
              "       [28.  ],\n",
              "       [25.  ],\n",
              "       [25.  ],\n",
              "       [29.  ],\n",
              "       [11.  ],\n",
              "       [28.  ],\n",
              "       [23.  ],\n",
              "       [23.  ],\n",
              "       [28.5 ],\n",
              "       [48.  ],\n",
              "       [35.  ],\n",
              "       [28.  ],\n",
              "       [28.  ],\n",
              "       [28.  ],\n",
              "       [36.  ],\n",
              "       [21.  ],\n",
              "       [24.  ],\n",
              "       [31.  ],\n",
              "       [70.  ],\n",
              "       [16.  ],\n",
              "       [30.  ],\n",
              "       [19.  ],\n",
              "       [31.  ],\n",
              "       [ 4.  ],\n",
              "       [ 6.  ],\n",
              "       [33.  ],\n",
              "       [23.  ],\n",
              "       [48.  ],\n",
              "       [ 0.67],\n",
              "       [28.  ],\n",
              "       [18.  ],\n",
              "       [34.  ],\n",
              "       [33.  ],\n",
              "       [28.  ],\n",
              "       [41.  ],\n",
              "       [20.  ],\n",
              "       [36.  ],\n",
              "       [16.  ],\n",
              "       [51.  ],\n",
              "       [28.  ],\n",
              "       [30.5 ],\n",
              "       [28.  ],\n",
              "       [32.  ],\n",
              "       [24.  ],\n",
              "       [48.  ],\n",
              "       [57.  ],\n",
              "       [28.  ],\n",
              "       [54.  ],\n",
              "       [18.  ],\n",
              "       [28.  ],\n",
              "       [ 5.  ],\n",
              "       [28.  ],\n",
              "       [43.  ],\n",
              "       [13.  ],\n",
              "       [17.  ],\n",
              "       [29.  ],\n",
              "       [28.  ],\n",
              "       [25.  ],\n",
              "       [25.  ],\n",
              "       [18.  ],\n",
              "       [ 8.  ],\n",
              "       [ 1.  ],\n",
              "       [46.  ],\n",
              "       [28.  ],\n",
              "       [16.  ],\n",
              "       [28.  ],\n",
              "       [28.  ],\n",
              "       [25.  ],\n",
              "       [39.  ],\n",
              "       [49.  ],\n",
              "       [31.  ],\n",
              "       [30.  ],\n",
              "       [30.  ],\n",
              "       [34.  ],\n",
              "       [31.  ],\n",
              "       [11.  ],\n",
              "       [ 0.42],\n",
              "       [27.  ],\n",
              "       [31.  ],\n",
              "       [39.  ],\n",
              "       [18.  ],\n",
              "       [39.  ],\n",
              "       [33.  ],\n",
              "       [26.  ],\n",
              "       [39.  ],\n",
              "       [35.  ],\n",
              "       [ 6.  ],\n",
              "       [30.5 ],\n",
              "       [28.  ],\n",
              "       [23.  ],\n",
              "       [31.  ],\n",
              "       [43.  ],\n",
              "       [10.  ],\n",
              "       [52.  ],\n",
              "       [27.  ],\n",
              "       [38.  ],\n",
              "       [27.  ],\n",
              "       [ 2.  ],\n",
              "       [28.  ],\n",
              "       [28.  ],\n",
              "       [ 1.  ],\n",
              "       [28.  ],\n",
              "       [62.  ],\n",
              "       [15.  ],\n",
              "       [ 0.83],\n",
              "       [28.  ],\n",
              "       [23.  ],\n",
              "       [18.  ],\n",
              "       [39.  ],\n",
              "       [21.  ],\n",
              "       [28.  ],\n",
              "       [32.  ],\n",
              "       [28.  ],\n",
              "       [20.  ],\n",
              "       [16.  ],\n",
              "       [30.  ],\n",
              "       [34.5 ],\n",
              "       [17.  ],\n",
              "       [42.  ],\n",
              "       [28.  ],\n",
              "       [35.  ],\n",
              "       [28.  ],\n",
              "       [28.  ],\n",
              "       [ 4.  ],\n",
              "       [74.  ],\n",
              "       [ 9.  ],\n",
              "       [16.  ],\n",
              "       [44.  ],\n",
              "       [18.  ],\n",
              "       [45.  ],\n",
              "       [51.  ],\n",
              "       [24.  ],\n",
              "       [28.  ],\n",
              "       [41.  ],\n",
              "       [21.  ],\n",
              "       [48.  ],\n",
              "       [28.  ],\n",
              "       [24.  ],\n",
              "       [42.  ],\n",
              "       [27.  ],\n",
              "       [31.  ],\n",
              "       [28.  ],\n",
              "       [ 4.  ],\n",
              "       [26.  ],\n",
              "       [47.  ],\n",
              "       [33.  ],\n",
              "       [47.  ],\n",
              "       [28.  ],\n",
              "       [15.  ],\n",
              "       [20.  ],\n",
              "       [19.  ],\n",
              "       [28.  ],\n",
              "       [56.  ],\n",
              "       [25.  ],\n",
              "       [33.  ],\n",
              "       [22.  ],\n",
              "       [28.  ],\n",
              "       [25.  ],\n",
              "       [39.  ],\n",
              "       [27.  ],\n",
              "       [19.  ],\n",
              "       [28.  ],\n",
              "       [26.  ],\n",
              "       [32.  ]])"
            ]
          },
          "metadata": {
            "tags": []
          },
          "execution_count": 387
        }
      ]
    },
    {
      "cell_type": "code",
      "metadata": {
        "id": "s19G_IC5R2PC"
      },
      "source": [
        "most_freq=train_dataset[\"Embarked\"].value_counts()"
      ],
      "execution_count": 388,
      "outputs": []
    },
    {
      "cell_type": "code",
      "metadata": {
        "id": "fZXV0-hIcGjZ",
        "colab": {
          "base_uri": "https://localhost:8080/"
        },
        "outputId": "8613fc1f-335d-4c1f-9458-e5b4c49f3e53"
      },
      "source": [
        "train_dataset[\"Embarked\"].fillna('S')"
      ],
      "execution_count": 389,
      "outputs": [
        {
          "output_type": "execute_result",
          "data": {
            "text/plain": [
              "0      S\n",
              "1      C\n",
              "2      S\n",
              "3      S\n",
              "4      S\n",
              "      ..\n",
              "886    S\n",
              "887    S\n",
              "888    S\n",
              "889    C\n",
              "890    Q\n",
              "Name: Embarked, Length: 891, dtype: object"
            ]
          },
          "metadata": {
            "tags": []
          },
          "execution_count": 389
        }
      ]
    },
    {
      "cell_type": "code",
      "metadata": {
        "id": "cDp91iNOcH_I"
      },
      "source": [
        "train_dataset['Fare'].fillna(train_dataset['Fare'].dropna().median(), inplace=True)"
      ],
      "execution_count": 390,
      "outputs": []
    },
    {
      "cell_type": "code",
      "metadata": {
        "id": "49TUElTuf8LM",
        "colab": {
          "base_uri": "https://localhost:8080/"
        },
        "outputId": "00138ffb-6f92-4916-e44a-034161230cd2"
      },
      "source": [
        "train_dataset[\"Fare\"]"
      ],
      "execution_count": 391,
      "outputs": [
        {
          "output_type": "execute_result",
          "data": {
            "text/plain": [
              "0       7.2500\n",
              "1      71.2833\n",
              "2       7.9250\n",
              "3      53.1000\n",
              "4       8.0500\n",
              "        ...   \n",
              "886    13.0000\n",
              "887    30.0000\n",
              "888    23.4500\n",
              "889    30.0000\n",
              "890     7.7500\n",
              "Name: Fare, Length: 891, dtype: float64"
            ]
          },
          "metadata": {
            "tags": []
          },
          "execution_count": 391
        }
      ]
    },
    {
      "cell_type": "code",
      "metadata": {
        "id": "Q9v8dw9-nfx5"
      },
      "source": [
        "r = [0, 7.91, 14.454, 31.0, 512.329]\r\n",
        "g = [0,1,2,3]\r\n",
        "train_dataset[\"Fare\"] = pd.cut(train_dataset[\"Fare\"], bins=r, labels=g)"
      ],
      "execution_count": 392,
      "outputs": []
    },
    {
      "cell_type": "code",
      "metadata": {
        "id": "a3j3uUByoW9W",
        "colab": {
          "base_uri": "https://localhost:8080/"
        },
        "outputId": "21b984fa-4bdd-4ec1-ff8c-9022e34b60c6"
      },
      "source": [
        "train_dataset[\"Fare\"]"
      ],
      "execution_count": 393,
      "outputs": [
        {
          "output_type": "execute_result",
          "data": {
            "text/plain": [
              "0      0\n",
              "1      3\n",
              "2      1\n",
              "3      3\n",
              "4      1\n",
              "      ..\n",
              "886    1\n",
              "887    2\n",
              "888    2\n",
              "889    2\n",
              "890    0\n",
              "Name: Fare, Length: 891, dtype: category\n",
              "Categories (4, int64): [0 < 1 < 2 < 3]"
            ]
          },
          "metadata": {
            "tags": []
          },
          "execution_count": 393
        }
      ]
    }
  ]
}